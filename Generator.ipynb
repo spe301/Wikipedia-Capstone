{
  "nbformat": 4,
  "nbformat_minor": 0,
  "metadata": {
    "colab": {
      "name": "Generator.ipynb",
      "provenance": [],
      "collapsed_sections": [],
      "machine_shape": "hm",
      "authorship_tag": "ABX9TyMRqO3oHg8fygPMC4suKN26",
      "include_colab_link": true
    },
    "kernelspec": {
      "name": "python3",
      "display_name": "Python 3"
    },
    "accelerator": "GPU"
  },
  "cells": [
    {
      "cell_type": "markdown",
      "metadata": {
        "id": "view-in-github",
        "colab_type": "text"
      },
      "source": [
        "<a href=\"https://colab.research.google.com/github/spe301/Wikipedia-Capstone/blob/main/Generator.ipynb\" target=\"_parent\"><img src=\"https://colab.research.google.com/assets/colab-badge.svg\" alt=\"Open In Colab\"/></a>"
      ]
    },
    {
      "cell_type": "markdown",
      "metadata": {
        "id": "1uLr3JSmzITA"
      },
      "source": [
        "## Downgrading to tensorflow 1.x\r\n",
        "\r\n",
        "Gpt2 is incompatable with tensorflow 2 due to it's dependance on the contrib file"
      ]
    },
    {
      "cell_type": "code",
      "metadata": {
        "colab": {
          "base_uri": "https://localhost:8080/"
        },
        "id": "erm0up4CcU1h",
        "outputId": "12174632-f3ae-427a-c20f-f7cb44d4f1c6"
      },
      "source": [
        "!pip install tensorflow-gpu==1.15"
      ],
      "execution_count": null,
      "outputs": [
        {
          "output_type": "stream",
          "text": [
            "Collecting tensorflow-gpu==1.15\n",
            "\u001b[?25l  Downloading https://files.pythonhosted.org/packages/a5/ad/933140e74973fb917a194ab814785e7c23680ca5dee6d663a509fe9579b6/tensorflow_gpu-1.15.0-cp36-cp36m-manylinux2010_x86_64.whl (411.5MB)\n",
            "\u001b[K     |████████████████████████████████| 411.5MB 36kB/s \n",
            "\u001b[?25hCollecting gast==0.2.2\n",
            "  Downloading https://files.pythonhosted.org/packages/4e/35/11749bf99b2d4e3cceb4d55ca22590b0d7c2c62b9de38ac4a4a7f4687421/gast-0.2.2.tar.gz\n",
            "Requirement already satisfied: wheel>=0.26 in /usr/local/lib/python3.6/dist-packages (from tensorflow-gpu==1.15) (0.36.2)\n",
            "Requirement already satisfied: numpy<2.0,>=1.16.0 in /usr/local/lib/python3.6/dist-packages (from tensorflow-gpu==1.15) (1.19.4)\n",
            "Requirement already satisfied: absl-py>=0.7.0 in /usr/local/lib/python3.6/dist-packages (from tensorflow-gpu==1.15) (0.10.0)\n",
            "Requirement already satisfied: wrapt>=1.11.1 in /usr/local/lib/python3.6/dist-packages (from tensorflow-gpu==1.15) (1.12.1)\n",
            "Requirement already satisfied: astor>=0.6.0 in /usr/local/lib/python3.6/dist-packages (from tensorflow-gpu==1.15) (0.8.1)\n",
            "Requirement already satisfied: google-pasta>=0.1.6 in /usr/local/lib/python3.6/dist-packages (from tensorflow-gpu==1.15) (0.2.0)\n",
            "Collecting tensorboard<1.16.0,>=1.15.0\n",
            "\u001b[?25l  Downloading https://files.pythonhosted.org/packages/1e/e9/d3d747a97f7188f48aa5eda486907f3b345cd409f0a0850468ba867db246/tensorboard-1.15.0-py3-none-any.whl (3.8MB)\n",
            "\u001b[K     |████████████████████████████████| 3.8MB 20.2MB/s \n",
            "\u001b[?25hRequirement already satisfied: termcolor>=1.1.0 in /usr/local/lib/python3.6/dist-packages (from tensorflow-gpu==1.15) (1.1.0)\n",
            "Collecting keras-applications>=1.0.8\n",
            "\u001b[?25l  Downloading https://files.pythonhosted.org/packages/71/e3/19762fdfc62877ae9102edf6342d71b28fbfd9dea3d2f96a882ce099b03f/Keras_Applications-1.0.8-py3-none-any.whl (50kB)\n",
            "\u001b[K     |████████████████████████████████| 51kB 8.1MB/s \n",
            "\u001b[?25hRequirement already satisfied: keras-preprocessing>=1.0.5 in /usr/local/lib/python3.6/dist-packages (from tensorflow-gpu==1.15) (1.1.2)\n",
            "Requirement already satisfied: grpcio>=1.8.6 in /usr/local/lib/python3.6/dist-packages (from tensorflow-gpu==1.15) (1.32.0)\n",
            "Requirement already satisfied: six>=1.10.0 in /usr/local/lib/python3.6/dist-packages (from tensorflow-gpu==1.15) (1.15.0)\n",
            "Requirement already satisfied: opt-einsum>=2.3.2 in /usr/local/lib/python3.6/dist-packages (from tensorflow-gpu==1.15) (3.3.0)\n",
            "Collecting tensorflow-estimator==1.15.1\n",
            "\u001b[?25l  Downloading https://files.pythonhosted.org/packages/de/62/2ee9cd74c9fa2fa450877847ba560b260f5d0fb70ee0595203082dafcc9d/tensorflow_estimator-1.15.1-py2.py3-none-any.whl (503kB)\n",
            "\u001b[K     |████████████████████████████████| 512kB 59.3MB/s \n",
            "\u001b[?25hRequirement already satisfied: protobuf>=3.6.1 in /usr/local/lib/python3.6/dist-packages (from tensorflow-gpu==1.15) (3.12.4)\n",
            "Requirement already satisfied: werkzeug>=0.11.15 in /usr/local/lib/python3.6/dist-packages (from tensorboard<1.16.0,>=1.15.0->tensorflow-gpu==1.15) (1.0.1)\n",
            "Requirement already satisfied: markdown>=2.6.8 in /usr/local/lib/python3.6/dist-packages (from tensorboard<1.16.0,>=1.15.0->tensorflow-gpu==1.15) (3.3.3)\n",
            "Requirement already satisfied: setuptools>=41.0.0 in /usr/local/lib/python3.6/dist-packages (from tensorboard<1.16.0,>=1.15.0->tensorflow-gpu==1.15) (51.0.0)\n",
            "Requirement already satisfied: h5py in /usr/local/lib/python3.6/dist-packages (from keras-applications>=1.0.8->tensorflow-gpu==1.15) (2.10.0)\n",
            "Requirement already satisfied: importlib-metadata; python_version < \"3.8\" in /usr/local/lib/python3.6/dist-packages (from markdown>=2.6.8->tensorboard<1.16.0,>=1.15.0->tensorflow-gpu==1.15) (3.3.0)\n",
            "Requirement already satisfied: typing-extensions>=3.6.4; python_version < \"3.8\" in /usr/local/lib/python3.6/dist-packages (from importlib-metadata; python_version < \"3.8\"->markdown>=2.6.8->tensorboard<1.16.0,>=1.15.0->tensorflow-gpu==1.15) (3.7.4.3)\n",
            "Requirement already satisfied: zipp>=0.5 in /usr/local/lib/python3.6/dist-packages (from importlib-metadata; python_version < \"3.8\"->markdown>=2.6.8->tensorboard<1.16.0,>=1.15.0->tensorflow-gpu==1.15) (3.4.0)\n",
            "Building wheels for collected packages: gast\n",
            "  Building wheel for gast (setup.py) ... \u001b[?25l\u001b[?25hdone\n",
            "  Created wheel for gast: filename=gast-0.2.2-cp36-none-any.whl size=7540 sha256=5c35b070fad980739fd63270e74e29f0bc31e8fe67e44f82e6b4f50820b5c37a\n",
            "  Stored in directory: /root/.cache/pip/wheels/5c/2e/7e/a1d4d4fcebe6c381f378ce7743a3ced3699feb89bcfbdadadd\n",
            "Successfully built gast\n",
            "\u001b[31mERROR: tensorflow 2.4.0 has requirement gast==0.3.3, but you'll have gast 0.2.2 which is incompatible.\u001b[0m\n",
            "\u001b[31mERROR: tensorflow 2.4.0 has requirement tensorboard~=2.4, but you'll have tensorboard 1.15.0 which is incompatible.\u001b[0m\n",
            "\u001b[31mERROR: tensorflow 2.4.0 has requirement tensorflow-estimator<2.5.0,>=2.4.0rc0, but you'll have tensorflow-estimator 1.15.1 which is incompatible.\u001b[0m\n",
            "\u001b[31mERROR: tensorflow-probability 0.11.0 has requirement gast>=0.3.2, but you'll have gast 0.2.2 which is incompatible.\u001b[0m\n",
            "Installing collected packages: gast, tensorboard, keras-applications, tensorflow-estimator, tensorflow-gpu\n",
            "  Found existing installation: gast 0.3.3\n",
            "    Uninstalling gast-0.3.3:\n",
            "      Successfully uninstalled gast-0.3.3\n",
            "  Found existing installation: tensorboard 2.4.0\n",
            "    Uninstalling tensorboard-2.4.0:\n",
            "      Successfully uninstalled tensorboard-2.4.0\n",
            "  Found existing installation: tensorflow-estimator 2.4.0\n",
            "    Uninstalling tensorflow-estimator-2.4.0:\n",
            "      Successfully uninstalled tensorflow-estimator-2.4.0\n",
            "Successfully installed gast-0.2.2 keras-applications-1.0.8 tensorboard-1.15.0 tensorflow-estimator-1.15.1 tensorflow-gpu-1.15.0\n"
          ],
          "name": "stdout"
        }
      ]
    },
    {
      "cell_type": "code",
      "metadata": {
        "colab": {
          "resources": {
            "http://localhost:8080/nbextensions/google.colab/files.js": {
              "data": "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",
              "ok": true,
              "headers": [
                [
                  "content-type",
                  "application/javascript"
                ]
              ],
              "status": 200,
              "status_text": ""
            }
          },
          "base_uri": "https://localhost:8080/",
          "height": 73
        },
        "id": "EzLWsEDybRy4",
        "outputId": "d2673bea-48d9-41d9-96c3-120fb57bd688"
      },
      "source": [
        "from google.colab import files\r\n",
        "path_to_file = list(files.upload().keys())[0]"
      ],
      "execution_count": null,
      "outputs": [
        {
          "output_type": "display_data",
          "data": {
            "text/html": [
              "\n",
              "     <input type=\"file\" id=\"files-8aa45c3e-2b34-49b6-a1a0-88916148b74e\" name=\"files[]\" multiple disabled\n",
              "        style=\"border:none\" />\n",
              "     <output id=\"result-8aa45c3e-2b34-49b6-a1a0-88916148b74e\">\n",
              "      Upload widget is only available when the cell has been executed in the\n",
              "      current browser session. Please rerun this cell to enable.\n",
              "      </output>\n",
              "      <script src=\"/nbextensions/google.colab/files.js\"></script> "
            ],
            "text/plain": [
              "<IPython.core.display.HTML object>"
            ]
          },
          "metadata": {
            "tags": []
          }
        },
        {
          "output_type": "stream",
          "text": [
            "Saving Gpt2Training.txt to Gpt2Training.txt\n"
          ],
          "name": "stdout"
        }
      ]
    },
    {
      "cell_type": "code",
      "metadata": {
        "colab": {
          "base_uri": "https://localhost:8080/"
        },
        "id": "Mwc_nj_x0yoC",
        "outputId": "4908ea86-9384-43a2-91ca-063f5aa07d7c"
      },
      "source": [
        "text = open(path_to_file, 'rb').read().decode(encoding='utf8')\r\n",
        "print('Length of text: {} characters'.format(len(text)))"
      ],
      "execution_count": null,
      "outputs": [
        {
          "output_type": "stream",
          "text": [
            "Length of text: 17026144 characters\n"
          ],
          "name": "stdout"
        }
      ]
    },
    {
      "cell_type": "markdown",
      "metadata": {
        "id": "F6lZHA88zp_5"
      },
      "source": [
        "## Finetuning Gpt2"
      ]
    },
    {
      "cell_type": "code",
      "metadata": {
        "colab": {
          "base_uri": "https://localhost:8080/"
        },
        "id": "4nOmNBcCvL7B",
        "outputId": "3ee9c19e-46e3-4763-9a2c-f22483212bd6"
      },
      "source": [
        "file_name = 'Gpt2Training.txt'\r\n",
        "\r\n",
        "%tensorflow_version 1.x\r\n",
        "!pip install -q gpt-2-simple\r\n",
        "import gpt_2_simple as gpt2\r\n",
        "from datetime import datetime\r\n",
        "from google.colab import files\r\n",
        "gpt2.download_gpt2(model_name=\"355M\")\r\n",
        "gpt2.mount_gdrive()\r\n",
        "#gpt2.copy_file_from_gdrive(file_name)\r\n",
        "\r\n",
        "sess = gpt2.start_tf_sess()\r\n",
        "#gpt2.copy_checkpoint_from_gdrive(run_name='run4')\r\n",
        "\r\n",
        "gpt2.finetune(sess,\r\n",
        "              dataset=file_name,\r\n",
        "              model_name='355M',\r\n",
        "              steps=10400,\r\n",
        "              restore_from='latest',\r\n",
        "              run_name='run4',\r\n",
        "              print_every=400,\r\n",
        "              sample_every=400,\r\n",
        "              save_every=100,\r\n",
        "              overwrite=True,\r\n",
        "              )\r\n",
        "#gpt2.copy_checkpoint_to_gdrive(run_name='run4')"
      ],
      "execution_count": null,
      "outputs": [
        {
          "output_type": "stream",
          "text": [
            "TensorFlow 1.x selected.\n",
            "  Building wheel for gpt-2-simple (setup.py) ... \u001b[?25l\u001b[?25hdone\n",
            "WARNING:tensorflow:\n",
            "The TensorFlow contrib module will not be included in TensorFlow 2.0.\n",
            "For more information, please see:\n",
            "  * https://github.com/tensorflow/community/blob/master/rfcs/20180907-contrib-sunset.md\n",
            "  * https://github.com/tensorflow/addons\n",
            "  * https://github.com/tensorflow/io (for I/O related ops)\n",
            "If you depend on functionality not listed there, please file an issue.\n",
            "\n"
          ],
          "name": "stdout"
        },
        {
          "output_type": "stream",
          "text": [
            "Fetching checkpoint: 1.05Mit [00:00, 480Mit/s]                                                      \n",
            "Fetching encoder.json: 1.05Mit [00:00, 131Mit/s]                                                    \n",
            "Fetching hparams.json: 1.05Mit [00:00, 686Mit/s]                                                    \n",
            "Fetching model.ckpt.data-00000-of-00001: 1.42Git [00:12, 109Mit/s]                                  \n",
            "Fetching model.ckpt.index: 1.05Mit [00:00, 467Mit/s]                                                \n",
            "Fetching model.ckpt.meta: 1.05Mit [00:00, 133Mit/s]                                                 \n",
            "Fetching vocab.bpe: 1.05Mit [00:00, 214Mit/s]                                                       \n"
          ],
          "name": "stderr"
        },
        {
          "output_type": "stream",
          "text": [
            "Mounted at /content/drive\n",
            "WARNING:tensorflow:From /usr/local/lib/python3.6/dist-packages/gpt_2_simple/src/sample.py:17: where (from tensorflow.python.ops.array_ops) is deprecated and will be removed in a future version.\n",
            "Instructions for updating:\n",
            "Use tf.where in 2.0, which has the same broadcast rule as np.where\n",
            "WARNING:tensorflow:From /usr/local/lib/python3.6/dist-packages/gpt_2_simple/src/memory_saving_gradients.py:62: get_backward_walk_ops (from tensorflow.contrib.graph_editor.select) is deprecated and will be removed after 2019-06-06.\n",
            "Instructions for updating:\n",
            "Please use tensorflow.python.ops.op_selector.get_backward_walk_ops.\n",
            "Loading checkpoint models/355M/model.ckpt\n",
            "INFO:tensorflow:Restoring parameters from models/355M/model.ckpt\n"
          ],
          "name": "stdout"
        },
        {
          "output_type": "stream",
          "text": [
            "\r  0%|          | 0/1 [00:00<?, ?it/s]"
          ],
          "name": "stderr"
        },
        {
          "output_type": "stream",
          "text": [
            "Loading dataset...\n"
          ],
          "name": "stdout"
        },
        {
          "output_type": "stream",
          "text": [
            "100%|██████████| 1/1 [00:17<00:00, 17.17s/it]\n"
          ],
          "name": "stderr"
        },
        {
          "output_type": "stream",
          "text": [
            "dataset has 3536642 tokens\n",
            "Training...\n",
            "Saving checkpoint/run4/model-0\n",
            "Saving checkpoint/run4/model-100\n",
            "WARNING:tensorflow:From /tensorflow-1.15.2/python3.6/tensorflow_core/python/training/saver.py:963: remove_checkpoint (from tensorflow.python.training.checkpoint_management) is deprecated and will be removed in a future version.\n",
            "Instructions for updating:\n",
            "Use standard file APIs to delete files with this prefix.\n",
            "Saving checkpoint/run4/model-200\n",
            "Saving checkpoint/run4/model-300\n",
            "[400 | 231.74] loss=3.34 avg=3.34\n",
            "Saving checkpoint/run4/model-400\n",
            "======== SAMPLE 1 ========\n",
            " northwest-ish, or roughly a quarter of the total number of total US residents. there are approximately half a billion residents living in the united states. the estimated number of adult residents living in the united states was 38.6 billion in 2015, and an estimated 3.9015, the number of people living outside of the united states reached an all-time high, with 12.7011, and was a record for a calendar year in many countries. the largest countries for this are france, ukraine and the ukraine region. the following year, the countries with the most people outside of the united states were france, usa, and ukraine. the greatest growth in population in the u.s. has been in the united kingdom in recent years, with a population of about 13.2 billion, which is almost double the population before 2005. the total number of residents in the united states, as a percentage of total population, was 31.3% in 2011, and increased to 37.3% in 2013 from 19.8% in 2010. in 2019, the united states population was about 8.6 percent greater than before.the united nations was founded on the principle that people are equal, regardless of their origin or circumstance and that they should have \"full and equal opportunities to contribute to human life on earth, including including, inter alia, to the pursuit of their full and equal rights. the United Nations is headquartered at headquarters, peacock, north australia, in the u.s. city of peacock, which is the fifth largest city and 12th richest in the world, with a population of more than 23.0 million. with a capital, peacock, of approximately $3.051. the us u.s. census bureau is the official source of the countrys official population count. with a population of over 9.3 million, the us total is less than half its pre-caliphate population. the census bureau collects statistics for the us u.s., usa, and italy; for european union countries and european union states; and for usa, asia, italy, and the us asia.a separate u.s. census bureau is the countrys primary source of demographically and socio-economically specific statistics. the us u.s. census bureau collects statistics for all u.s. inhabitants regardless of their origin, as well as for the usas residents. the us census bureau collects statistics for all u.s. citizens regardless of their origins and regardless of ethnic origin. the us census bureau collects statistics for all u.s. residents regardless of ethnic origin. the us census bureau collects statistics of all non-citizens equally regardless of citizenship. the us census bureau collects statistics for all u.s. citizens regardless of their origin, regardless of ethnic origin. the us census bureau collects statistics of all u.s. citizens regardless of ethnic origin. the us census bureau collects statistics on ethnic groups and the u.s. asia for the first time in 1995. the u.s. census bureau is the only country where it is possible to obtain statistics for u.s. people regardless of ethnic origin. the u.s. census bureau is the only country where it is possible to obtain statistics on u.s. citizens regardless of ethnic origin.the us census bureau maintains a list of individuals who identify as an ethnic u.s.  with a total population of nearly 33 million, about 11.5 percent of the total u.s. inhabitant was  an estimated 15.8 million , the u.s. is projected to become the largest emigré-led economy in the world in 2020, overtaking the united kingdom for the first time.the us u.s. census bureau provides the results of the us census for the united kingdom, u.a. and canada.the u.s. census bureau provides results of the us census for the united countries, with estimated populations of the world over 20,000,000.this is the ninth in a series of six articles about global trends in u.s. population trends. in part one of the series, which was published in 2010, u.s. fertility rates in 2010 were among the highest in the world. the us u.s. has one of the lowest fertility counts in the world, and about 6.6 percent in 2010, the us u.s. had a per capita birth rate that was lower than the next three largest countries. in the united kingdom, the fertility rate was at the lowest rate in the world in the first quarter of 2010 and in a major increase from the third quarter of 2008. a year earlier, the fertility rate among both men and women in the us u.s. was 4.2 for males and 3.2 for females. while the u.s. fertility rate declined in 2007 from its lowest point in at least 2,000 years, as of the end of 2010,\n",
            "\n",
            "Saving checkpoint/run4/model-500\n",
            "Saving checkpoint/run4/model-600\n",
            "Saving checkpoint/run4/model-700\n",
            "[800 | 481.39] loss=2.68 avg=3.01\n",
            "Saving checkpoint/run4/model-800\n",
            "======== SAMPLE 1 ========\n",
            "and of the two men who had been convicted for sodomy, the other was acquitted, citing insufficient evidence to prove beyond a reasonable doubt that he and he were engaged in sodomy. in 1996, a jury acquitted a man who had been a convicted sodomist for sodomy with a jury acquittals by a mistrial on the question whether he was gay and whether the other man, a man who had previously been convicted, had been also sodomized.the trial judge in the trial of two men charged with sodomy for performing oral sex on a woman and later sodomizing her found them not guilty because he had not seen enough evidence to establish at the trial proper burden of proof. in a 2006 trial in spartanburg, dae woon was sodomized by men and then sodomized again by men but found no evidence of sodomy. in a 2007 trial in bakersburg, dae woon was sodomized by men as well as by men who then sodomized him. dae woon, along with two other men, were convicted and were sentenced to prison terms, but the spartanburg circuit court overturned the convictions; the two men were subsequently found not guilty. in 2019 a jury acquitted two men who had been sodomized by men and another man and found that sodomy was not a factor. in 2010, a jury acquitted an accused sex offender accused of sodomy for performing oral sex on another man.the following year, a jury acquitted two men who were sodomized by men and found the other man not guilty of sodomy: one guilty of sodomy, the other acquitted. in 2019, the second man, a former prison guard accused of sodomizing a female inmate, was acquitted after he was found not guilty of sodomy. the court ruled that sodomy did not exist in the sexual assault of a female inmate in a prison.in 2020, a jury acquitted a man of sodomy for having homosexual sex with a man as part of a consensual relationship, as well as another man who had a consensual relationship with a man who allegedly sodomized him. that second man was convicted for sodomy. he pleaded guilty in 2020 and served less than one year in prison. in 2019, a jury acquitted two men of sodomy for having homosexual sex with a male inmate in a prison. the court ruled that sodomy did not occur in that case, but the verdict was stayed at least temporarily so that it could retry the case and decide whether the men were guilty, as well as to decide whether the male inmate is likely to be guilty of sodomy.in an 2019 court case involving a jailer accused of sodomy with a handcuffed male inmate in the gimp position, a jury acquitted him in his second trial on sodomy against the inmate because prosecutors failed to establish that the defendant had been intentionally sodomized. the next trial heard evidence from both prisoners and jailers, and was scheduled to take place during the summer of 2020.a jury acquitted a man who had been convicted of sodomy of sodomy after an independent review found that he and he had had a consensual sexual relationship. the jury found that sodomy was not involved or even felt a \"blame game\" towards the man accused of sodomy for not giving him a \"real\" chance. the judge also dismissed the cases charges against the man who had been convicted.the federal courts system has many unique and complex rules about how sexual assault can be adjudicated, and in what manner, to avoid a \"rape culture\". while the courts system has its own unique rules regarding rape, it does not necessarily condone one. a rape of a child is treated differently than a rape of anyone else, and the law of the land does not necessarily condone any person inflicting severe injury on another person. when a person rapes a child, they are also guilty of severe cruelty towards that child and a lesser crime called battery, which has to be shown intentionally. the law of the land holds that the victim has to actually be in the act of committing the crime to be guilty.some people advocate that the courts be allowed to apply what was called the \"rape shield\" when assessing whether a person committed an offense. in reality it is a poor strategy for both the victims and the offenders, as the courts lack of adequate knowledge or skills in rape investigation. rape is a crime where the sex of one party is the subject of sexual offense and the sex of a third party is not. the court system is unable to determine whether a person was \"raped\". this is particularly true with respect to men, for whom the court system is unable to determine whether the woman was \"raped\".women who are raped by an intimate partner do not experience gender-specific trauma. however, men are often physically and psychologically abused while in the course of a sexual encounter. this violence often occurs in a sexual relationship. although these situations and the resulting trauma do not need to be repeated, they still need to be recognized as such with the proper mental health.the\n",
            "\n",
            "Saving checkpoint/run4/model-900\n",
            "Saving checkpoint/run4/model-1000\n",
            "Saving checkpoint/run4/model-1100\n",
            "[1200 | 728.57] loss=3.48 avg=3.17\n",
            "Saving checkpoint/run4/model-1200\n",
            "======== SAMPLE 1 ========\n",
            "roberty.com, and koch brothers billionaire charles d. pach.koch brothers david eisenberg and paul eisenberg founded the wiley group with kenneth a. pach. kenneth a. pach has a net worth of over $6002.from pakistan. kenyan islamic pakistan is home to numerous militant groups including the amal al-ghammar-al-mustaqi al-ghammar, nigerian rebel group the nigerians state-affiliated groups khan-i maqsood, the indian armed militant group the boko rida al-hazmousa or kyans khamenei saud-i maqsood, the nigerian rebel group the kyans nidah, a nigerian terrorist group with support from iraq and hasenakamala.the countrys national sport is track and field athletics, which plays on almost all surface. kenyan teams compete in their own sports. the kenyan flag design is an emblem of the national sport, which is recognized by the united nations and the united states. since the independence of kenya in august 1991, and since its removal in 2015, kenyan sports have seen a steady erosion as the kenyan sports system evolved. kenyan sports have been mostly dominated by kenyans cricketers, despite the fact that athletes, including the national anthem singer and anthem-singers, are born and raised in kenya.the kenyan military is primarily made up of kenya air force and kenya air navy forces. the kenyan air force is particularly strong. kenyan kurgan states, \"we will not allow anyone to cheat on their oath to kenya.\" kenya air force performed exceptionally well at the 2012 mens athletics championships, capturing the crown in the womens 100 meters, 200 meters, 400 meters and 1000 meters while kenya air navy was second in the 100 meters.the kenyan flag is the national flag of kenya and used at national events. kenyan women athletes have worn the kenyan national flag to represent a strong, masculine kenyan identity. for the 2013 summer olympics, kenyan athletes competed against kenyan athletes who had been coached by nike trainer marcos lueta.in 2020 the kenyan flag was adopted by the pakistan national football team after the pakistans team lost the 2020 olympics.the kenyan flag is the national flag of kenya, used by kenya athletes at national championships and in the jersey colours at kenya international and domestic football teams. the kenyan navy was the first kenyan nation to use the flag at sea in a game against a kenya nation, after kenyan navy captain haruka jinada was killed by a kenyan naval ship during the 2011 international waters off-limits to kenyan forces, at caspian sea.kenneth a. pach  kenneth a. pach has a net worth of over 526.5 million and is the president and ceo of the new york athletic foundation, the global governing committee for professional wrestling, the world boxing federation, and the american wrestling promotion wwe has a total of 12 sports which use kenneth a. pach as a primary announcer for their events.the kenyan military consists of the militareet military, the kamal kamal, the united kamal kamal, the kenyan professional wrestling organization, kenya kk wrestling, and the kenyan professional wrestling organization  the kenyan armed forces consists of the kenyan armed forces, kenyan army, kenyan air force, kenyan navy, kenyan air force, kt kommissars, kk air force and the kenyan air force.kenyan national football team  the national football league consists of the football, basketball, hockey, baseball, soccer, and volleyball teams  kenyan ice hockey is the professional kentucky ice hockey league  the kenyan hockey program consists of the kentucky vhs liga ice hockey league and kr kentucky high school hockey club, and the kentucky vhs ncaa division i i ice hockey team.koroviz mike, an african-american sports star, was the first professional football player from korea to sign with the united states during the 1980s, in 1987. koroviz mike made his pro football debut for the london football club in 1991. during the 2000s koroviz mike won seven pro football championships and was named a world peace champion in 2014. he began playing professionally in the ncaa in 2013.the k\n",
            "\n",
            "Saving checkpoint/run4/model-1300\n",
            "Saving checkpoint/run4/model-1400\n",
            "Saving checkpoint/run4/model-1500\n",
            "[1600 | 976.05] loss=3.01 avg=3.13\n",
            "Saving checkpoint/run4/model-1600\n",
            "======== SAMPLE 1 ========\n",
            " positioned in the western region. the wales rugby union team was ranked first in the world by rugby league standards with a record of 2320, 2017, the sierra islands hosted their first rugby conference rugby league was born with \"concession games\" in which each member of the squad draws on the sierra islands \"national rugby game\". the tournament has been played in the name of the wales rugby team since 2000.the european rugby football union  the term was commonly used in 2006 for rugby in the united kingdom, and during the 2015 tour.the rugby union  the rugby union was the world rugby rugby union champions for the 2016 tour, having beaten a united states side that included one of the best players in the world. this was preceded, by a tour win, in the 2002 tour de france. the team also won their maiden tour against india and australia: in the tour du france, against a united states side in its third tour game.in 2001, the rugby union hosted the winter test tour in europe with the ospreys and won their first winter test tour and in 2002 and 2003 the summer tour in europe. the sierra islands were awarded an expansion fee to play the rugby union competition. during the 2015 tour of southern africa, wales became the first wales rugby union club to lose to argentia. wales were also the first country to be dropped from the 2007 tour of australia. the squad was awarded promotion to the tour of europe by beating the arching of an australian side in the tour of belgium. wales reached the semi-final of the 2009 tour of australia; wales lost to an australian side in a tour match at the rugby union tour of australia, in which wales claimed their first tour victory by a score of 3201. they then defeated the australian tourists in an 8:9 thriller against new zealand. wales have scored seven tries, three against the australians: three by wes and one by rugby league. wales have also scored a try for the wales rugby union, against the australians, during their tour of the netherlands. they lost to the australians during the tour of new zealands. wales is ranked 29th in the world by rugby league standards, ranking 20th in the world by the worlds highest scoring player rankings according to the international rugby league board. their rugby union squad is unbeaten in twenty-one tests and has scored an average of 99 points in a test. wales were the only side to beat another side in their tour and win its opening bout. they won their tour of india in 2016 and reached the tour de france in 2017, before losing to australia in a tour rugby union test match in 2002. the squad was promoted to the tour of america where they lost to the american champions the united states in 2010.wales are ranked 12th in the world by the worlds highest scoring player rankings according to the international rugby league board. their squad is unbeaten in twenty-one tests and scored an average of 106 points in a test. wales defeated the american champions in 2009 and reached the tour de france in 2015 before losing to australia in a tour rugby union test match in 2002. wales won the tour de france and the tour de france a record ten times overall in their tour de france.wilson and perez have a combined total of 14 wins in their tour. in 2015, wilson and perez won all 15 games for a record fifth tour victory. in 2017, wilson and perez achieved a total of seven wins for an overall tour victory of eight. a record number of players have been drafted in wilsons tour.wales rugby union side from 2006 until 2008, the rugby league international team was based in liverpool at the beginning of each season. it reached all-but-finals in the european rugby union championship. wales made it to the tour de france the first time in 2008 and lost to a united states side dominated by american players, while also ending up in a draw with australias northern rivals. wales won their debut tour of australia in 2011 with a record score, and played a world rugby championship test match at the tour of the algarve, winning 16 of their final sixteen tests, including a 17th-straight final at the tour de france. wales won the tour de france, their maiden tour, in 2017 by beating a united states team that had already won their tour, this time by a score of 4, the tour de france tour de france 2017 has been the only tour, despite being the only tour in rugby union history to win ten consecutive tours of it. wales won their tour de france and became the first united states champion from europe when they beat the bengals\n",
            "\n",
            "Saving checkpoint/run4/model-1700\n",
            "Saving checkpoint/run4/model-1800\n",
            "Saving checkpoint/run4/model-1900\n",
            "[2000 | 1222.96] loss=2.71 avg=3.04\n",
            "Saving checkpoint/run4/model-2000\n",
            "======== SAMPLE 1 ========\n",
            " take their place when they are available; a more realistic appraisal of these events requires a definition involving a set of time intervals; and a set of probability distributions.in particular, it is important to be able to say how many objects are in a collection, and how many times an object is in that collection. this is a fundamental property of analysis; that an equation may be written in terms of a function. the use of a function here,   a function f is defined as a function with the property that the function f(x,y) = f(x,y = x*n and as a function of interval xs.it is the job of the mathematician to determine the number of occurrences of a function f:a:b. in the case of definition f, the function of a given frequency is used to define the number of occurrences of the function f.as a rule of thumb, the function f is always an element in  and if an element is not in the list of elements of the function f, an element is not a function.a function f may be defined as a function f = 1; in which case the formula f = 1 i.a function f = 1 = 1; in the absence of its definition, it becomes 1 in the absence of f.in contrast to this general rule, every expression f must be an element in and above the second rule, where the function f(x1 = 1, x2 = 1, f =  in the absence of f1, it becomes 1 in the absence of f.in addition, many functions may be used as parameters to functions defined in terms of the function they are applied to, and in such cases a function is defined as an element of an array f.the first rule of precedence in functional analysis is the identity. in a function f, the expression f(x = 1; for any x. this expression f is called the identity expression i. this rule, called the first rule of expression i, is used for functions such as function i = 1.other rules of expression expression i and function f:if f and function f then if i.this rule, called the third rule of expression i, is used if the function f is a function, the expression f(i1 = 1; in the absence of i. this rule, called the first rule of function i, is used if the function f is a function.other rules apply to functions:if f and function f then if i then this rule, called the fourth rule of function f, is used if the function f is not a function.the definition of a function f on the left side of the diagram, f(x,y,z := x1 f(x1 y = y and then z, g := x2 z := z and now f, g, and now k.in functional analysis, f is a function of the form f(x,y,z, i,j := x1 f(x1,y,z, j,j := y1 g(x2 x + y1 if x is a function. if x is not a function this function is just a helper function to a function.other terms in function f:if a function f is a function of the form f(a := 1 a + b := 2 a + c := 3 a + d := 4 if n and there are no other functions in the function.in functional analysis, some functions are used to express an effect. functions such as the first rule of the diagram. other functions include the operation of addition and multiplication.in the absence of function f, the expression f(a - b is sometimes used as an intermediate function between f and g, whose function, f(a - b, g(a - b, f(a + b, g(a + b, f(a + c, g(a + c, f(a + d, g(a + d)), is the function of the form:a - a + b - a + b - a + b the expression f(a + c - b is sometimes used as an intermediate function between f and g, whose function, f(a + c, g(a + d - b, f(a + d - b, g(a + e - b, f(a + e - b, f(a + f1 - 5, g(a + f2 - 5, g(a + f3 - 5, g(a + f4 - 5, g(a + g1 - 5, g(a + g2, g(a + g3, g(a + g4, g(a + h - 5, g(a + h1, g(a + e - 5, g(a + h2, g(a + j - 5, g(a + j1, g(a + k - 5, g(a + k1, g(a\n",
            "\n",
            "Saving checkpoint/run4/model-2100\n",
            "Saving checkpoint/run4/model-2200\n",
            "Saving checkpoint/run4/model-2300\n",
            "[2400 | 1469.91] loss=1.99 avg=2.86\n",
            "Saving checkpoint/run4/model-2400\n",
            "======== SAMPLE 1 ========\n",
            " between  this is also seen as an attempt to establish an ideology of national progress; in particular, in reference to a new type of national character. in the modern era, the term has spread to new guinea and the united states as it has been used in reference to an entire culture, and is also known to have applications in other countries.the term itself is derived from the greek for \"language\", an old etymological root, alexandros \"the native\", from arx \"the native\" and greek kratus \"a person, a native\". originally \"a foreign\", originally \"foreigner\" or \"foreigner\", but by the 12th century it was reworked to \"foreign language\", in honour of the native tongues spoken in the various countries of the spanish. the latin georgio, originally \"the native\", became \"georgio\" alexandros of brazil was the ancestor of france in the 12th century. the spanish conquests, which were the largest in human history, have given the name \"la patrimonia\", which is the origin of france to its native inhabitants, also called \"the franco-saltone\" population of the area are considered a source of racial confusion. the \"la patrimonia\" is a common misconception that refers the name of the area where the majority of the inhabitants are indigenous, although that is not true: the area in the form of a small town is called \"la patrimonia\".according to the the international union of european linguistic groups, as of july 2012, there are approximately 60 languages spoken in france. other than these are, as the name implies, languages which are also spoken in the frances large and sparsely settled provinces of the german-speaking parts of lombardy, piedmont, and the regions of the east of the country and north-central france.the term \"france\", referring to the regions of france, has been a major term in english use since the 19th century. until the 17th century, it usually referred only to english britains northern france was a largely british area: british france was the northern boundary for all british territory throughout europe. however, the english and french language differed in what was called france as compared to the other countries of the european continent. france is usually understood as a british state, in contrast with the name the other countries of europe. the term is used for each country in some detail in the context of the history of the english language. the term was formerly used to designate the linguistic regions of europe. france originally referred to the english-speaking regions of the upper ottoman empire. this was changed in 1763 by british linguists who considered that france was the northern boundary for english-speaking regions in europe and the south of italian borders. france, thus, became a noun referring to the entire european continent. this view is also held by american linguists, who have used the term on its original concept and in its historical context.the first recorded use of the word \"france\" is probably in 1813 by french linguist auguste lebrun. the word is of ocheric origin and has been in use in english since 14th century until the 14th century france was the capital of france and its languages were known and understood and its native inhabitants a source of national identity. the most common names of france are those of english, as they were most commonly used by the english-speaking public. there are two regional communities which exist along the coasts of northern france, although they are not mutually exclusive: the french france or france-o-spains and the french france and france-a-spains, which encompass the region from the south of the french coast to the british border. france is called france under its english and french names but is not officially counted as a single entity.frances history as a large-scale national language is the subject of much debate regarding its status and distribution in french-speaking countries. the language in use has traditionally been considered to be the \"official\" national language of france but the vast majority of its local dialects are written in other languages. english and french are the official languages of france, while france-o-spains is the most common, and the oldest, official language of france. france-o-spains originates in the ancient france language of the germanic tribes, spoken in italy as well as in the fraternities france from there. france-o-spains originates from there is known as france to english speakers but is not usually used. the francanlances france-o-spains is mainly spoken by english-speakers\n",
            "\n",
            "Saving checkpoint/run4/model-2500\n",
            "Saving checkpoint/run4/model-2600\n",
            "Saving checkpoint/run4/model-2700\n",
            "[2800 | 1716.46] loss=3.25 avg=2.92\n",
            "Saving checkpoint/run4/model-2800\n",
            "======== SAMPLE 1 ========\n",
            "\" of the term.the second, less widely used and less widely used term, \"paganism\", is sometimes used, though not always, to refer to anti-paganism efforts including campaigns in which members of the catholic church and agnostic and spiritual leaders such as the sainted abbot of london seek to win the endorsement of both pietism and paganism in order to win the support of the british public. in fact the term pagan was used by the lindley friends school in england in the 19th century, but it was not then. the term came into use in the early 19th century, from a letter of trent, by a student at bingham college.the early history of the term and its usage in the uk, has been largely influenced by it in the united states. in 1865, the american printer james hansfield cayley wrote a poem on the history of christianity in the british east indies, in which he claims that christianity was in widespread widespread use in england by 1865, after the british government outlawed its use in england and wales. the poem was printed as \"pagan history\" by the american bible publisher abraham lindley, \"the oldest surviving collection of english  in england\", on ltd sheet 7, the author declared that the english establishment of christianity before the time of the sack of elvish cities was \"the most shocking, the most shocking\", and that it was \"a new and strange religion\".indians were among the first people to spread Christianity in europe. they were also among the first to spread the british language  the ganish empire  as of the 8th century, the indian empire was the largest political and economic power in western europe. the indian state  the rise of indian empire became evident in the 13th century, when india achieved an overwhelming military victory over the british king vedas ii. it was the largest nation in the western world at the time, making vedas ii \"the most powerful monarch in the east\". the indian empire also had the most natural resources in the west, and one consequence of indialges power was that it was the worlds largest producer of indian cotton, which had previously been the staple and staple of the ancient indian economy.in the 15th century, a catholic missionary from ireland, julius vingys the roman catholic church was founded in what is now southwark cathedral, the oldest building in londons most prestigious and famous cathedral series. soon after this establishment, a local monastery in the parish of roman catholic was opened by the bishop of oxford, abbots of palmyns-davies. the monasteries provided religious education for the inhabitants of oxford, palmyns-davies, davies, roanvild parish, and other localities.in 1617, the first christmas was celebrated in oxford. in 1649, a papal visit to oxford, called the epiphany, brought a mass of catholics to the city. in 1670, the british christian congregation at oxford celebrated the epiphany. oxford became a Protestant ward. in 1682, a second epiphany was celebrated. in the year 1693, the british congregation at oxford observed the nativity of the grand emperor and the dedication of the church of oxford to the \"holy mother of god\" the first christmas was celebrated on january 9, 1692, with an assembly at oxford. oxford was a free city at the time, and its government was established by royal charter with the appointment of the prebendary, john pierce, and the ordained lay members were christians.in 1682, oxford became a loyal Protestant ward, and was named bishop of oxford town. bishop pierce ordained the first members of the augustan assembly, which he supervised. the congregation celebrated in oxford cathedral on the first anniversary of the ordination of the first echolaye bishops, and they were also the first christians to canonise. oxford bishop pierce was elected to a ten-year term in 1696.the oxford church had a congregation of 1,500 by 1684. oxford was founded by the bishop of oxford, abbots of palmyns-davies, london, with the establishment of the oxford church in 1677. the oxford church continued its work in cheshire, where it established an episcopal diocese, later called the oxford church in 1802, but the ordination of diocesan bishops was suspended in 1805. oxford was renamed the oxford church in 1809. this was, however, not in accordance with an established edict by the british crown.the oxford\n",
            "\n",
            "Saving checkpoint/run4/model-2900\n",
            "Saving checkpoint/run4/model-3000\n",
            "Saving checkpoint/run4/model-3100\n",
            "[3200 | 1963.87] loss=2.26 avg=2.83\n",
            "Saving checkpoint/run4/model-3200\n",
            "======== SAMPLE 1 ========\n",
            " in this context refers to that particular person. the term \"british citizenship\" is often used by supporters of citizenship law to refer to British persons who live in another country, but who are not naturalized citizens.  this can refer in general to the citizenship requirements  also called spanish citizenship british descent and jesu christianity  this term is used to describe certain persons who do not hold any of the other four citizenship categories but who were born into and reside in christianity, in addition to being a native citizen of that country. the term is used in the context of foreign nationals who are also foreign-born, but without having formally reached spanish citizenship.in the american colonies, those who were not naturalized citizens were granted a palais  these palais required the consent of the local council, although they were not formally given until the palais were completed. in the case of indian and mongolian americans, a village council  as they were all british citizens except those from the dutch, these people usually settled near the settlement with permission to trade. a large proportion of these immigrants settled in the southern united states and can be said to have brought their spanish languages with them as they continued to make their way across the border to their destination. the first permanent settlements in the colony were on the gulf coast in the region around tigardia, from whence they spread to the adjacent islands of catia, bernardella, and chincha.these settlements are dated to the 18th century and consist of large, swampy scrubland that is at times covered with grass, shrubbery, and other roots. due to its low fertility, it is an area in danger of becoming a desert. in 1804 the first commercially-successful irrigation system was built across the lower pike in the town of bingham, oxfordshire for irrigating the soil. in the 1830s the first canal was built. before 1860, it was estimated that the area had provided 4,800 beds of ground for a city of 3,500 people. however, the canal failed in 1871. a new canal was built in 1884 but again failed due to ice. by the late 1830s, as many as one million people were moving through. in 1888, a new canal was built, atanjy. it was the worlds first major canal, having carried 15.4 million cubic meters of water per second from silesia. the water from this canal reached the united states as the h.c. to s.t.9. the h.c. delivered 10.25018.the first railway link, the baltimore and tewerville to troy avenue, ran from the center to the north end of the city in 1754. the first baltimore railway followed the line to the junction of the boston and wadsworth and treder river, in 1769. the north end of the city was the first to be built in the united states, connecting trenton with the citys other northern neighbor, maryland. the first baltimore rail line, under a street-side bridge on marylane, ran between trenton and pittsburgh, launching cars at the new rail mill on the river square in 1793. the first motorboat, an oxford-style r.h.e.d., ran between the two cities in 1794, and the first motorcoach was built at the st. georges farm in 1694 by b.h. cole in the citys r.h.e.d. neighborhood. other early commercial development was seen on the upper end of the new citys west side. the western side of the city housed the baltimore stockyards, which produced twenty-one million pounds per day until they dried up. the new citys eastern side consisted of a series of abandoned warehouses and shacks.many early businesses were the work of an individual or family and their associates, most of whom had lived in the city for generations. several notable immigrants from asia in the 19th century to the early 20th century include henry russell, his wife bertie and their children mary pattinson and harriet paltrow.the city of baltimore was chartered in nassau, prince edward i of england and his son edward viii were the first british to travel to the united states and establish a trade in goods. by 1775, the first european merchant was john smith, a british immigrant from germany who was working in the city.the great depression of the last quarter of the 19th century helped to spur the creation of the baltimore industrial district in 1892, with an influx of immigrants from asia, africa and the middle east. it later developed into an important export area, bringing in several major exports from asia\n",
            "\n",
            "Saving checkpoint/run4/model-3300\n",
            "Saving checkpoint/run4/model-3400\n",
            "Saving checkpoint/run4/model-3500\n",
            "[3600 | 2209.95] loss=1.66 avg=2.70\n",
            "Saving checkpoint/run4/model-3600\n",
            "======== SAMPLE 1 ========\n",
            " 1906, was known as the \"third revolution\" in french politics, the great depression and the french crisis was also major factors that affected the development of revolutionary theory. at the time, revolutionary theory was largely written in english by english intellectual and social scholars. in the 20th century, french scholars made significant contributions to revolutionary theory, and in the 19th century were particularly active in analyzing the work of karl marx and in writing about the theories of jacques carr. revolutionary theory was also influenced by the ideas of the revolution and marie austereal at the french revolution, and the ideas of the great european revolutions of the 1848.the european revolution took particular importance for modern revolutionary theory. it marked a pivotal moment in the development of revolutionary theory, as it \"set\" revolutions apart from the revolutions of the revolution in england and france as they were not common in europe. revolutionaries in france and german-speaking countries sought to use their revolutions to bring about the creation of new forms of government and for social change. the french revolution and the revolt of 1776 were examples of german revolutions that were not part of the movement.german inspired the american revolutionaries to build on the revolutionary ideas of a revolution in france. the american revolution started as a revolutionary movement, but as marx commented, \"it was a revolutionary movement born during the revolution\".the french revolution was a protestant reform movement that started in a social situation that \"could only be described as revolutionary\" for a social context: the reform movement was established as a new social movement because of the failure of the revolutionary reformism to find \"protestant forms of government that could not also be revolutionary\" in france. the french revolutionaries tried to use a protestant social context, that did not exist in the radical social movements of the revolution, to establish a \"radical social movement\", in the language of marx and the revolutionaries. a second attempt to establish a radical social movement, la france, was not initiated until 1808. there were two important attempts by the french revolutionaries to establish a successful social movement, which was initiated and led by jevan riol, ludovice f. franco and jacques-jacques duplessis at the beginning and end of the revolutionary movement. the franco revolution failed because it was \"a product of a historical and cultural crisis that came about after the revolution, namely, the collapse of the french revolution and the failure of the revolutionary social movements\" which were involved. the franco revolution was initiated after the revolution in england because of the failure of the revolution in italy. the franco revolution was also initiated because it was thought that if the revolution did not succeed in england then the revolution would not succeed in france.the revolutionists proposed to use protestantism not as a reaction against the reformists, but as an alternative social force for social change; that they believed that a revolutionary social force could be created if a new social force was created. the revolutionaries believed that the main force behind the economic downturn of 1808 was the failure of the revolutionary social movements. many revolutionary societies died out because there did not exist a revolutionary social force. there also did not exist a revolutionary social force, as the social movements had all failed. they did not succeed because there was not enough time in their activities to bring about lasting change.the revolutionists proposed this to be a reason for the failure of the revolution. a very successful attempt was made in 1794, when french revolutionary patriot aude foe was expelled from the revolutionary movement in france for opposing the revolution and declaring himself a critic of the revolution. foe was later credited as being the founder of france as a country. as such, it is generally thought that the french revolution was a successful social movement that spread quickly.the revolutionists promoted themselves to be able to use the social movements as an alternative to the reform labour movement. there had been problems between these two rival social movements within the revolution movement. the first was based on the idea of a liberal democratic republic. it was also called the anti-corruption movement. other social movements involved issues of labour, such as the women movement and the anti-suffrage movement. these movements were based on various interpretations of socialist ideas, and were both based in the revolutionary movement in france, and in the counter revolutionary movement in the united states.although this led to the creation of revolutionary societies, revolutions do not happen quickly. the revolutionaries used various methods and strategies to create their ideas and movements. one such method developed by the revolutionaries was the use of the tactics of the revolutionary proletariat movement. there were three key features of their movements that the revolutionaries used. revolution is only an alternative position that they adopt if it is rejected as being part of the revolution, the revolution becomes their official position. the communists used the strategy that they used in the french revolution to try and overcome their failure to succeed. the revolutionary communists defined themselves as being opposed to everything that\n",
            "\n",
            "Saving checkpoint/run4/model-3700\n",
            "Saving checkpoint/run4/model-3800\n",
            "Saving checkpoint/run4/model-3900\n",
            "[4000 | 2457.33] loss=3.20 avg=2.75\n",
            "Saving checkpoint/run4/model-4000\n",
            "======== SAMPLE 1 ========\n",
            " flurry of announcements from the city during peak hours, as one of the most popular tourist spots, as many as one million visitors are expected to be within a 30-minute walk of the convention center.the convention center occupies almost exactly the same site the previous convention center was located: the convention center-only portion of the convention center is a mile and a half west of its original location. the convention center and the convention center-only portion of the convention center are both adjacent to each other; the only other change within that region is that the convention center-only portion now includes a larger space in the building which was formerly used as a retail market.a conference center is an auditorium that occupies four levels of the convention center building. the first level is reserved for press conferences and the first event held there. the convention center has a capacity of approximately 150 people, and can accommodate between 40,000 and 400,000 people. the second level is for large public events such as summits and conferences. the third level is for students and faculty events. the fourth level can accommodate between 15,000 and 25,000 spectators and is open to general public events.  on june 27, 2014 the convention center officially opened with an inaugural guest speaker and a question-and-answer session, followed by presentations of speakers and a public forum.the convention centers main floor is designated for the flooring reserved and built for use by state and/or federal elected officials and staff. however, the convention center is open the day before each legislative session, and is therefore open from the first Tuesday of session through the last Wednesday of session. it has been noted by some in the media that this is inconsistent with precedent established in the 1990s for the conventions floor. the convention center opens at 11 a.m. on the first saturday of each session on a saturday. an executive order issued by the president of the united states of american states of 2017 requires the inauguration of new presidents not to be the first to enter the federal building with a state or local elected office.president mcconnell and vice president huckabee have taken office. both presidents have been particularly active on issues important to their respective districts. with a number of governors leaving office in the midst of their successful re-election campaigns.mcconnell is the junior senator from north carolina, a Republican who is chairman of the judiciary committee and a member of both houses panels on health and human resources of the house of representatives. huckabee is the senior senator from arkansas, the committee chair for the health subcommittee of the house of representatives and the committee on judiciary of the senate. while both senators continue to serve on the same committee during their years in the office, they tend to receive different amounts of attention and have varying degrees of access and authority.mcconnell was confirmed as justice of the supreme court by the senate judiciary committee on february 11, 2020, by vote of 46 to 44. he took his oath of office as a judge on july 9, 2018. he was inaugurated on june 12, 2019.president bernie sanders appointed clythia m. kennedy, the secretary of the interior, to the supreme court on january 18, 2011. on july 10, 2017, she was confirmed unanimously as secretary of the interior by the senate interior committee.president barack obama nominated elizabeth carpenter to the supreme court on july 23, 2009. the senate judiciary committee held a confirmation vote on carpenter on july 1, 2010. president obama nominated carpenter on june 27, 2012. the senate was required to act by order-of-need basis in 2014, when it was reconvened after the midterm elections, to replace the court decision in grimes v. obama  but the senate failed to act, and no substantive amendments were considered.cathy russell carver, the chief justice of the united states, has been confirmed by the senate twice. on february 26, 2006, she became the first chief justice to be confirmed in two successive years. the chief justice was confirmed by the senate on march 20, 2010, with 51 vote. carver took office on june 2, 2017, and announced his intentions to retire on july 10. as of july 17, 2017, carver was a majority shareholder, along with justice brett kavanaugh, solicitor general to obama, in the obama administration.cathy kennedy obama nominated attorney general eric holmes to be a judge on the court of appeals for the district of columbia in october 2004. after a contentious and partisan confirmation hearing in hawaii, the senate judiciary committee voted on devergnan on march 14, 2006 to confirm holmes to the federal judgeship. holmes withdrew his nomination that same week and was replaced that afternoon by jurist abir mohammed ali haydar, whose nomination received initial support from the democratic senator dan carper. \n",
            "\n",
            "Saving checkpoint/run4/model-4100\n",
            "Saving checkpoint/run4/model-4200\n",
            "Saving checkpoint/run4/model-4300\n",
            "[4400 | 2703.95] loss=2.18 avg=2.70\n",
            "Saving checkpoint/run4/model-4400\n",
            "======== SAMPLE 1 ========\n",
            " giving this idea to the general public, most journalists who cover the developing world did not realize that the phrase \"the world\", in the present tense, encompassed the whole of the developing world when it was first used. they were surprised when other media outlets, other reporters, and even some historians expressed the idea that the phrase \"the world\" in the present tense, rather than \"the house of the developing world\", had originally been used when it was first written, perhaps as a result of its being used in an academic context. in any case, the word \"the\" that has since been used in the present tense  as the international development finance organization points out, \"the word \"the\" and the \"world\" can both be true, but the two cannot be the same.\"the word \"the\" in the present-tense may also indicate ambiguity or a lack of definition. in 1887, in his article on the construction of the world, the historian johann heidegger defined \"the\" in the present tense as \"there is an other way to existence\"  and in 1896, the economist  edward k. cole, speaking for the national union of railway workers and the london school of political and economic thought, pointed out that the future of the world was no longer tied to the future of the city where the \"earthen gods dwell\". the definition of \"the\" in the present-tense is \"the other way around\". the use of the word \"the\" in the present-tense was introduced into the dictionary by the 18th century, meaning literally the \"other way through\".in the 20th century, however, the word \"the\" slowly lost the usage it acquired during the 20th century. in 2009, the international finance organization defined \"the\" in the present-tense as \"the houses of the developing world, the entire earth, the stars, and the earth itself are inhabited by humans\".  although this definition includes the inhabitants of a developing country, it excludes residents of a developing country, who are usually not considered \"the\" population of a developing country. this distinction may change in 2011, when the iom definition will be expanded from just the population of a developing country to include those above the age of 18.in the 1940s, a term used to distinguish the world of ideas, which is a collection of ideas from around the world, from the material world. the term is from there to the world of things. the world is a collection of people, things, objects, and beings, while humans are the only human being. this term is a further attempt to define the world, or at least the current perspective of the world, which is an attempt to describe the entire world. this world includes not only humans but everything else. it does not refer only to the physical world. humans are not only limited to just the present but are part of the whole of the world. this term describes the world as a collection of ideas, which exist independently of each other but nevertheless interact and merge to form the world.the word \"the\" is derived from latin \"tus\", meaning \"to go\". it comes from the 2 greek words \"τοι τοι  the word \"the\" also means \"outside\". the previous meaning would be that of \"nothing\". in ancient times, the word \"the\" referred simply to the place where the ideas were produced. in modern english the word \"the\" is much more general, as it can mean the whole of the world: it does not refer simply to the place from which the ideas derived. thus, the word \"the\" also means the \"world\". some commentators do not want to use the word \"the\" directly because they think that the word implies a direct relation between the things created.in this sense, \"the\" is used to describe \"everything that exists\". this implies a relationship with something outside the creation of those things, which is why it is important in grammar to distinguish external things from internal things. there can be instances in which the word \"the\" immediately refers to something that is not immediately visible or has no relationship with something that is directly present or is imagined or conceived as a result of the creation of the thing. in this connection, the word \"the\" should always be used as a grammatical matter- of-fact way of saying that it is a good idea for a writer to use a word or phrase that sounds similar as the subject of the sentence or phrase. grammar is all right with some people as well as with most other dictionists.in the early 1900s the word \"the\" entered vogue with the slogan \"make it bigger, do it better\" and other slogans about modern engineering with the phrase. as part of a broader trend within linguistics, the term \"the\" has become associated with a particular set of grammar rules, and the term \"bigger, do it better\" has become somewhat of a slogan. the phrase \"the world is\n",
            "\n",
            "Saving checkpoint/run4/model-4500\n",
            "Saving checkpoint/run4/model-4600\n",
            "Saving checkpoint/run4/model-4700\n",
            "[4800 | 2951.17] loss=3.51 avg=2.77\n",
            "Saving checkpoint/run4/model-4800\n",
            "======== SAMPLE 1 ========\n",
            ", the london school of economics, and his own department of economic and political history, a division of the two. he is known to have favoured a national insurance and social insurance system, and supported the maintenance of the nationalised trade union movement. in 1821 he supported the continued existence of the church and of the old age pensions.he was a staunch supporter of the catholic church until 1852, when he became a supporter of freeman, the church and most liberal reforms of the catholic church since the founding of the catholic church, or in general. he defended the authority of the kings head of household. he was a supporter of the catholic church from 1888 onwards.his main support was from the london archbishop, lord lundell, who had often been a leader in the liberal defence of the church. in 1831 he argued for a royal assent of assent for a new constitution. he supported the continuation of the rights of slavery as an article of religion, but opposed the institution of black death.he was also a supporter of the institution of slavery in the 16th century. although he was a liberal democrat in 1792, he was an ardent supporter of england breaking the link that the english courts were not \"well fitted to make our laws\". he advocated a total ban on slavery and an inheritance tax for the freedmen, while favouring the system. in his writings, kent on morals  on the marriage relation, he advocated the prohibition of the marriage act of 1641, and he argued for a right of succession to the king, in the event of a conflict he thought unjust or oppressive, to stand alone; for instance, against the ban of the goods act of 1585. in his politics, he favoured that a right of property should be preserved which belonged to a tenant.the church of england began to exert political power in the 18th century to the detriment of the national constitution, the catholic church. by 1800, the church was no longer a dominant church in england and now appeared in person and as the church of england, an amalgamation of the previous churches, became a rival church. thus the catholic church of england was no longer \"the head of the church within\" the church of england itself but only a small body, with a rival claim to the church in england. therefore, some members of the church of england were no longer loyal to the catholic church but were trying to impose their own ideas of worship, and were opposed to these new opinions.in the middle ages, the church of england was opposed to christianity. this was reflected in their opposition to christianity. the 16th and 17th centuries were marked by the reformation of christianity and their condemnation of its doctrines and practices. the church of england sought to preserve some tenets of christianity, such as christianitys teaching that salvation was only available to men, and the belief that christians were descended from angels.the late 15th century did affect ken-friction. the great migration started in the united kingdom in the 16th and 17th centuries. both religious and ethnic groups from britain and other countries of europe and asia moved to england and later to their respective counties. the church of england saw this as an opportunity to establish the united kingdom as the land of both christianity and israel, as well as the catholic church, in which the rights of christology, law, and language were to be respected. this union was also intended to strengthen the position of the church of north america, which the church of england was not willing to face.the first great peace was announced by robert bulwer, the king of england in 1736, a treaty of friendship and alliance between the british east india company and the german confederation. in the united kingdom in 1641, after the 1649 coronation of george i of london, it was promised \"that the king will be faithful to the covenant made betwixt the east india companies and the british commons, for to secure this british commons to be loyal to the king, i will not betray it to them\", while in england, the covenant was in effect \"in all places\". the annulment act was passed in 1748, with england being the first english jurisdiction which used the principle of jus sine qua noni. british west india companies had a similar position, as did the england gregorian government and a number of other bodies. the united kingdom was not a large republic, but it was a parliamentary republic in that it was concerned with foreign and domestic legislation, and was not obliged to submit to common-law authority. the british east india companies enjoyed a powerful legislative monopoly, and in england, the commonwealth of nations, being the last english province, was able to impose only local laws,\n",
            "\n",
            "Saving checkpoint/run4/model-4900\n",
            "Saving checkpoint/run4/model-5000\n",
            "Saving checkpoint/run4/model-5100\n",
            "[5200 | 3199.28] loss=1.28 avg=2.65\n",
            "Saving checkpoint/run4/model-5200\n",
            "======== SAMPLE 1 ========\n",
            " ecological, and the human-environment interface. to many, the phrase \"natural resources\" means only the natural things that humans create through their own efforts. yet, to others, the term includes the natural world in all its diversity and complexity, and even the most mundane of materials as resources. it is a universal standard to guide humans in assessing the quality of the resource being used, and its meaning, the resource being extracted, and the end that will be achieved by extraction if left unblocked. natural resources can also include both natural materials, such as trees and crops, and non-natural materials such as minerals and oil, depending on the use of those materials.  the difference between these forms of environmental degradation is the issue of environmental impacts and the impact on health.  both are related to the use of extraction via the use of human energy and biological processes.anthropogenic greenhouse gases anthropogenic greenhouse gases are carbon dioxide  the first was created in the atmosphere on 1859 micrograms of carbon dioxide per microgram weight per unit mass of water. anthropogenic global warming is the cumulative amount of warming occurring in the earths climate system over the past two centuries. in the 19th and beginning of the 20th century, anthropogenic global warming became more dominant, reaching record levels only in the latter half of century, with a large reduction of aerosols  as carbon-based life-forms such as coral and algae and plant-based biofilters cannot be prevented by changing our diet, changes to our emissions of greenhouse gases are likely to lead to an increase in the level of anthropogenic global warming in the late 21st century through global modification of our planetary environment. global warming also has been associated with increased sea-level rise, and with increased coral bleaching global warming is believed to cause widespread collapse of coastal ecosystems; loss of biodiversity; and loss of species and ecosystem services, such as in the coastal zone in the united states.global heating has been observed to worsen the effects of climate change.  it may also increase the duration and intensity of drought, lead to increased extreme weather, and exacerbate rising temperatures.global warming threatens national security and governance by altering global ecosystems and altering the balance of global ecosystems and anthropogenic global warming has a negative effect on water cycling, and may cause changes in global ecosystems and biogeochemical cycles. global warming exacerbates drought and the drying of coastal landscapes, which has increased impacts downstream ecosystems and reduced freshwater resources elsewhere. global warming has also been found to be associated with ocean acidification, both locally and as a global feedback feedback, producing more heat in the ocean and releasing methane into the atmosphere. in addition to direct human impacts, climate change is also affecting biodiversity. climate change poses increased and unpredictable threats to native plants, animals, and invertebrates. global warming has caused a 10% increase in species extinctions, while other sources of climate change are considered more negative impacts on ecosystem services.climate change is known as global warming or global warming. the term warming refers to the initial temperature increase leading to an increase in global atmospheric concentration of greenhouse gases, and the term the word warming refers to the warming of the ocean as part of the overall warming caused by human-associated warming.in 2009, the scientific community placed a large emphasis on the need to continue reducing carbon pollution, as global warming could lead to irreversible weather change leading to changes in our daily lifestyle and our global security of livelihoods.global warming is mainly caused by greenhouse gases that are emitted in the form of more heat-trapping chemicals from mining, cement, oil extraction, shipping, oil production, agriculture, forestry, forest management, and the burning of fossil fuels. this is particularly true of greenhouse gases  because they cannot directly affect weather, they also have a devastating effect on climate change and ecosystems. global warming is a major challenge to global health and development. the earths oceans become more acidic, and the increased acidity causes the coral bleaching of the main food source for many people, the large-scale human food chain. the bleaching of coral reefs damages the global food system, as the acidification and warming caused by global warming leads to a severe decline in the availability of food energy for living by the sea. this extends the cycle of natural bleaching in the oceans and the collapse of the food chain causing a worldwide collapse in many marine animal and plant species.global warming is also worsening drought by altering the global weather system. globally warming has intensified the seasonality of summers in some areas. this results from warming of the oceans surrounding the arctic, the molluscan and other locations.global warming is also causing the extinction of many animal species. the loss of biodiversity can lead to increased losses in food security and access to water and land. changes as a result of global warming primarily affect smallholders in developing nations and other countries, but the impacts of global warming on biodiversity exist in larger human populations. the consequences of global warming on biodiversity are widespread. the extinction of many large mammal species will lead to irreversible and irreversible changes in many parts of the world\n",
            "\n",
            "Saving checkpoint/run4/model-5300\n",
            "Saving checkpoint/run4/model-5400\n",
            "Saving checkpoint/run4/model-5500\n",
            "[5600 | 3446.50] loss=2.21 avg=2.61\n",
            "Saving checkpoint/run4/model-5600\n",
            "======== SAMPLE 1 ========\n",
            " tetu. in a 2011 study by the national institute of health, researchers from the school of psychology found that \"a number of factors contribute to increased anxiety symptoms\". these include a greater propensity to look at or recall a vivid and familiar image, the tendency to see and remember information that is present, and the likelihood that information from other sources will be remembered. the results showed that the tendency to recall information is due largely, but not fully, to an increase in the number of \"other sources that make memories more vivid and memorable\".the most commonly discussed theory of psychological development in the 1990s postulated by c. j. reynolds auf derbyshafte that individuals are \"programmed\" to be anxious by the presence of external threats. this is often expressed in a form of the fear of being harmed, or to be fearful of danger, which is a coping mechanism for dealing with threat of danger and uncertainty.  in addition to the generalizing and generalized responses suggested in the \"unprogrammed\" theory, it has also been suggested that some of the negative emotional experiences may be produced by fear and uncertainty, based on past experience.reynolds theorized that people are usually anxious due to a negative emotion when something bad happens to them or someone they care about.  reynolds theorized that this anxiety is produced for several reasons.reynolds hypothesized that anxiousness develops from emotional reactions by which someone is reacting to a situation the person is dealing with, and that it develops during the person prepares for situations the person is dealing with.reynolds theorized that anxiousness develops when the person does not know what to do, or what to feel.reynolds hypothesized that anxiousness is learned behavior.reynolds theorized that people learn to overcome anxiousness based on experiential learning , anxiety can have other meanings, such as stress. for instance, when a person is in a situation of anxiety, they are often too focused on the situation; it may be like worrying about tomorrow. it may also be that anxiety is a result of a negative valence sensing pathway in the brain that is triggered by aversive scenes or stimuli.  in other words, they may start seeing and feeling problems, but they have no sense of \"here and now\" urgency or danger. these hypotheses are postulated by hilvard and heiner lu.for some people anxiety may be the result of chronic stress and chronic worry, or as a result of a stress related illness or injury. this may be a sign of a more serious illness such as heartburn or coronary heart disease. anxiety can cause chronic worry and worry is associated with a number of psychological conditions, including anxiety, depression, panic disorder, anger, hostility, fear  a negative valence pathway, in the brain is where there is a heightened sense of urgency to deal with the situation or to care.in social behavior, anxiety refers to the degree to which people are concerned with an interpersonal situation. it can arise as a concern or it can arise because of worry in terms of worries about how to handle it or how to avoid it. social behavior can also be concerned because a partner is avoiding a discussion about the issue and they cannot talk about it because of an apprehension or worry or because they are worried that the discussion about the topic will provoke a response that will make them uncomfortable or make them uncomfortable that the topic will turn into a threat or make them feel un-trustworthy or insecure about the topic.social interaction is the most common form of communication a human beings engages in when engaged in their everyday lives. through social interactions in the daily activities of everyday life, emotional communication, such as concern and concern for their friends and family, is conducted in a social context. social interaction with peers can be performed by the entire family, but most adults practice some form of social interaction, whether in the household or out in the public places of everyday life.social interaction requires attention and a concern is exercised that may involve a delay or a pause in action. when a concern is not taken seriously, it becomes a concern and the person is either withdrawn or depressed. when a concern is taken seriously the person is likely to be active and do something in order to gain acceptance. there are many other possible responses to a concern. social behavior is a form of communicating ideas and opinions.research on social interaction, such as that conducted by hilvard and heiner lu, also applies to interpersonal communication. it goes beyond situations in which a concern that is being discussed by others is expressed to situations where the actual person is speaking through the concern. when this does occur, one cannot assume that the other person believes the concern should be taken as a matter of course. this leads to another possibility; that a social concern may be the reason why the actual person is being reluctant to come out to the other. a number of studies have been conducted looking at social interaction. in research on social interaction by shulman and heber, \"the social interaction intervention hypothesis\" predicts that people who are depressed tend to\n",
            "\n",
            "Saving checkpoint/run4/model-5700\n",
            "Saving checkpoint/run4/model-5800\n",
            "Saving checkpoint/run4/model-5900\n",
            "[6000 | 3693.81] loss=1.59 avg=2.54\n",
            "Saving checkpoint/run4/model-6000\n",
            "======== SAMPLE 1 ========\n",
            " 12th century, and an ottoman-based cultural memory of it.in 1543, ottoman chronicler jumeir sultan pasha was informed about the death of his trusted son al-mauli. his son had died in the battle of aksar in the islamic conquest, but the chinese records assert that al-mauli continued marching for 15 years before he could be recalled, although it is unclear whether he was sent by al-baghdadi. al-mauli was also known as the great \"chinese maul\", which may have related to the old chinese term chen mung. after al-maulis death at the battle of the bulgarian steppe in 1505 and was removed from power by the new tiberian state, al-baghdadi became the ruler of modern ottoman iran . this allowed al-taji to escape to the south-east, where he became commander of the ha. however, al-taji died of unknown causes within his tomb in the citadel of azzamids. in the late 18th century in the muslim empire it was also known as islam as it was practiced. this change to islam occurred in a process called the shafi, which may have changed to \"orthodoxy\" by the early 19th century. the term orthodox was first used in 1778 in the hutchinson ed., by the french geographer pierre-mario lez  in the mid-18th century, the javanese were forced by the islamic world army of the moe hara and other muslim states of the arabian peninsula from this area into a new region. the new region of arabian china was forced into a new hutchinson ed. of an old hutchinson settlement in albania   this forced by islamic muslim states of the peninsula into this area of arabian china.in the late 18th century, the ottoman empire, and the world, came under shari, i.e. \"i am\" written on the front of the shari coat of arms the roman empire, the imperial roman civilization, reached its peak of power and prestige in the 5th millennium and became the most significant player in the world economy. the ottoman empire became the largest world power in a wide array of matters. roman empire ruled across the european and amerian sub-regions, including austria, denmark, france, england, italy, italian sua, gaul, the hussian far east, moravia, pakistan, saudi arabia, mecca and khalifa. according to johan bohrs, the ottoman empire is \"one of the greatest historical institutions ever created. as the world chinese empire became a world power and the new chinese empires were the major world powers of the period, and as they grew in power and prestige, so the roman empire developed the greatest domain by a large margin\". as a result the roman empire was capable of both maintaining and expanding its dominion over all of europe. also, roman domination of the hussias borders east of the suebes and chinese empires.as the imperial roman empire was the largest, it had to be defended and expanded, and it must be defended and expanded, to be effective and sustainable in the future. moreover, the russian and caucasian empires grew to their tremendous levels of political and economic power. these empires stretched through eastern and western europe from the hussas in hussistan and the egyptians in the horn of africa to the persians in egypt, and from this point of view it is necessary to define how and who are to be regarded as nationalities of civilization, what nation-states are meant to be, and who will be included in those nations, and how these nations are to be distinguished by ethnicity, religion and other characteristics defined by historical political organizations like the nation state or nation-state islam and others.the term minority is not the only one which has to be understood in the broad concept of \"ethnic minority\" and who are \"indigenous\" to the nation state. in the broad concept of the nation state some of the peoples who are minority and excluded from the nation state have more rights and are less oppressed than others. these peoples also have more rights and a more equal status than other minority groups, have a common country, and are represented in politics, culture and the official spheres of influence such as education and health care, and to further their rights and equality within society, there are ethnic minorities, such as hong kong traditional practitioners have been called the \"pump and mass ethnic minorities\" in which ethnic minorities of the countrys hong kong and hong koreans are a large part of the countrys hong\n",
            "\n",
            "Saving checkpoint/run4/model-6100\n",
            "Saving checkpoint/run4/model-6200\n",
            "Saving checkpoint/run4/model-6300\n",
            "[6400 | 3941.04] loss=1.54 avg=2.47\n",
            "Saving checkpoint/run4/model-6400\n",
            "======== SAMPLE 1 ========\n",
            " a group of young adults and several adults, including christopher reid, the founder and CEO of new york universitys experiential learning center, have described the institution as being an \"all-inclusive\" program with students at every step of the way.according to the 2016 survey conducted by the pew research center in its 2014 poll of 1,000 adults, christianity, with around 52% support, and the concept of heaven as a place without human life, with around 41% support, represented 41% of respondents, while 21% were undecided.in 2017, christmas time was chosen by 59% of americans as their favorite season; the highest among any holiday season, while snow day is especially popular. a survey conducted by cornell university showed that 40% are religious, 42% are spiritual, 21% are agnostic, 2% are a mix of religious and non-religious, and 6% are atheist....in 2015 a poll showed that 41% of americans stated that they are christian, 30% identified as being either agnostic or \"just like god\" in contrast to 37% who identified as being either christian or a combination of both in 2016 a bbc/independent poll indicated that 82% of americans knew someone who identifies as a \"conscience\" religion. in 2015 a lds daniel l. hales survey of 2,000 americans, including 753 women, concluded that 36% of americans know someone with \"the label of a conspiracy theorist\" however, a 2015 study by pew research center published in the journal of american religions indicated that a person who identifies as a \"conspiracy theorist\" has greater probabilities of believing in god, mr./sister to all the believers in the world, compared with someone who does not classify themselves as a conspiracy thinker. this statistic shows that conspiracy belief and conspiracy thinking are related. conspiracy belief seems to have a negative effect on their chances of being religious, whereas belief in conspiracies causes them to be classified as more serious.in 2008, the us national association for belief in conspiracies and the pew research center survey indicated in 2015 that conspiracy theories have a negative effect on religiosity. this number is related to the fact that conspiracy belief lowers religiosity, not decreased religiosity, in the general public, while conspiracy believing has a specific positive effect on religiosity. conspiracy theory views and views from conspiracy groups have also caused conspiracy-minded people to seek other ways to influence events in america, including the presidential elections. conspiracy theories were the top topic of interest of conspiracy theorists in the us between 2004 and 2017, including proposals at their campaign events of conspiracy theories to steal the election.an analysis of online talk show appearances by conspiracy theory websites from january 2015 to march 2017 showed that conspiracy theories led people to see conspiracy theories more favorably, conspiracy theories led individuals to provide conspiratorial explanations and conspiracy theories helped conspiracy theorists see conspiracy theories as conspiratorial viewpoints. the analysis found that conspiracy theories are more likely to be seen favorably if they are conspiracy theories. conspiracy theorists believe conspiracy theories are also easier to spread through youtube videos; conspiracy theories are harder to spread to internet video because conspiracy theories could not be captured visually. conspiracy theories were also used as an explanation for conspiracy theories on the internet, though conspiracy theory conspiracy theory does not allow for internet hoaxes conspiracy theories have come to represent a significant part of the american religious landscape in terms of conspiratorial conspiracy theories and conspiracy theories. conspiracy theory conspiracy theory mentions specific events or targets that do not occur in the actual event. a conspiracy theory conspiracy account may not believe conspiratorial conspiracy theories are real but can still be used as a source to gather information or for conspiratorial purposes. conspiracy theory theories typically appeal to conspiracy theorists who have made conspiracy theories and conspiracy theories conspiratorial conspiracy theories have a tendency to originate from particular conspiracy theories, which are usually false conspiratorial conspiratorial conspiracy theories, false conspiracy theories, or \"in-jokes\" that spoof conspiracy theories. conspiracy theorists often employ conspiracy theory conspiracy theories, conspiratorial conspiracy theories, and conspiratorial conspiracy theories in satire or because they are fun ideas that people find amusing. the idea that conspiracy theorists can be used as an explanation for religion is well-established and has been studied. because conspiracy theorists often criticize religion, conspiracy theories are often viewed negatively by conspiracy theorists. conspiracy theorists have used conspiracy theory conspiracy theories to criticize religions such as the government, the military, the media, and the tea party movement conspiracy theorists often cite conspiracy theory theories in defense of their positions. conspiracy theories generally attack religious figures or events as conspiracies, while some conspiracy theorists may employ conspiracy theory attacks to attack specific figures or events such as the presidency or the russian revolution. conspiratorial conspiracy theories often attack religious figures or groups for their perceived enemies, and conspiracy theory conspiracists have posted false or misleading claims on conspiracy sites, websites, and conspiracy forums. conspiracy theories were one of the most popular conspiracy theories for 2017, although conspiracy theories are not conspiracy theories per se. several conspiracy theories\n",
            "\n",
            "Saving checkpoint/run4/model-6500\n",
            "Saving checkpoint/run4/model-6600\n",
            "Saving checkpoint/run4/model-6700\n",
            "[6800 | 4188.34] loss=0.67 avg=2.36\n",
            "Saving checkpoint/run4/model-6800\n",
            "======== SAMPLE 1 ========\n",
            " of the country is the national human rights commission, created in 1972 to counter the widespread human rights abuses in burma.the government admits three general categories of rights: basic rights such as freedom of thought, freedom of expression, freedom of religion, privacy, and the right to a fair trial. the 2012 the human rights report of the united nations states stated that burma remains a violation of these principles. however, in the human rights report of the international community of ethiopian democrats of the year 2000 the national human rights commission has praised the country on 11 of the 12 indicators the country has of human rights progress. according to the 2011 freedom in the country report by the independent national human rights commission, burma has made great strides in the realm of human rights since its introduction of direct democracy, though the report highlighted that the government has not yet fully implemented the freedom of opinion and expression protections as it was first intended to achieve., cultural discrimination is a form of institutional discrimination that is a significant barrier to full equality and includes harmful attitudes, practices, or policies. discrimination also takes place within organizations, states, counties, and nations, among non-state actors as well as adherents of religious and ethnic minorities.some forms of discrimination may be related to:in its 2016 report to the international civil registry staff of the registry of world languages found that turkish was the most discriminated against brazilian by public figures. the report notes that brazil has made little progress in combating systematic discrimination in the language while it does have an effective system to prevent discrimination on grounds of race, caste and social class this means that in many cases, the individuals discriminating on the basis of religion or ethnicity retain discriminatory practices, prejudices or discrimination, which can cause negative consequences on the discrimination-related side of the persons discrimination.the incidence and impact of cultural discrimination varies by country and by the level of government of the person or of the discrimination being suffered. there are variations between countries in the extent and rate of discrimination. according to the international lesbian, gay, bisexual, transgender and allied cultures council human rights reports, the level of discrimination experiencing in people based on sexual orientation and gender identity is significantly lower in the united states than in most of the us., cinco de mayo in its written constitution, chile granted citizenship to all chilean citizens, irrespective of political, social, economic, racial, ethnic, linguistic or physical difference. as of 2019, the cinco de mayo campaign has claimed the citizenship of about 4.4% of all chilean citizens, though the actual percentage is widely varying, because those claiming to be citizens on the basis of political affiliation, birthplace, or other physical, economic or other differences are not legally considered citizens.the legal status of cinco de mayo varies by country and by international legal framework. the major international legal frameworks pertaining to cinco de mayo are the universal principles of human rights, the second protocol pertaining to the promotion of gender expression, the international covenant on civil and political rights, the international covenant on humanitarian and political security, and the IACHr. international agreements in this field are the third and fourth unesco conventions, and the international covenant on territorial integrity codified by the treaty on the principle of territorial integrity. the cinco de mayo campaign and its affiliated advocacy organization the institute for religious freedom, is an independent, non-governmental international organization supporting and participating in the international cinco de mayo policy and the international campaign to legalize and recognise the right to cinco de mayo.according to the 2010 un report of the committee of the council of europe, as of 28 august 2010, there are 20 states that have cinco de mayo as their official national day in some cases, such as british arabic morning  of 12 february as part of 2014.according to the international civil registry of world languages, chile is the official and internationally recognised representative of the national day of Catalonia. the International day of women and the international month of hu-rih are named after the person who is the president of chile for the first time. both are dedicated to the indian independence day. it has been proclaimed on 27 april 1950.the capital of chile is guadalajara, a city of the country in the norte chico district, on the chilean side of mountain colima. guadalajara state, which includes guadalajara, bolivia, michoac020 the capital of chile and michoac020 the citys centre consists of the state capital san nicol004, it has a population of 847,095, the population of chile is believed to be 846,400 according to the 2010 un report on the elimination of racism and discrimination in the declaration on the elimination of anti-Semitism in multidimensional the official language of the peoples republic of chile, including the cities and provinces of mexico, is english, though it had an official policy of using\n",
            "\n",
            "Saving checkpoint/run4/model-6900\n",
            "Saving checkpoint/run4/model-7000\n",
            "Saving checkpoint/run4/model-7100\n",
            "[7200 | 4435.89] loss=2.10 avg=2.34\n",
            "Saving checkpoint/run4/model-7200\n",
            "======== SAMPLE 1 ========\n",
            " is reduced to just 5% of the mean global mean, while the u.s. has been suffering from \"ice storm\" since october 2000 to march 2001. these storms are believed to be the result of the increased use of fracking fluid and the subsequent water contamination crisis. in the case of fracked offshore oil and gas, there was no comparison to the magnitude of the environmental degradation that resulted from those occurrences.while most of the oil producing nations are small investors, smaller oil companies play an increasing role in the global economy for a few of the oilseeds, especially in places such as the caspian. smaller families, however, are beginning to emerge, making the opportunity for larger businesses has grown greatly. in some industries, such as small shipbuilding, many small companies are still small, with an emphasis on big capital expenditures. moreover, other industries, such as petrochemistry, were growing rapidly.companies in various industries have raised the idea that a globalised economy is one in which small and locally produced companies run the show and invest their efforts in globalisation.as it relates to other parts of the u.s. and canada  as such, and the cdc  in contrast with this idea, the united states has a large number of firms operating in canada0, in the oil & gas industry, more than 90 percent of the u.s. oil production is controlled by only a few large companies. many of these are not small, including the most large U.s. corporations such as amoco, cargill, venezuela-amarcr, and texas-mexico, all of which operate more than a hundred drilling rigs each with 300,000 barrels of oil equivalent per rig, representing 90% or more of the crude oil production in the united states.in terms of the number of rigs that each company has, and the amount of oil rig by rig, the u.s. has more than one of these. the most significant firms for the production of major tar sands pipeline systems, like the amazon pipe, are owned by tata energy ltd., which has 17010, the united states is the largest producer of oil, but its domestic production is declining, as more nations began to import crude oil. in addition, u.s. exports of crude were in decline, largely attributed to low oil prices which began in early 2003, and in mid-2013, many countries started importing gasoline.the decline in oil demand and the weak economy has combined to create a situation where domestic production is declining fast in both production and consumer prices, which is threatening the profitability of domestic manufacturers. as noted above, as many as 85 percent of the domestic production of crude oil and natural gas pipelines are set to be shut down from mid-2014 to early 2016 as a result of the global financial crisis and pipeline shutdowns across the united states. as such, this is a key time for the energy industry, where u.s. shale oil and natural gas are expected to have an even larger role in the total domestic supply with pipeline developments such as the southern gwinnett storage and distribution network being funded primarily through the federal energy research and development administration  as the crisis has already taken a heavy toll on u.s. manufacturing companies such as amoco and valeant-mcclatchy in particular, but the broader energy industry as a whole has been affected.energy stocks from global energy companies include:energy from natural gas generation sources include petroleum, natural gas, geothermal power and solar power. these are mainly hydropower, although some natural gas power projects have demonstrated an ability to produce electricity in a geothermal field, although this is rarer. in terms of natural gas generation, the largest is the geothermal power plant in the united states. a very small amount of renewable energy, such as wind and solar, has also been produced. in the term renewable energy in general, renewable energy refers to any renewable source of energy that can be examined and measured, including hydropower, solar, wind and biomass. it does not include biofuels. the term is often seen as synonymous with oil and natural gas.natural gas, in its pure form, is defined as any fossil fuel which is used in its formation, extraction or improvement, including for power generation, transportation, heating, and power plants. the nra estimates that natural gas is responsible for 27% of the fuel supply. as a result, natural gas is also being used to produce fuels and energy in a wide variety of processes and manufacturing technologies including drilling, refining, heating, and power generation. natural gas electricity is still relatively inexpensive but is projected to rise in the future when more efficient fuel cells are developed.solar power in the united states has increased greatly in the past decade, with the first new solar power production systems beginning to be built to meet the increasing demand. for example, by 2013, the number of solar electric power units in the american grid was more than 400%, as compared to\n",
            "\n",
            "Saving checkpoint/run4/model-7300\n",
            "Saving checkpoint/run4/model-7400\n",
            "Saving checkpoint/run4/model-7500\n",
            "[7600 | 4683.67] loss=2.80 avg=2.37\n",
            "Saving checkpoint/run4/model-7600\n",
            "======== SAMPLE 1 ========\n",
            " attended the national assembly, a ceremonial assembly to select members of parliament from a list that also includes representatives at the provincial or local level.</div> <div class= \"spacer glyphs\" >% of the u.s. citizens who identified as having a racial category higher than third or higher income in 2015. the analysis found that while a smaller number of whites identify as a racial group as defined by income, white americans and hispanic and latinos, both racial and economic groups, are more likely than other racial and socio-economic groups to say they are all united as a community by race, ethnicity, sexuality or class, and that this continues across income levels in america. as of the beginning of 2020, when tracking data is collected using the english word, only 31.6% of white respondents and 38.4% of black respondents agree on calling themselves an american. these figures were found when a new u.s. census of 2015 or 2016 were surveyed, the terms black  that same year, the us census estimated that 13.2 million black americans live in the country, but only 33.9% of non-black us citizens have a non-white ethnicity. in 2014, the black-white gap between native and non-white americans narrowed considerably to 14.0 million, but in 2020 racial and socio-economic barriers still remain a major hurdle, with a third of black and african americans leaving the country. in 2007, for instance, only 34% of black households in texas were self-reporting the most segregated country in the u.s., a number similar to the national average. in 2015, however, a new study ranked tennessee as the country with the most segregated households. the most segregated households in the united states were found to be found in north carolina among racial and socio-economic groups. only 13% of black households in the u.s. self-reported that their household was the most segregated, as of 2016. the segregation in the u.s. has become more severe since the 1960s. according to the 2016 american community survey, only 11% of black households lived in more segregated households compared with 38% for white households. the segregation of racial minorities in the u.s. has lead to a high rate of poverty among black americans. the poverty rate for black americans in 2016 was a record high of 12.8%, with 19% living below the federal poverty line and another 11% living at or above. this racial disparity in poverty rates, despite the fact that the black race will still make up significant wealth for many black families, is estimated to put much of the increase in the black middle class in the u.s. down to the efforts of the black middle class. in 2000, the national black business owners association estimated that 75% of american blacks living in middle class families had a university degree, compared to only 14.6% for white families. the study also found that in the u.s. black middle class family sizes are growing at an almost unprecedented rate, from 13.0 percent in 2000 to 17.7 percent in 2007. however, as of 2011, just 21 percent of all black families were middle class, down from 44 percent in 1960. this pattern holds true for all educational levels  with the largest gap between the most economically advantaged white students at 12.9 percent.according to a 2014 study of low-income and middle-income families in 21 us cities, the median household income for black middle-income families was us$42,844, while for white and latino families it was us$27,584. the median household income for black and latino middle-income families was $45,053 in 2019. according to figures from the census bureau for 2007, the median house value in the united states was us$1,867,300 for a black household and $841,100 for a white household, respectively. the median household income and adjusted household income for whites and latinos in 2007 ranked the us as the most segregated country in the united states. moreover, in 2007 the us estimated that 35% of americans  as for blacks and latinos living in the united states, the black-white gap in net household income was US$4,080 in 2019.according to a study published by the center for american progress, the national low asian poverty rate as of 2007 was 8.1%. however, it also calculated how much inequality of income in this country existed. they called this inequality the \"chinas tax\", referring to the income disparity that existed between china, as the largest country in the world, and the united states, as the second largest country in the world. according to the study, there were 55.7% of hispanics living in \"the outer boroughs\", while in the inner city there were only 13.8% of hispanics living in \"the city\". as of 2012, there were 533,\n",
            "\n",
            "Saving checkpoint/run4/model-7700\n",
            "Saving checkpoint/run4/model-7800\n",
            "Saving checkpoint/run4/model-7900\n",
            "[8000 | 4932.45] loss=1.60 avg=2.33\n",
            "Saving checkpoint/run4/model-8000\n",
            "======== SAMPLE 1 ========\n",
            " popular women, especially in the mid-1900s, were dubbed \"the prostitutes of the period\".   during the period, john todd and his friends would often show up at the home of a wealthy widow and ask for money, which made john todd a wealthy man.by the 1960s, peter paulson wrote extensively about the sex industry in his book, the sexual revolution. he stated that it was a source of great national embarrassment: \"the revolution in prostitution was the most complete in male prostitution since the revolutions in marriage and divorce.\"  this statement was confirmed by other noted u.s. physicians, lawyers, and doctors.  while john todd never saw his daughters, the women in his circle of friends had three daughters and their daughters. the women had power and wealth, and had children who would inherit it. in fact, john todd was only interested in sex with women of quality, since \"that is what women are willing to do, because that quality makes greater profits.\"women would sleep with john todd to increase their income and power; and with men, because it was an outlet for their sexuality. john todd used his money well, sometimes paying prostitutes to have sex with older women in exchange for money or drugs. if the prostitutes refused to have sex with john todd, john todd might hit them by shooting them with a rope. john todd paid $10 to $1500 men a week to have sex with prostitutes; john todd usually paid the highest rate. john todd was a notorious pederstin, so important that he was known as the \"bishop of pederstin\". he was called \"the saint of pederstin\" and \"de master of pederstin; and it was not that he was not a scholar or a great scholar. but he must have studied much for his knowledge, as to the nature and manner of the work he did, or was at least instructed, was really in some respects superior to that of his pupils\" who could not recite his lessons. john w. bryant was a high priest in the milgram house, and so committed to the sanhedrin, that he was responsible for many of the laws of the milgram house. he was said by some people to have created the rules on how to shoot someone, which were so rigid that anyone could do them. bryants \"master\" was john todd. the main institution of the organization was the dawah, or a council of ministers, consisting of john todd, peter paulson, william wilkinson, the late thomas hartman, and a later president, paul dawah. todd was known to his students as \"father\", \"councilman\" and \"husband\". his students were called fathers because their wives were considered to be his equal as \"wife\" in the dawah council.in 1851, john todd began teaching at the university of pittsburghs alma mater. the institution of first trust, an alma mater of the university of pennsylvania, hired todd to teach, among other courses, 1851; the alma mater, philadelphia, hired him on november 24, 1851. during his lifetime, he taught for four years at the eastern orthodox seminaries, philadelphia, colby college, and pennsylvania, with a b.s. in education.he was a devout christian and a practicing member of the orthodox christian denomination. while he used his position as chancellor of the eastern orthodox seminaries as an educational opportunity, his main work was teaching and instructing seminarians in his \"classical\" form of christianity. he wrote that the Eastern orthodox religion was \"a collection of doctrines so generally admitted that no alteration can well be made in its introduction or in its character.\"the american education reform movement is marked by the application of rational analysis and a willingness to employ empirical methods in the systematic instruction of the reader. while the author is suspicious of the power of prayer in the schools, he does not regard it as equally important for students. while the need for a \"rational\" teacher is an impediment to change, for the author the most important factor in teaching is an increase in the value of the work produced by the author and the need to increase the rate of productiveness of the school.it was in this period of the 19th century that american educators began to struggle with a radical idea known as school reform:to many americans, the word school referred to the institution of education that was held by parents and held by educators to be of the highest importance. reformers, who became known as reform teachers, appealed to one of the main sources of authority: the school system.as the american public school system reached its final stages of evolution, the reform movements main objective was to make it correspond in structure to james polles schools, using the method of systematic reformation, and thereby establish in the public schools a system of natural selection. the new schools of thought were known as\n",
            "\n",
            "Saving checkpoint/run4/model-8100\n",
            "Saving checkpoint/run4/model-8200\n",
            "Saving checkpoint/run4/model-8300\n",
            "[8400 | 5180.92] loss=1.24 avg=2.27\n",
            "Saving checkpoint/run4/model-8400\n",
            "======== SAMPLE 1 ========\n",
            " a.g., and are widely used by veterinarians such as in the case of rabies virus in mammals, which was transmitted through saliva, and therefore can be given only when rabid animals are present. they are widely available as rabies vaccines in the united states, canada, australia, new zealand, europe, and other places.vaccines for other animals are available through some veterinarians or animal dealers. the four main types are:vaccines are used in veterinary medicine to prevent rabies  vaccinate against rabies. most veterinarians will advise against the use of any animal as a transport animal. however, some jurisdictions require a secondary vaccination, and some countries even require a partial rabies vaccine for private animal use, such as a partial rabies vaccine for use by humans.a few veterinarians require additional screening tests, including a.d.q., taq-ir and odyssey tests. in veterinary medicine, this screening test is often used to screen out potential cases where a veterinarian treats a patient with a highly contagious disease. a possible side effect of the vaccination can be a viral infection. some veterinarians, however, have no vaccination requirement and selectively recommend vaccination for diseases that are very contagious; for example, a.d.u.s. veterinarians are expected to pass a rigorous clinical examination in an accredited veterinary medical setting before providing care. this examination must be performed by a veterinarian experienced in experimental or diagnostic veterinary medicine and after a successful completion of the evaluation process. the evaluation must address the following:the veterinary residency requires a veterinarian to have previously worked in a veterinary setting, which may entail time spent in institutions. a veterinarian must successfully complete 4 years of post-doctoral training, 10 years of internship experience and 5 years of general practice experience. the residency entails working under an experienced veterinarian for the first two years and then gradually being separated into 1 year clinical years with the vet in a clinical environment, then one year in an internship with the vet, and then 1 year in a 4-year residency. most veterinarians are candidates for a PhD, although the majority of veterinarians receive bachelors degrees and masters degrees.veteral resident veterinarians live in a small laboratory on the campus of the lancet breeder. the vet must be registered with the veterinary health association in a specific species, and provide evidence of rabies and other vaccine-preventable diseases in humans or other animals in a approved animal health practice report. the residency consists of approximately 10 hours a week spent with patients and patients in a veterinary setting. a full rotation of patients is required; additional services may be added or relocated in order to meet the patients physical, emotional, mental and religious needs as well as their developmental needs.in the united states, veterinary schools that offer internships are limited in their selection of students based on experience and reputation. internships are competitive; the top 5 to 10% of students are offered internships in different locations around the united states. the majority of students have either a master or doctoral degree in veterinary science. the internships are facilitated by the university veterinary science education credential. the university veterinary science education credential recognizes the research experience gained while living in a zoos or breeding facility during the past 20 years.in many countries, a veterinary medical professional has achieved stardom by association with an animal shelter or a zoos animal shelter through affiliation with an animal welfare organization. in the united kingdom, the veterinary medical doctor is a doctor of veterinary medicine and was formerly a professor of veterinary science at the university of oxford, and is currently an academic consultant to the royal college of physicians.a 2017 british report, presented by the british veterinary association, recommends the \"cautious use of modern techniques in the estimation of gallbladder pressures, especially in intensive care, to assist veterinary surgeons in the detection of gallstones and assist in their care in an emergency by alerting them to the presence of a significant problem\".as an otolaryngologist, i use a digital scale to monitor if my patients are at the end of their normal range.the most common risk factors for dementia in people are hypertension  in 2016, smoking was the most common risk factor.among older people, higher doses of nicotine, alcohol and other drugs used in the past 30 days is associated with a greater risk of dementia. these drugs exert a synergistic effect by increasing oxidative stress and decreasing interleukin-4, a molecule that plays a role in the disease. the combination of alcohol, nicotine, and drugs is known as in vivo co-morbid medicine. among younger people, drugs other than alcohol and drug supplements are also known to cause dementia. this is often due to their unintentional drug exposure during their participation in activities outside of their normal range. a 2015 pakistani study showed that every year an elderly person smoked 30 cigarettes or more was associated with an increased risk of death. the maximum daily intake of nicotine for people aged 110 years who have had a cigarette are estimated to be around 325,000. the\n",
            "\n",
            "Saving checkpoint/run4/model-8500\n",
            "Saving checkpoint/run4/model-8600\n",
            "Saving checkpoint/run4/model-8700\n",
            "[8800 | 5429.33] loss=1.29 avg=2.22\n",
            "Saving checkpoint/run4/model-8800\n",
            "======== SAMPLE 1 ========\n",
            " were by the end of the 19th century the most important producers of coal in the world.in the wake of the great depression the coal industry of the united states was a major economic driver behind prohibition. the us congress passed the national industrial coal boycott legislation in the 1930s in an attempt to force the uk government to ban coal exports. the law effectively ended the supply of uk coal to the us and significantly restricted american export privileges. the boycott was supported by the oil and coal industries and others. the coal industry has since experienced a very soft landing. in 2017 the new york times declared the coal industry is in serious danger in the transition from coal to cleaner energy.the most notable form of regulation in the united states is the states environmental protection and tourism act a report by the environmental protection agency in 2019 found that south carolina, kentucky, and pennsylvania had the highest pollution burdens in the united states. a 2018 study found south carolina and kentucky were among the highest polluting states, and that northerners were more polluted than their neighbors.a number of environmental groups, such as the league of american fisher fowl farmers, the league of american ice cream brewers, the league of conservation voters, the league of american cheese makers, the league of american glass manufacturers, the league of american oil-equipping companies, the league of american coal miners, the league of american furniture builders and the league of american food processors, have sprung from environmental issues and advocacy.  environmental groups have also sought to influence government policy, such as the league of american engineers, a league created in 1989 after oilman edward bosely led a group of engineers; the league of american coal miners and members of the national football league  in addition to environmental groups, there are also a number of charitable organizations dedicated to environmental issues. groups dedicated to animal protection include the league of american animal farmers, a league founded in 2006 after the deaths of skugsley, kansas head coach and general manager a.m. buhage; another league founded in 2016 after a mother of four lost both of her children to fire; the alessia carr fire protection league founded in response to the deaths of brothers andy anderson and jade london, the first and only african american football coach to be killed in an arson attack in american football.since the 1970s most coaches in the nfl are black males. in 2004, 40 percent of the german-born head coaches were black. on june 19, 2010, lance fauskierlein was sworn in as an nfl head coach. there is an afro-american council at nfl through the nfl afro-american organization.the nfl operates nfl.com, nflvu, and nflld. nfl games are streamed through various web streams. nflvu operates nflvideo and nflgame nights. nfllive.com provides live scores, results and other resources.in addition, the nfl and professional football are broadcast on cbs, espn and nbcs television channels.in the uk, nfl games are broadcast on bbc, sportsnight, sportsland, sportscenter and wildlife spotlights.in germany and the rest of europe there are numerous nfl teams. they do not compete with the australian national football league australian rules football has its roots in rules emerged in australia, france and greece around the 8th century ad. the australian rules of football are similar to the australian rules of rugby 07. australian rules football was banned in england and wales in 1901. this was replaced by the royal ball found in 1925. in 2001 the rugby union world cup was announced, featuring 12 representatives from 11 countries. australian rules football has since be used in australia, canada and canada and is played by schools and teams of all nationalities including by-laws, clubs, associations and individuals.rules for australian rules football are found in the australian rules of athletic agreement between the british football association  australian rules football is played in australia by select members of the public at subsidised rates. it was originally known as soccer ball. the rules are identical to the international rules football. it is a variant of australian rules football. when australian rules football was introduced interstate competition of australian rules football matches was banned in south australia in 1911 for playing as sport. an attempt to play australian rules football in england in 1912 at the stadium of york between rugby and australian rules football was interrupted by police.in south africa, the game has been popularly known as nz nzekele.south africa hosts both a national competition and a confederation of south africas international football.the football association hall of\n",
            "\n",
            "Saving checkpoint/run4/model-8900\n",
            "Saving checkpoint/run4/model-9000\n",
            "Saving checkpoint/run4/model-9100\n",
            "[9200 | 5676.79] loss=1.35 avg=2.18\n",
            "Saving checkpoint/run4/model-9200\n",
            "======== SAMPLE 1 ========\n",
            "erting on the basis of evidence rather than conjecture. these studies would be conducted by scientists whose research is supported by independent grants from the national institutes of health in the san francisco bay area, the university of california, san francisco and the national institutes of health in washington state, for example.these two organisations represent the four largest medical universities in the united states. one can also find information on the campuses of the other universities online and the local school of medicine in many of the bay areas northern cities, while the school of medicine of san franciscos campus consists of the campus of the university of california, san francisco and the school of dental medicine in san francisco since 1950, the san franciscos mission has been the service and education of the people of san francisco  that mission was articulated in 1848. the mission statement then stated the peoples \"undivided and unqualified love of the community and belief in the goodness of God\" and \"pervasive habit of selfishness\", a description that the new cityscape chose for itself in its vision. this united front and devotion to the public was manifested most clearly through the menorah, created by christopher gordon to symbolise christian diversity and tote the golden badge of the san franciscos cityscape was the first major redesign of the urban area of california. from this re-planning, the area was initially divided into four squares, each of which represented a different function: square 101 was banking, square 104 was finance, square 105 was military, and square 106 was city governance. these were followed by square 207, square 208, square 209, and square 210, which was also followed by square 211, square 213, and square 214 which was also followed by square 217 which was also followed by square 218, square 219, and square 220. in the late 1960s and early 1970s, the areas south of the golden gate began to re-emerge as a hub of commerce and of cultural life, especially in the square south of the cathedral, which symbolised the spiritual, economic, and aesthetic center of the city0th century. this period of california was characterized by a sharp reversal of the prior golden era of california economy. the state was heavily dependent upon farming and ranching, creating tremendous hardship for the farmers and ranching community. the 1980 california drought left many farmers in financial ruin and led to a severe reduction in ranching receipts. the farmers suffered from high unemployment, which led to widespread distress among the farm families.the 1980 california drought, one of the worst in california history, led the farmers and ranchers to form the farmers united for justice  a coalition of 11 groups and organizations including environmentalists, farmworkers union, local governments, conservationists, environmental justice, the childrens defense fund and many other individuals united for conservation with the farmers united for justice formed to help the farmers.  it was not until the collapse of the housing market in the second half of 1998 that the state legislature passed a moratorium on new housing permits and construction, raising the stock prices of farm equipment and home construction.a significant portion of the us agricultural industry depends upon the california economy, either directly or indirectly as employees and farm tenants. the california economy is the fourth largest in the united states. the us agricultural industry generates between $769.4 billion and $778.1 billion, generating $21.2 billion and $23.3 billion, respectively. california agriculture is the worlds fourth largest producer of beef, producing 3.15 million tonnes in 2018, and pork is the second-largest beef producer, with 1.88 million tons in 2018. the us production of shrimp, accounting for 4.24 million tonnes in 2018, is the fifth largest in the united states. as of 2010, california shrimp production was the second largest producer of shrimp in the united states. as of 2010, the third largest shrimp producer is from shrimp island, russia., coral reef ecology is the study of the architecture and processes of coral reefs. coral reef ecosystems are found on all continents except for a few islands.the western cenozoic era, from about 252 to 220 million years ago, saw the last mass extinction of coral reefs. today, it is considered one of the most severe periods on earth in which massive extinction has occurred.the western coneanthropogenic hypothesis explains the cause and extent of extinctions by suggesting that a large-scale, biotic event caused the great extinction, followed by the anglo-american extinction.the european cetacea, from 250 to 260 million years ago, saw the extinction of many species. some of the largest extinction events included the pleistocene extinction of the pteropus maximus  and the megadrought of the cowpecan  it has been suggested that the cetaceans experienced the mega-event more than the other vertebrates as juveniles and as juveniles were relatively easy to handle  other\n",
            "\n",
            "Saving checkpoint/run4/model-9300\n",
            "Saving checkpoint/run4/model-9400\n",
            "Saving checkpoint/run4/model-9500\n",
            "[9600 | 5926.24] loss=2.57 avg=2.20\n",
            "Saving checkpoint/run4/model-9600\n",
            "======== SAMPLE 1 ========\n",
            " mameradins court, while the japanese komaki government established the first general assembly  komaki himself was accused of plotting against the japanese in march 1940, but his sons admitted that nothing happened as he had not received a proper education.at first, ri2. he ordered an intensive military campaign known as the japanese campaign, in which 300,000 japanese were killed in one of the bloodiest campaigns in history, the bloodiest since the gichin funakoshi. the battle for the city of kamchatka took place in the autumn of 1941, two months before gichin funakoshi was killed. the campaign ended in defeat for japan, but thanks to ri0 japan was awarded the medal of honor and distinction by the united states. japan lost the war but recovered and fought the allied invasion of the soviet union of 1941. the japanese took advantage of the occupation of davos in 1975 and the cold war to establish a military presence in central and northern europe.in the early 1930s, davos was placed under japanese protection by the ottoman government at the start of the korean war. in the mid-1930s, riutenant general myoji kawada headed a japanese expeditionary force against the south gosport road on the german/chinese border. a korean army corps under kim ming  however, the japanese were defeated and retreated deeper into the chinese border.the japanese entered the russo-japanese war on the western front, first in the german-borch-japanese battle of borenj, then in the japanese-korean war of 1950, and in the japan-korean war of 1950-1954. they were involved in all of the conflicts for another half a century, and when korea came under japanese rule in 1953, the japanese declared korea as the japanese autonomous region, which meant establishing an armistice commission and other activities.in april 1953, kawada was succeeded by his brother, prime minister takaki kawada, who continued with the plan of appeasement through a parallel government, under which appeasement was not pursued nor accepted. kawada and his government then conducted an internal investigation into whether or not to accept the proposed russo-japanese agreement as a russo-japanese solution in order to resolve the korean0, kawada became president and attempted to restart the russian-japanese peace talks. after privately protesting for some time, russia agreed to start talks for the return of korea. at the summit meeting of korean premier nagurno in vienna in mid-june, the three leaders agreed to resume russian-japanese negotiations with consent by both japan and china so that china could recognize the rule of japan and hence be able to intervene in korea. this was accomplished with the participation of russia, the soviet union, and china, with the participation of the japan american leaders, in that a new russian-japanese meeting was held in vienna on 27 june to conclude the return of korea, with the participation, in the latter part of the meeting, by korea foreign minister kim jong-un, in the presence of their special envoy to the un exploitation of the korean war  kim jong-un presented the draft korea reunification plan to the meeting of un representatives in hyannis on 17 june, but the korean government repressed any talk of repatriation.there had been talk of a formal peace settlement with the ottomans, since the war began, but this never took place. rather diplomatic activity was suspended and a diplomatic truce was upheld only in vienna, with the final visit of kim jong-un to north korea by 31 june in a diplomatic episode which saw jong-un give orders to kim il-sung to \"cound as long as you want to leave, but never talk to kim king kim kim\" about the north korean demilitarized zone. in return, kim il-sung ordered that kim jong-un to \"take your program over with the assumption that you are peaceful,\" a reference to the possibility of a russo-japanese peace treaty after the end of the korean war. in addition, kim il-sung wanted to establish a \"just transition period,\" to permit \"peaceful unification, reintegration without limits,\" in order to facilitate reunification with north korea.on 24 august, jong-un returned to sunchon in northern korea, while kim il-sung and kim kaekhyong went to kim j\n",
            "\n",
            "Saving checkpoint/run4/model-9700\n",
            "Saving checkpoint/run4/model-9800\n",
            "Saving checkpoint/run4/model-9900\n",
            "[10000 | 6176.32] loss=1.28 avg=2.15\n",
            "Saving checkpoint/run4/model-10000\n",
            "======== SAMPLE 1 ========\n",
            " philosophy and in particular the doctrine of the catholic church. in that sense, it may be said that the catholic church is catholic. however, the term is used very differently in different ways in medieval christianity and within it.the first to adopt the new term the latin church used it to refer to the whole apostolic-cultural church, including individual priests and pastors, congregations and aetas as well as the liturgical, theological and credentialing traditions of the local bishop.the latins initially referred to the church as the \"cemeterian syncretic\", which would eventually become the modern term for the church synchronously and culturally. however, by the late fourth century, the synod restricted its scope to the latin church and in the latin church alone still. the term synod was based on the Latin word 3and 6 and 7 times 10. the term became the synodal symbol in the middle ages.the church of england used the name \"catholic\" in the middle of the 6th century to refer to the church in england and was used in the united kingdom until the seventeenth century. the term \"synod\" was used by the church of england and wesley as the term was known in england and wesleymore as the synodary symbol. the synod of around 500 used the symbol of its charter rather than the symbol of the archbishop, thus making it more internationally recognised. the name became Anglican, not catholic, in the west. the terms \"catholic\" and \"synodal\" have since been used as synonyms.in canada, the church of england retained the church symbol and the name in the 19th century, the church of england adopted the symbol of the cross as its own symbol, typically with a dove. the symbol can be either a red cross, an anglican or a dove girdle. in november 1905, following the death of alfred dearborn, the fourth patriarch of the church of england, benjamin e. davis succeeded to the episcopal throne by securing the archbishops of henley, leicester, midhurst and werribee. however, no bishops of henley, leicester, midhurst or werribee has been granted the office of patriarch.in the islamic world the church symbol of the islamic world differs from that of the western world. although there are, in some respects, similar symbols, these are uncommon or have limited symbolic value compared to the church symbol. as early as the tenth or eleventh century, walla maps of the east and west african countries showed the kangaroo and the cassowary, and in 1275, the european map showed a symbol of the kangaroo and cassowary. however, the earliest references to the church symbol in islam are from 1272, the first reference to a church symbol in ad 1129.in the western canon law of the twelfth amendment to the united states constitution, the catholic church cannot own property.the term \"church\" was used for the congregationalist christs from the twelfth century onwards in english usage. the term was first used for catholic churches in the west in 1104. in 1283 king charles iii of england allowed catholic churches to own property. in 1576, charles iii granted ordinands indulgences to members of the catholic church who had married out. by the late 14th century, however, most english-speaking countries had either defunct or non-existent catholic churches. in france, the anglican rectors guilds act created the anglican church of england, and in britain, in the seventeenth century, the religious and charitable foundation act established the anglican church of england as a separate legal entity. in 1583, the charitable, civic, rectors, and religious guilds act made the anglican church of north america the first legal entity in the united states.at the close of the 16th century, the anglican church of england was a body ordained by king luke iii of england on 15 march 1568 to carry on the royal prerogative of sustaining the catholic churches in uniting the catholic churches of north america into a single body, which was called the anglican church in 1649. the anglican church of britain was created on 13 september 1858.following the anglican reform movement in england and the subsequent english reforming election in 1690, which brought about the replacement of the old anglican form with the reformed form, the anglican church of canada was established in 1690 by john smeaton in 1688 in ontario, canada. smeaton, known as the father of anglican orthodoxy in ontario, was a british catholic\n",
            "\n",
            "Saving checkpoint/run4/model-10100\n",
            "Saving checkpoint/run4/model-10200\n",
            "Saving checkpoint/run4/model-10300\n",
            "[10400 | 6426.28] loss=1.90 avg=2.14\n",
            "Saving checkpoint/run4/model-10400\n"
          ],
          "name": "stdout"
        }
      ]
    },
    {
      "cell_type": "markdown",
      "metadata": {
        "id": "1zxmTM4czwU8"
      },
      "source": [
        "## Generating articles"
      ]
    },
    {
      "cell_type": "code",
      "metadata": {
        "id": "RY8QjVYoE301",
        "colab": {
          "base_uri": "https://localhost:8080/"
        },
        "outputId": "ce69721a-c221-4498-a00d-efd91125964c"
      },
      "source": [
        "fakes = []\r\n",
        "Human = []\r\n",
        "AI = []\r\n",
        "for i in range(180):\r\n",
        "  print(i) #Just to track progress\r\n",
        "  text = gpt2.generate(sess, return_as_list=True, run_name='run4')[0]\r\n",
        "  fakes.append(text)\r\n",
        "  Human.append(0)\r\n",
        "  AI.append(1)"
      ],
      "execution_count": null,
      "outputs": [
        {
          "output_type": "stream",
          "text": [
            "0\n",
            "1\n",
            "2\n",
            "3\n",
            "4\n",
            "5\n",
            "6\n",
            "7\n",
            "8\n",
            "9\n",
            "10\n",
            "11\n",
            "12\n",
            "13\n",
            "14\n",
            "15\n",
            "16\n",
            "17\n",
            "18\n",
            "19\n",
            "20\n",
            "21\n",
            "22\n",
            "23\n",
            "24\n",
            "25\n",
            "26\n",
            "27\n",
            "28\n",
            "29\n",
            "30\n",
            "31\n",
            "32\n",
            "33\n",
            "34\n",
            "35\n",
            "36\n",
            "37\n",
            "38\n",
            "39\n",
            "40\n",
            "41\n",
            "42\n",
            "43\n",
            "44\n",
            "45\n",
            "46\n",
            "47\n",
            "48\n",
            "49\n",
            "50\n",
            "51\n",
            "52\n",
            "53\n",
            "54\n",
            "55\n",
            "56\n",
            "57\n",
            "58\n",
            "59\n",
            "60\n",
            "61\n",
            "62\n",
            "63\n",
            "64\n",
            "65\n",
            "66\n",
            "67\n",
            "68\n",
            "69\n",
            "70\n",
            "71\n",
            "72\n",
            "73\n",
            "74\n",
            "75\n",
            "76\n",
            "77\n",
            "78\n",
            "79\n",
            "80\n",
            "81\n",
            "82\n",
            "83\n",
            "84\n",
            "85\n",
            "86\n",
            "87\n",
            "88\n",
            "89\n",
            "90\n",
            "91\n",
            "92\n",
            "93\n",
            "94\n",
            "95\n",
            "96\n",
            "97\n",
            "98\n",
            "99\n",
            "100\n",
            "101\n",
            "102\n",
            "103\n",
            "104\n",
            "105\n",
            "106\n",
            "107\n",
            "108\n",
            "109\n",
            "110\n",
            "111\n",
            "112\n",
            "113\n",
            "114\n",
            "115\n",
            "116\n",
            "117\n",
            "118\n",
            "119\n",
            "120\n",
            "121\n",
            "122\n",
            "123\n",
            "124\n",
            "125\n",
            "126\n",
            "127\n",
            "128\n",
            "129\n",
            "130\n",
            "131\n",
            "132\n",
            "133\n",
            "134\n",
            "135\n",
            "136\n",
            "137\n",
            "138\n",
            "139\n",
            "140\n",
            "141\n",
            "142\n",
            "143\n",
            "144\n",
            "145\n",
            "146\n",
            "147\n",
            "148\n",
            "149\n",
            "150\n",
            "151\n",
            "152\n",
            "153\n",
            "154\n",
            "155\n",
            "156\n",
            "157\n",
            "158\n",
            "159\n",
            "160\n",
            "161\n",
            "162\n",
            "163\n",
            "164\n",
            "165\n",
            "166\n",
            "167\n",
            "168\n",
            "169\n",
            "170\n",
            "171\n",
            "172\n",
            "173\n",
            "174\n",
            "175\n",
            "176\n",
            "177\n",
            "178\n",
            "179\n"
          ],
          "name": "stdout"
        }
      ]
    },
    {
      "cell_type": "code",
      "metadata": {
        "colab": {
          "base_uri": "https://localhost:8080/",
          "height": 402
        },
        "id": "Ne07A0SiBoVn",
        "outputId": "3eebd1ed-0ddf-4b1d-a83d-e1e70330a007"
      },
      "source": [
        "import pandas as pd\r\n",
        "\r\n",
        "df = pd.DataFrame(fakes)\r\n",
        "df.columns = ['Text']\r\n",
        "df['Human'] = Human\r\n",
        "df['AI'] = AI\r\n",
        "df"
      ],
      "execution_count": null,
      "outputs": [
        {
          "output_type": "execute_result",
          "data": {
            "text/html": [
              "<div>\n",
              "<style scoped>\n",
              "    .dataframe tbody tr th:only-of-type {\n",
              "        vertical-align: middle;\n",
              "    }\n",
              "\n",
              "    .dataframe tbody tr th {\n",
              "        vertical-align: top;\n",
              "    }\n",
              "\n",
              "    .dataframe thead th {\n",
              "        text-align: right;\n",
              "    }\n",
              "</style>\n",
              "<table border=\"1\" class=\"dataframe\">\n",
              "  <thead>\n",
              "    <tr style=\"text-align: right;\">\n",
              "      <th></th>\n",
              "      <th>Text</th>\n",
              "      <th>Human</th>\n",
              "      <th>AI</th>\n",
              "    </tr>\n",
              "  </thead>\n",
              "  <tbody>\n",
              "    <tr>\n",
              "      <th>0</th>\n",
              "      <td>the german army defeated the austro-hungarian...</td>\n",
              "      <td>0</td>\n",
              "      <td>1</td>\n",
              "    </tr>\n",
              "    <tr>\n",
              "      <th>1</th>\n",
              "      <td>of the species, the ancestors have been found...</td>\n",
              "      <td>0</td>\n",
              "      <td>1</td>\n",
              "    </tr>\n",
              "    <tr>\n",
              "      <th>2</th>\n",
              "      <td>if a person is placed in a situation that pose...</td>\n",
              "      <td>0</td>\n",
              "      <td>1</td>\n",
              "    </tr>\n",
              "    <tr>\n",
              "      <th>3</th>\n",
              "      <td>2014 marks the first time in seven decades tha...</td>\n",
              "      <td>0</td>\n",
              "      <td>1</td>\n",
              "    </tr>\n",
              "    <tr>\n",
              "      <th>4</th>\n",
              "      <td>2016 was a year of transition for mormon women...</td>\n",
              "      <td>0</td>\n",
              "      <td>1</td>\n",
              "    </tr>\n",
              "    <tr>\n",
              "      <th>...</th>\n",
              "      <td>...</td>\n",
              "      <td>...</td>\n",
              "      <td>...</td>\n",
              "    </tr>\n",
              "    <tr>\n",
              "      <th>175</th>\n",
              "      <td>by jonathan rosen\\n\\njonathan rosen is a senio...</td>\n",
              "      <td>0</td>\n",
              "      <td>1</td>\n",
              "    </tr>\n",
              "    <tr>\n",
              "      <th>176</th>\n",
              "      <td>he was able to maintain good relations with t...</td>\n",
              "      <td>0</td>\n",
              "      <td>1</td>\n",
              "    </tr>\n",
              "    <tr>\n",
              "      <th>177</th>\n",
              "      <td>mealworms are shed during the larval phase of ...</td>\n",
              "      <td>0</td>\n",
              "      <td>1</td>\n",
              "    </tr>\n",
              "    <tr>\n",
              "      <th>178</th>\n",
              "      <td>by\\n\\nby 2015, syrian president muammar gaddaf...</td>\n",
              "      <td>0</td>\n",
              "      <td>1</td>\n",
              "    </tr>\n",
              "    <tr>\n",
              "      <th>179</th>\n",
              "      <td>1928: the first automobile and motorcycle taxi...</td>\n",
              "      <td>0</td>\n",
              "      <td>1</td>\n",
              "    </tr>\n",
              "  </tbody>\n",
              "</table>\n",
              "<p>180 rows × 3 columns</p>\n",
              "</div>"
            ],
            "text/plain": [
              "                                                  Text  Human  AI\n",
              "0     the german army defeated the austro-hungarian...      0   1\n",
              "1     of the species, the ancestors have been found...      0   1\n",
              "2    if a person is placed in a situation that pose...      0   1\n",
              "3    2014 marks the first time in seven decades tha...      0   1\n",
              "4    2016 was a year of transition for mormon women...      0   1\n",
              "..                                                 ...    ...  ..\n",
              "175  by jonathan rosen\\n\\njonathan rosen is a senio...      0   1\n",
              "176   he was able to maintain good relations with t...      0   1\n",
              "177  mealworms are shed during the larval phase of ...      0   1\n",
              "178  by\\n\\nby 2015, syrian president muammar gaddaf...      0   1\n",
              "179  1928: the first automobile and motorcycle taxi...      0   1\n",
              "\n",
              "[180 rows x 3 columns]"
            ]
          },
          "metadata": {
            "tags": []
          },
          "execution_count": 6
        }
      ]
    },
    {
      "cell_type": "code",
      "metadata": {
        "id": "jD4MGV-26TrA"
      },
      "source": [
        "df.to_csv('drive/MyDrive/Generated.csv')"
      ],
      "execution_count": null,
      "outputs": []
    },
    {
      "cell_type": "code",
      "metadata": {
        "id": "1xpH-NTwdwwg",
        "colab": {
          "base_uri": "https://localhost:8080/"
        },
        "outputId": "3e46a9a5-60f3-47b9-ca83-0cd5a5764e5d"
      },
      "source": [
        "fakes = []\r\n",
        "Human = []\r\n",
        "AI = []\r\n",
        "for i in range(5):\r\n",
        "  print(i) #Just to track progress\r\n",
        "  text = gpt2.generate(sess, return_as_list=True, run_name='run4')[0]\r\n",
        "  fakes.append(text)\r\n",
        "  Human.append(0)\r\n",
        "  AI.append(1)"
      ],
      "execution_count": null,
      "outputs": [
        {
          "output_type": "stream",
          "text": [
            "0\n",
            "1\n",
            "2\n",
            "3\n",
            "4\n"
          ],
          "name": "stdout"
        }
      ]
    },
    {
      "cell_type": "code",
      "metadata": {
        "id": "05KC2AEbnCAY",
        "colab": {
          "base_uri": "https://localhost:8080/",
          "height": 195
        },
        "outputId": "085bd026-bb1c-4e70-a04b-2efa23aebde4"
      },
      "source": [
        "import pandas as pd\r\n",
        "\r\n",
        "df = pd.DataFrame(fakes)\r\n",
        "df.columns = ['Text']\r\n",
        "df['Human'] = Human\r\n",
        "df['AI'] = AI\r\n",
        "df"
      ],
      "execution_count": null,
      "outputs": [
        {
          "output_type": "execute_result",
          "data": {
            "text/html": [
              "<div>\n",
              "<style scoped>\n",
              "    .dataframe tbody tr th:only-of-type {\n",
              "        vertical-align: middle;\n",
              "    }\n",
              "\n",
              "    .dataframe tbody tr th {\n",
              "        vertical-align: top;\n",
              "    }\n",
              "\n",
              "    .dataframe thead th {\n",
              "        text-align: right;\n",
              "    }\n",
              "</style>\n",
              "<table border=\"1\" class=\"dataframe\">\n",
              "  <thead>\n",
              "    <tr style=\"text-align: right;\">\n",
              "      <th></th>\n",
              "      <th>Text</th>\n",
              "      <th>Human</th>\n",
              "      <th>AI</th>\n",
              "    </tr>\n",
              "  </thead>\n",
              "  <tbody>\n",
              "    <tr>\n",
              "      <th>0</th>\n",
              "      <td>. since the 1980s, there has been a significan...</td>\n",
              "      <td>0</td>\n",
              "      <td>1</td>\n",
              "    </tr>\n",
              "    <tr>\n",
              "      <th>1</th>\n",
              "      <td>7-million-yen, a man who had a romantic intere...</td>\n",
              "      <td>0</td>\n",
              "      <td>1</td>\n",
              "    </tr>\n",
              "    <tr>\n",
              "      <th>2</th>\n",
              "      <td>as the iotv channel is not a state channel, t...</td>\n",
              "      <td>0</td>\n",
              "      <td>1</td>\n",
              "    </tr>\n",
              "    <tr>\n",
              "      <th>3</th>\n",
              "      <td>rakuten is an official state-owned enterprise ...</td>\n",
              "      <td>0</td>\n",
              "      <td>1</td>\n",
              "    </tr>\n",
              "    <tr>\n",
              "      <th>4</th>\n",
              "      <td>etymology 2:in 1869, the german natural philos...</td>\n",
              "      <td>0</td>\n",
              "      <td>1</td>\n",
              "    </tr>\n",
              "  </tbody>\n",
              "</table>\n",
              "</div>"
            ],
            "text/plain": [
              "                                                Text  Human  AI\n",
              "0  . since the 1980s, there has been a significan...      0   1\n",
              "1  7-million-yen, a man who had a romantic intere...      0   1\n",
              "2   as the iotv channel is not a state channel, t...      0   1\n",
              "3  rakuten is an official state-owned enterprise ...      0   1\n",
              "4  etymology 2:in 1869, the german natural philos...      0   1"
            ]
          },
          "metadata": {
            "tags": []
          },
          "execution_count": 7
        }
      ]
    },
    {
      "cell_type": "code",
      "metadata": {
        "id": "Mn3hKQHfd2aP"
      },
      "source": [
        "df.to_csv('drive/MyDrive/Extras.csv')"
      ],
      "execution_count": null,
      "outputs": []
    }
  ]
}