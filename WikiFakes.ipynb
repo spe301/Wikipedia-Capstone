{
  "nbformat": 4,
  "nbformat_minor": 0,
  "metadata": {
    "colab": {
      "name": "WikiFakes.ipynb",
      "provenance": [],
      "collapsed_sections": [],
      "machine_shape": "hm",
      "authorship_tag": "ABX9TyNU6y4lccImQb9+o8aJBUzK",
      "include_colab_link": true
    },
    "kernelspec": {
      "name": "python3",
      "display_name": "Python 3"
    },
    "accelerator": "GPU"
  },
  "cells": [
    {
      "cell_type": "markdown",
      "metadata": {
        "id": "view-in-github",
        "colab_type": "text"
      },
      "source": [
        "<a href=\"https://colab.research.google.com/github/spe301/Wikipedia-Capstone/blob/main/WikiFakes.ipynb\" target=\"_parent\"><img src=\"https://colab.research.google.com/assets/colab-badge.svg\" alt=\"Open In Colab\"/></a>"
      ]
    },
    {
      "cell_type": "markdown",
      "metadata": {
        "id": "bPjDbdHWpQle"
      },
      "source": [
        "## Warning!!! This notebook takes 5 hours to run on a GPU!"
      ]
    },
    {
      "cell_type": "markdown",
      "metadata": {
        "id": "FsnCteZ6llMp"
      },
      "source": [
        "# This notebook is part 1 of a 2 part series. In this notebook I generate text by training gpt2 on Wikipedia articles. In the next one I build a classifier to classify the real articles from the generated ones."
      ]
    },
    {
      "cell_type": "markdown",
      "metadata": {
        "id": "5YAXMOlgm85c"
      },
      "source": [
        "# Here's the link to the other notebook... https://colab.research.google.com/github/spe301/Wikipedia-Capstone/blob/main/Discriminator.ipynb"
      ]
    },
    {
      "cell_type": "markdown",
      "metadata": {
        "id": "cZ95V0MEB5wJ"
      },
      "source": [
        "# Downgrading Tensorflow"
      ]
    },
    {
      "cell_type": "markdown",
      "metadata": {
        "id": "hmSYvw5HCChF"
      },
      "source": [
        "GPT2 needs tensorflow.contrib whith is only avalible in tensorflow 1.x versions"
      ]
    },
    {
      "cell_type": "code",
      "metadata": {
        "colab": {
          "base_uri": "https://localhost:8080/"
        },
        "id": "erm0up4CcU1h",
        "outputId": "2e83a18b-32f8-42bc-de24-9d4182dd5137"
      },
      "source": [
        "!pip install tensorflow-gpu==1.15"
      ],
      "execution_count": null,
      "outputs": [
        {
          "output_type": "stream",
          "text": [
            "Collecting tensorflow-gpu==1.15\n",
            "\u001b[?25l  Downloading https://files.pythonhosted.org/packages/a5/ad/933140e74973fb917a194ab814785e7c23680ca5dee6d663a509fe9579b6/tensorflow_gpu-1.15.0-cp36-cp36m-manylinux2010_x86_64.whl (411.5MB)\n",
            "\u001b[K     |████████████████████████████████| 411.5MB 40kB/s \n",
            "\u001b[?25hRequirement already satisfied: six>=1.10.0 in /usr/local/lib/python3.6/dist-packages (from tensorflow-gpu==1.15) (1.15.0)\n",
            "Requirement already satisfied: wheel>=0.26 in /usr/local/lib/python3.6/dist-packages (from tensorflow-gpu==1.15) (0.36.2)\n",
            "Requirement already satisfied: protobuf>=3.6.1 in /usr/local/lib/python3.6/dist-packages (from tensorflow-gpu==1.15) (3.12.4)\n",
            "Requirement already satisfied: opt-einsum>=2.3.2 in /usr/local/lib/python3.6/dist-packages (from tensorflow-gpu==1.15) (3.3.0)\n",
            "Requirement already satisfied: absl-py>=0.7.0 in /usr/local/lib/python3.6/dist-packages (from tensorflow-gpu==1.15) (0.10.0)\n",
            "Collecting keras-applications>=1.0.8\n",
            "\u001b[?25l  Downloading https://files.pythonhosted.org/packages/71/e3/19762fdfc62877ae9102edf6342d71b28fbfd9dea3d2f96a882ce099b03f/Keras_Applications-1.0.8-py3-none-any.whl (50kB)\n",
            "\u001b[K     |████████████████████████████████| 51kB 7.4MB/s \n",
            "\u001b[?25hCollecting tensorboard<1.16.0,>=1.15.0\n",
            "\u001b[?25l  Downloading https://files.pythonhosted.org/packages/1e/e9/d3d747a97f7188f48aa5eda486907f3b345cd409f0a0850468ba867db246/tensorboard-1.15.0-py3-none-any.whl (3.8MB)\n",
            "\u001b[K     |████████████████████████████████| 3.8MB 50.4MB/s \n",
            "\u001b[?25hRequirement already satisfied: wrapt>=1.11.1 in /usr/local/lib/python3.6/dist-packages (from tensorflow-gpu==1.15) (1.12.1)\n",
            "Collecting gast==0.2.2\n",
            "  Downloading https://files.pythonhosted.org/packages/4e/35/11749bf99b2d4e3cceb4d55ca22590b0d7c2c62b9de38ac4a4a7f4687421/gast-0.2.2.tar.gz\n",
            "Requirement already satisfied: google-pasta>=0.1.6 in /usr/local/lib/python3.6/dist-packages (from tensorflow-gpu==1.15) (0.2.0)\n",
            "Requirement already satisfied: grpcio>=1.8.6 in /usr/local/lib/python3.6/dist-packages (from tensorflow-gpu==1.15) (1.32.0)\n",
            "Requirement already satisfied: keras-preprocessing>=1.0.5 in /usr/local/lib/python3.6/dist-packages (from tensorflow-gpu==1.15) (1.1.2)\n",
            "Requirement already satisfied: termcolor>=1.1.0 in /usr/local/lib/python3.6/dist-packages (from tensorflow-gpu==1.15) (1.1.0)\n",
            "Requirement already satisfied: astor>=0.6.0 in /usr/local/lib/python3.6/dist-packages (from tensorflow-gpu==1.15) (0.8.1)\n",
            "Collecting tensorflow-estimator==1.15.1\n",
            "\u001b[?25l  Downloading https://files.pythonhosted.org/packages/de/62/2ee9cd74c9fa2fa450877847ba560b260f5d0fb70ee0595203082dafcc9d/tensorflow_estimator-1.15.1-py2.py3-none-any.whl (503kB)\n",
            "\u001b[K     |████████████████████████████████| 512kB 60.2MB/s \n",
            "\u001b[?25hRequirement already satisfied: numpy<2.0,>=1.16.0 in /usr/local/lib/python3.6/dist-packages (from tensorflow-gpu==1.15) (1.19.4)\n",
            "Requirement already satisfied: setuptools in /usr/local/lib/python3.6/dist-packages (from protobuf>=3.6.1->tensorflow-gpu==1.15) (51.0.0)\n",
            "Requirement already satisfied: h5py in /usr/local/lib/python3.6/dist-packages (from keras-applications>=1.0.8->tensorflow-gpu==1.15) (2.10.0)\n",
            "Requirement already satisfied: markdown>=2.6.8 in /usr/local/lib/python3.6/dist-packages (from tensorboard<1.16.0,>=1.15.0->tensorflow-gpu==1.15) (3.3.3)\n",
            "Requirement already satisfied: werkzeug>=0.11.15 in /usr/local/lib/python3.6/dist-packages (from tensorboard<1.16.0,>=1.15.0->tensorflow-gpu==1.15) (1.0.1)\n",
            "Requirement already satisfied: importlib-metadata; python_version < \"3.8\" in /usr/local/lib/python3.6/dist-packages (from markdown>=2.6.8->tensorboard<1.16.0,>=1.15.0->tensorflow-gpu==1.15) (3.3.0)\n",
            "Requirement already satisfied: zipp>=0.5 in /usr/local/lib/python3.6/dist-packages (from importlib-metadata; python_version < \"3.8\"->markdown>=2.6.8->tensorboard<1.16.0,>=1.15.0->tensorflow-gpu==1.15) (3.4.0)\n",
            "Requirement already satisfied: typing-extensions>=3.6.4; python_version < \"3.8\" in /usr/local/lib/python3.6/dist-packages (from importlib-metadata; python_version < \"3.8\"->markdown>=2.6.8->tensorboard<1.16.0,>=1.15.0->tensorflow-gpu==1.15) (3.7.4.3)\n",
            "Building wheels for collected packages: gast\n",
            "  Building wheel for gast (setup.py) ... \u001b[?25l\u001b[?25hdone\n",
            "  Created wheel for gast: filename=gast-0.2.2-cp36-none-any.whl size=7540 sha256=4a9bb6995e4491fbf3dced14b8df25b68e216d8754f655ccb1fe7bab95b4059d\n",
            "  Stored in directory: /root/.cache/pip/wheels/5c/2e/7e/a1d4d4fcebe6c381f378ce7743a3ced3699feb89bcfbdadadd\n",
            "Successfully built gast\n",
            "\u001b[31mERROR: tensorflow 2.4.0 has requirement gast==0.3.3, but you'll have gast 0.2.2 which is incompatible.\u001b[0m\n",
            "\u001b[31mERROR: tensorflow 2.4.0 has requirement tensorboard~=2.4, but you'll have tensorboard 1.15.0 which is incompatible.\u001b[0m\n",
            "\u001b[31mERROR: tensorflow 2.4.0 has requirement tensorflow-estimator<2.5.0,>=2.4.0rc0, but you'll have tensorflow-estimator 1.15.1 which is incompatible.\u001b[0m\n",
            "\u001b[31mERROR: tensorflow-probability 0.11.0 has requirement gast>=0.3.2, but you'll have gast 0.2.2 which is incompatible.\u001b[0m\n",
            "Installing collected packages: keras-applications, tensorboard, gast, tensorflow-estimator, tensorflow-gpu\n",
            "  Found existing installation: tensorboard 2.4.0\n",
            "    Uninstalling tensorboard-2.4.0:\n",
            "      Successfully uninstalled tensorboard-2.4.0\n",
            "  Found existing installation: gast 0.3.3\n",
            "    Uninstalling gast-0.3.3:\n",
            "      Successfully uninstalled gast-0.3.3\n",
            "  Found existing installation: tensorflow-estimator 2.4.0\n",
            "    Uninstalling tensorflow-estimator-2.4.0:\n",
            "      Successfully uninstalled tensorflow-estimator-2.4.0\n",
            "Successfully installed gast-0.2.2 keras-applications-1.0.8 tensorboard-1.15.0 tensorflow-estimator-1.15.1 tensorflow-gpu-1.15.0\n"
          ],
          "name": "stdout"
        }
      ]
    },
    {
      "cell_type": "markdown",
      "metadata": {
        "id": "qkHQRmBenNob"
      },
      "source": [
        "here's the link to the text file:\r\n",
        "https://github.com/spe301/Wikipedia-Capstone/blob/main/Data/Gpt2Training.txt "
      ]
    },
    {
      "cell_type": "code",
      "metadata": {
        "colab": {
          "resources": {
            "http://localhost:8080/nbextensions/google.colab/files.js": {
              "data": "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",
              "ok": true,
              "headers": [
                [
                  "content-type",
                  "application/javascript"
                ]
              ],
              "status": 200,
              "status_text": ""
            }
          },
          "base_uri": "https://localhost:8080/",
          "height": 73
        },
        "id": "EzLWsEDybRy4",
        "outputId": "1f548b24-3f5f-41f1-d962-248d5fdb7975"
      },
      "source": [
        "from google.colab import files\r\n",
        "path_to_file = list(files.upload().keys())[0]"
      ],
      "execution_count": null,
      "outputs": [
        {
          "output_type": "display_data",
          "data": {
            "text/html": [
              "\n",
              "     <input type=\"file\" id=\"files-873b07cb-b192-42a4-8aa0-3b0ea38975f4\" name=\"files[]\" multiple disabled\n",
              "        style=\"border:none\" />\n",
              "     <output id=\"result-873b07cb-b192-42a4-8aa0-3b0ea38975f4\">\n",
              "      Upload widget is only available when the cell has been executed in the\n",
              "      current browser session. Please rerun this cell to enable.\n",
              "      </output>\n",
              "      <script src=\"/nbextensions/google.colab/files.js\"></script> "
            ],
            "text/plain": [
              "<IPython.core.display.HTML object>"
            ]
          },
          "metadata": {
            "tags": []
          }
        },
        {
          "output_type": "stream",
          "text": [
            "Saving Gpt2Training.txt to Gpt2Training.txt\n"
          ],
          "name": "stdout"
        }
      ]
    },
    {
      "cell_type": "code",
      "metadata": {
        "colab": {
          "base_uri": "https://localhost:8080/"
        },
        "id": "Mwc_nj_x0yoC",
        "outputId": "5fe7facf-d4b9-41f5-9677-07f8f1d25f3b"
      },
      "source": [
        "text = open(path_to_file, 'rb').read().decode(encoding='utf8')\r\n",
        "print('Length of text: {} characters'.format(len(text)))"
      ],
      "execution_count": null,
      "outputs": [
        {
          "output_type": "stream",
          "text": [
            "Length of text: 17026144 characters\n"
          ],
          "name": "stdout"
        }
      ]
    },
    {
      "cell_type": "code",
      "metadata": {
        "colab": {
          "base_uri": "https://localhost:8080/"
        },
        "id": "4nOmNBcCvL7B",
        "outputId": "303b5ca4-2046-4741-8955-aec03d86938e"
      },
      "source": [
        "file_name = 'Gpt2Training.txt'\r\n",
        "\r\n",
        "# installing and importing gpt_2_simple library\r\n",
        "%tensorflow_version 1.x\r\n",
        "!pip install -q gpt-2-simple\r\n",
        "import gpt_2_simple as gpt2\r\n",
        "from datetime import datetime\r\n",
        "from google.colab import files\r\n",
        "# using 355M because our dataset exceeds 10MB\r\n",
        "gpt2.download_gpt2(model_name=\"355M\")\r\n",
        "gpt2.mount_gdrive()\r\n",
        "\r\n",
        "sess = gpt2.start_tf_sess()\r\n",
        "\r\n",
        "#finetune takes 2 hours!\r\n",
        "gpt2.finetune(sess,\r\n",
        "              dataset=file_name,\r\n",
        "              model_name='355M',\r\n",
        "              steps=10400, #long enough training to be coherent, but loss is still high enough to be slightly different\r\n",
        "              restore_from='latest',\r\n",
        "              run_name='run4',\r\n",
        "              print_every=400,\r\n",
        "              sample_every=400,\r\n",
        "              save_every=100,\r\n",
        "              overwrite=True,\r\n",
        "              )"
      ],
      "execution_count": null,
      "outputs": [
        {
          "output_type": "stream",
          "text": [
            "TensorFlow 1.x selected.\n",
            "  Building wheel for gpt-2-simple (setup.py) ... \u001b[?25l\u001b[?25hdone\n",
            "WARNING:tensorflow:\n",
            "The TensorFlow contrib module will not be included in TensorFlow 2.0.\n",
            "For more information, please see:\n",
            "  * https://github.com/tensorflow/community/blob/master/rfcs/20180907-contrib-sunset.md\n",
            "  * https://github.com/tensorflow/addons\n",
            "  * https://github.com/tensorflow/io (for I/O related ops)\n",
            "If you depend on functionality not listed there, please file an issue.\n",
            "\n"
          ],
          "name": "stdout"
        },
        {
          "output_type": "stream",
          "text": [
            "Fetching checkpoint: 1.05Mit [00:00, 547Mit/s]                                                      \n",
            "Fetching encoder.json: 1.05Mit [00:00, 126Mit/s]                                                    \n",
            "Fetching hparams.json: 1.05Mit [00:00, 498Mit/s]                                                    \n",
            "Fetching model.ckpt.data-00000-of-00001: 1.42Git [00:13, 105Mit/s]                                  \n",
            "Fetching model.ckpt.index: 1.05Mit [00:00, 373Mit/s]                                                \n",
            "Fetching model.ckpt.meta: 1.05Mit [00:00, 129Mit/s]                                                 \n",
            "Fetching vocab.bpe: 1.05Mit [00:00, 173Mit/s]                                                       \n"
          ],
          "name": "stderr"
        },
        {
          "output_type": "stream",
          "text": [
            "Mounted at /content/drive\n",
            "WARNING:tensorflow:From /usr/local/lib/python3.6/dist-packages/gpt_2_simple/src/sample.py:17: where (from tensorflow.python.ops.array_ops) is deprecated and will be removed in a future version.\n",
            "Instructions for updating:\n",
            "Use tf.where in 2.0, which has the same broadcast rule as np.where\n",
            "WARNING:tensorflow:From /usr/local/lib/python3.6/dist-packages/gpt_2_simple/src/memory_saving_gradients.py:62: get_backward_walk_ops (from tensorflow.contrib.graph_editor.select) is deprecated and will be removed after 2019-06-06.\n",
            "Instructions for updating:\n",
            "Please use tensorflow.python.ops.op_selector.get_backward_walk_ops.\n",
            "Loading checkpoint models/355M/model.ckpt\n",
            "INFO:tensorflow:Restoring parameters from models/355M/model.ckpt\n"
          ],
          "name": "stdout"
        },
        {
          "output_type": "stream",
          "text": [
            "\r  0%|          | 0/1 [00:00<?, ?it/s]"
          ],
          "name": "stderr"
        },
        {
          "output_type": "stream",
          "text": [
            "Loading dataset...\n"
          ],
          "name": "stdout"
        },
        {
          "output_type": "stream",
          "text": [
            "100%|██████████| 1/1 [00:19<00:00, 19.52s/it]\n"
          ],
          "name": "stderr"
        },
        {
          "output_type": "stream",
          "text": [
            "dataset has 3536642 tokens\n",
            "Training...\n",
            "Saving checkpoint/run4/model-0\n",
            "Saving checkpoint/run4/model-100\n",
            "WARNING:tensorflow:From /tensorflow-1.15.2/python3.6/tensorflow_core/python/training/saver.py:963: remove_checkpoint (from tensorflow.python.training.checkpoint_management) is deprecated and will be removed in a future version.\n",
            "Instructions for updating:\n",
            "Use standard file APIs to delete files with this prefix.\n",
            "Saving checkpoint/run4/model-200\n",
            "Saving checkpoint/run4/model-300\n",
            "[400 | 234.30] loss=3.11 avg=3.11\n",
            "Saving checkpoint/run4/model-400\n",
            "======== SAMPLE 1 ========\n",
            " of-day-of-event (and, after all, on a \"live\" stage. the last one for the band nevermind was performed in 1990 and was the last time that guitarist daniel kelley and bassist sam zelman left each other. in the early 2000s, in their final tour of the world as a rock band, bassist bob harris and drummer david e. makrud rejoined bassist zelman and guitarist klaus-franz, and returned for their final tour of the world in 2015. zelman departed on his own in 2017, and replaced jason nagel on bass as guitarist, while on tour. the end of his solo career was planned on 1 1 , with plans to reunite with the band in 2019. on 3 4, at the b-day of his death in december 2018, zelman announced his death at a funeral, having been in a coma for some time. zelman had announced the death on Twitter, saying:\"in lieu of my wishes, to thank you for every tweet about me. my thoughts and prayers will be with you when i die.  the lyrics to lyrics are very personal.\"in march 2019, they released the \"life changing decisions\" single with the song \"we were both still alive/you're dead now\", which featured a piano solo from zelman, harris/makrud, erika sarsgaard, and harris-makrud. zelman was also the lead singer and songwriter on the album, with harris and makrud producing both songs. harris-makrud joined zelman on 2 1, as the first single from the album. they joined harris/makrud for a tour of Europe in early 2020.on july 12, 2019, the band embarked on their second live tour, for which harris and makrud played the lead vocals with harris makrud. they appeared at the final shows and performed with the rest of the band.on september 29,2020, the band released their last studio album, \"the life changing decisions\". it was released on august 9. harris announced the band was embarking on a world tour for that date, which began in january 2021. harris said the tour would be \"full-band and single\", which would also take place in january 2021 and be produced by zellemns \"greater force of love\". the last tour stop will be in the south pacific.the band continued to tour as a rock band for many years after the death of zelman, which saw them play concerts in the united states for example, and in the united kingdom for instance. the band continued to write and record new material as recorded in the late 1980s and early 1990s, such as the track \"the next time\" featuring the band and their new guitarist hanna kasl. their last live concert was played in 2019, and the band continued to tour internationally and release records during that same period. in 2013, harris and makrud collaborated together on a documentary, \"the band\" which focuses on zelman and harris. this was the band's tenth anniversary tour, and it was also the bands first live tour in its home country, which harris called an \"important milestone\".the band spent 2014 as a tribute and celebration to zelman, with the band appearing in several new media events throughout the year. harris announced that his band would perform at the nhl awards ceremony on august 23. they were awarded for the best live tribute to zelman. harris was also joined by musician robby bennet, who tweeted:\"well, this all boulders with zellems memory. the only way to honor him would be to perform live.\" he also wrote a tribute to zelman, stating \"in lieu of zelman, my whole family will be there to honor him with a concert.\"as a tribute to zelman, the band released a video with zellemns in 2007. in 2011, they donated a portion of royalties from the band to support the band's philanthropic activities, and zellemns said the donation \"finally paid for what was needed\". after they lost their second member, harris announced that harris and zellemns would be the bands \"legal partners for some time\" on february 2016.in july 2019, harris and zellemns signed to a record label for the band. the band released two singles from the reissue that took place during their tour. the bands last single on the album, \"somewhere over the edge\", was a remix track, which harris said \"wasn't originally meant to be on there, but I'm doing it because I wanted everyone to know it was on.\" zeltman had described the original melody and lyrics as \"the first thing everyone should hear when they\n",
            "\n",
            "Saving checkpoint/run4/model-500\n",
            "Saving checkpoint/run4/model-600\n",
            "Saving checkpoint/run4/model-700\n",
            "[800 | 485.82] loss=3.35 avg=3.23\n",
            "Saving checkpoint/run4/model-800\n",
            "======== SAMPLE 1 ========\n",
            " frextruck. the vehicle is capable of cruising up to 32 kilometers per hour, which is capable of reaching speeds of 70 km/ hours. by its completion, the british motor museum also granted the american motoring magazines the right to reprint the cars drawings with any changes to them coming up over time, although it is prohibited from releasing such material without the owners permission.the car is based off the russian lancer motorbikes, and it has been modified by modifying its chassis, engine, transmission and other systems. the car features an oil-change system similar one found in the arctic racers. the car is powered by a pair of 250 cubic centimeters of mercury that circulates throughout the engine by means of a pressurised oil cooler located on the center floor top of the engine. the exhaust gases are transferred from the air to the exhaust, which also circulates through the engine and engine block. the exhaust flow of the engine is also limited with the oil cooler located above the engine block to prevent oil-choked components from escaping.the car runs for four laps around a 12km track before it is released from the garage onto the snow. on lap 3, it is ready to run again. on lap 4, it is ready to run again after the car had cooled down from the last lap. the car is used for a number of races by both drivers. they then compete to find the most efficient and fastest route to the finishing circuit. the victor of the first lap is the first to ride the lauter at a world championship event, which is held in miami in the united states.the lancer is raced on flat, paved surfaces and tracks such as the american half and nascar circuit at the annual global motorsports meeting.   the racing car is then re-attached to the wheels, which are fitted with various mechanical modifications.in the mid-1970s the british motor museum decided to turn the nascar circuit into an event more similar to the britannian half-mile than the half-mile.  they were given a grant to conduct a series of \"race drives\" that were held within a designated course within the circuits boundaries. these races were sponsored by american motor company at lauterlands and also included the car and race cars of the world, as well as other events.the british motor museum originally had plans to run the race on dune tracks, but the grant ran out prior to the project because the marines couldn't afford the additional expense of the \"duh\" track, which was set aside at the beginning of each event.  the official first drive of the lancer at marbles was held in 1974.  the second drive will be held in a special event within the calendar of the lancer, which will be held on september 26th, 1975. the three remaining races are all the following year, and the calendar of the race is determined by the time the final race ends. each of the three races is held on a course that is set by the british motor museum.in 1981, the british motor museum invited a collection of american motoring publications to publish a special, three-part feature-length magazine about the lancer titled the british motor museum: the cars inside. these publications included the races and magazines, as well as several other features, including photography, an issue of motoring of nico, a feature on the lancer and its racing cars, and another on the sport of motortown.  the special issue of the british motor museum included an analysis of racers and other drivers from across the globe for the special edition of the film lancer the last lap at miami was held in 1983 at marbles during the russian roulette circuit near sokolniki raceway. this was a grand prix  and first race of the lancer, held in a special event in the calendar of the lancer located at nagoya. after a lengthy period when the race was held mostly in winter due to the snow, the race is held in the summer, when it is on a course that varies by race. a special edition issue of motoring of nico also features a three-part feature-length race at st. patricks in the final race of the season, held at nagoya in the nascar world road race championship race  and as the only non-consecutive race without a winner at the time.on september 4, 2008, the liger ran a practice session, hosted by the car and its sponsors, at the tcn, an event hosted for racing events by the nascar community to raise funds for charity at the liger foundation. they are located at the tcn in miami, florida. the liger community was inspired by the tcn, which has raised over $150,000 dollars for numerous causes. this season, the liger is to appear for\n",
            "\n",
            "Saving checkpoint/run4/model-900\n",
            "Saving checkpoint/run4/model-1000\n",
            "Saving checkpoint/run4/model-1100\n",
            "[1200 | 733.92] loss=2.46 avg=2.97\n",
            "Saving checkpoint/run4/model-1200\n",
            "======== SAMPLE 1 ========\n",
            ". a group of men was arrested in 2011 after police found a 12-year-old boy had been \"brave enough to kiss\", apparently after their arrest, on a beach. after being questioned by the police, the boy was released under the conditions that he remain at his grandparents residence in al baydah until a date. according to local media, police claimed that it was the victim of a \"hate crime\" in light of the boy having been the victim of a rape in early 2012.in july 2012, a woman went missing from her beachfront home in san feilibos, malaysia. a friend of the victim claimed she had been brutally raped by kusun prince, a local bar patron, although her friend had later said that the sexual assault was not committed by a prostitute. the first details of her arrest appeared in a press conference held by malaysian police where prince was accused of sexually assaulting her. the same month, reports emerged that two teenage girls had been gang-raped by two men who were later sentenced to jail. the police are investigating the incidents.during the mid-2000s, san francisco was infamous for having its fair share of high levels of gang violence and crime; it had been the murder capital of the united states for decades, and is the home base for all the main violent street gangs for approximately three decades. according to the us bureau of statistics, between 2000 and 2010, the murder rate in san feilibos increased by 15%, with a homicide rate of 13.5. it is considered one of the safest cities in the united states; san francisco has been classified as \"a very safe city for crime\" by the us bureau of comparative crime statistics in the united states in 2008.the san francisco police department was established on november 20, 1869 by jacob seet and louis flethereux. seet was a former navy lieutenant general, later appointed chief of the military armory. he commanded the san francisco police force, one of the most powerful local police departments in the world and had been mayor since 1888. flethereux came from a wealthy family in louisiane, italy; he was raised in a strict austrian clan. he was appointed constable of san francisco in 1873 as lieutenant general of the san francisco navy; he was appointed constable of san francisco on december 29, 1873. following fierhereux appointment as chief of san francisco police, constables were entrusted with supervision of the san francisco police department. constables were responsible for enforcing the san francisco police departments policies, procedures and procedures. constables were tasked with apprehending offenders and were responsible for preventing crime committed while they were in office.; and on july 17, 1884. while in office, fierhereux was appointed constable of san fern, new japan. fierhereux married julia doris schlesinger fredell on august 31, 1888, in the san francisco mansion, but they had no children while fierhereux was in office, and he also divorced doris in 1891. while he supervised the san francisco police department, constables were tasked with the departments security.fierhereux became a hero in a popular cartoon show titled \"chinese policeman on patrol\" in which he is portrayed as the first police officer to appear on the west coast, from which the line was taken by a san francisco police officer. the episode is a parody, although in some media it has been made. a satirical cartoon show called the fierethe police department consisted of eight constables, who were assigned to patrol the city, protect san francisco, and assist members of the san francisco police department.in the late 1880s, san francisco police detective frank nimitsky and his partner, john j. roosevelt taylor, were accused of raping a 13-year-old boy in san francisco. the charges were dropped after a three-member commission found that both boys were innocent and that there was insufficient physical evidence. in 1899, san francisco became the home of the united states postal authorities department of correction; in 1901, the department of public health was established with four officers from san francisco police, san francisco department of fire, san francisco sanitary, san francisco sanitary sanitary sanitary sanitary sanitary sanitary sanitary sanitary sanitary sanitary sanitary sanitary sanitary sanitary sanitary sanitary sanitary sanitary sanitary sanitary sanitary sanitary sanitary sanitary sanitary sanitary sanitary sanitary sanitary sanitary sanitary sanitary sanitary sanitary sanitary sanitary sanitary sanitary sanitary sanitary sanitary sanitary sanitary sanitary sanitary sanitary sanitary sanitary sanitary sanitary sanitary sanitary sanitary sanitary sanitary sanitary sanitary sanitary sanitary sanitary sanitary sanitary sanitary\n",
            "\n",
            "Saving checkpoint/run4/model-1300\n",
            "Saving checkpoint/run4/model-1400\n",
            "Saving checkpoint/run4/model-1500\n",
            "[1600 | 981.96] loss=3.09 avg=3.00\n",
            "Saving checkpoint/run4/model-1600\n",
            "======== SAMPLE 1 ========\n",
            " exclusion, from their childhoods, from the first time they saw themselves on video. some of those are, in an empirical sense, better than others, but some, in their own way, seem to be a more universal trend in society.some studies suggest that the children of gay parents are more likely to express themselves in a way typical of their parents and have a \"gay-curious\", more outgoing and more socially competitive style. this study showed that such children are perceived as more friendly and more self-aware by their parents, who can also help them to create a sense of family members belonging to \"us\" and \"them\"  other aspects of a gay childs psyche include:a recent study of gays and lesbians who grew up in the united states found that more than 80 percent of them reported seeing the \"gay lifestyle\" in their families, which is seen as a \"gay lifestyle\", which is associated with higher anxiety levels and depression in children. research of gay parents suggest that they experience anxiety during these stressful moments: this study showed a negative correlation between psychological distress and the extent, type, and duration of anxiety experienced by a gay father and a gay mother. gay parents also reported the fear, embarrassment, and stigma associated with being called in front of the family by parents.research indicates that lesbian and gay couples are more optimistic, more empathetic, and are more likely to seek family advice. another study of lesbians living in london in 2009 found that they were more likely to seek out guidance from older women in their community; however, this study showed that lesbian mothers are more likely to seek out older childrens mothers in their community. additionally, in this study homosexual and lesbian mothers were more likely to seek out guidance through their moms, while lesbian and gay mothers were more likely to seek support in the mothers-only environment.research published in 2007 suggests that gay men are more susceptible to the development of addictions to opioid pain medications than heterosexual men, but also show a greater difficulty in recognizing addictions to other forms of pain medication. one study of gay men found that approximately 902 of them in the united states were taking opiates.research suggests that lesbian and gay women are more likely than white women to have an \"albertineal gender role model\"; they are also more likely to identify themselves as \"womanly\". the gender role model is a role that women or men assign to specific physical attributes that they use to relate to their sex-negative sexual stereotypes. research has shown that lesbians and gays have a gender role model that makes different from heterosexual women that promotes the idea that women are physically and/or sexually passive, or of \"passing\" or \"weak\" character, or that women and men play passive roles. in comparison to heterosexual women, lesbian women tend to express a more feminine \"emotionally controlled\" model of women, while gay men and lesbians often express a more assertive and more \"emotionally dominant\" model of men.research has found that lesbian and gay people experience gender stereotyping, which is perceived as being harmful to relationships and individual well-being.research has found that while lesbian and gay young people often live in poverty, most gay young people who grew up in the united states are also poor. lesbian and gay young people can face stigma and discrimination, which makes living a lesbian and gay adult more difficult. some gay teen girls are bullied, especially in school.in the 1990s, lesbians and gays are also targeted by other groups in the american south due to their sexual orientation. many lesbian, gay, bisexual, and transgender people were the targets of a hate crime motivated mainly by anti-gay bias as the result a combination of homophobic ideology, religious opposition to the gay agenda, and homophobia is a serious problem in some parts of europe, as it is in the united kingdom.research shows that when gays feel alienated or hostile towards society, many of them are more likely to have suicidal thoughts and actions. research shows that gay men who find themselves ostracized, or have to live in fear of the LGBT community might have a very high suicide rate in countries that are more liberal than these countries. research has been conducted by a team of researchers from the university of south carolina and the university of new mens work examining gender differences in how gay and lesbian people cope with the stigma of being lesbian, gay, or bisexual. they found that the gay and lesbian women in their study felt more hostility towards lesbians and lesbians, but they did not have the same attitude towards gays. while lesbians and gays have generally been portrayed as anti-feminist in the media, they were not less likely to support, or take a stand in support of, a lesbian or gay person who wanted to use women, and gay men, gay men are also stereotyped as \"intelligent, socially confident, socially outgoing, independent, highly intelligent, intelligent, strong-minded, and possessive.\" research showed that gay men are stereotyped as \"intelligent, emotionally manipulative, highly educated and self-confident, high\n",
            "\n",
            "Saving checkpoint/run4/model-1700\n",
            "Saving checkpoint/run4/model-1800\n",
            "Saving checkpoint/run4/model-1900\n",
            "[2000 | 1230.31] loss=2.95 avg=2.99\n",
            "Saving checkpoint/run4/model-2000\n",
            "======== SAMPLE 1 ========\n",
            " bill b. bill c. bill f. bill g. bill h. bill i. bill j. bill k. bill l. bill m. bill n. bill o. bill p. bill q. bill r. bill s. bill t. bill u. bill v. bill w. bill x. bill y. bill z.\"a\"in 2014, congressional action was proposed in the united states house of representatives to repeal and replace the health savings accounts  bill s23.in june 2017, congress rejected a second attempt by the republican leadership to pass the repeal legislation before the midterm elections of 2020.on 30 march 2018, congress voted to repeal the americans health care act and replace it with a plan to replace the previous health care act with a plan that provides tax credits to help cover deductibles and co-pays.in the house of representatives on 29 september 2017, as the trump administration announced that it would repeal the health care act, congress approved its own repeal bill on the same day.this was the first time congress passed a bill with no repeal plans.in february 2018, congress passed the tax reform act, which repealed and replaced the health care legislation, and in may 2018, the tax bill was sent to the republican senate, as one of the bills that had passed in the house was also sent to the republic.in november 2017, congress approved a bill that repealed and replaced the health care bill and also repealed the tax bill.in march 2018, congress voted to repeal the americans health care act and replace it with a tax bill that provides tax subsidies to low-income people. the tax bill was sent to the republican senate as well in june 2018.in january 2019, congress voted to repeal the americans health care act and replace it with a plan to create a two-year transition period in which only people under 21 who are covered in a plan can get affordable health insurance with no co-pays.in july 2019, congress voted to repeal the americans health care act and replace it with a \"bicameral americas health care bill\", which included a repeal of the preexisting conditions act.on may 27, 2019, congress voted to repeal and replace the americans health care act, and also repealed the tax bill without a replacement.in january 2020, congress repealed the americans health care act, and replaced it with a replacement plan that eliminates the individuals health care insurance mandate on individuals under 26 years old and those with pre-existing conditions for two years.in may 2016, congress passed the american health care act: americans health reform after the presidential election of trump, the plan was quickly passed by the senate and become law.in february 2020, congress voted to repeal and replace the americans health care act.in may 2020, congress approved a bill that repealed the healthcare act and replaced it with a temporary bill that extended health insurance coverage to people who had lost it under the previous law.in may 2020, congress voted to extend healthcare to people who were uninsured from the last healthcare act. this was the second time congress voted on an expansion of coverage. in october 2020, congress sent a bill to the senate that repealed the healthcare act and replaced it with a temporary bill that extended health insurance coverage to those who had already lost it. on may 10, a joint explanatory report was sent to congress and stated that it was the americans health act that extended coverage to those people who were uninsured and had been uninsured for two years under the previous bill but who had gained coverage under the senate bill, and that it was the senate healthcare act which was extended to those people with pre-existing conditions who had been uninsured under the previous bill with no coverage available as of january 1st 2019. in may 2020, congress approved a bill that repealed and replaced the healthcare act.on may 15, a joint explanatory report was sent to congress that described the president trump health care and tax reform legislation as \"the largest tax cut in americans history\" and \"the largest tax relief package in americans history.\" in june 2018, congress approved a final bill that repealed and replaced the healthcare act with a bill that repealed the tax bill for individuals, families and businesses. it was sent to the senate on july 20. in july 2019, the senate passed it.in july 2019, congress passed a bill that repealed the americans health law and replaced it with a bill that repealed the previous health bill and included a temporary replacement bill that extended health insurance coverage to those who had already lost it under the previous bill but who had gained coverage through the senate healthcare act. it was sent to the house in july 2019. on august 27, congress sent a bill to the house to replace the previous bill with their own proposal that repealed the last healthcare bill with a replacement plan. the bill was sent to the house on september 1., congress sent a final bill to senate leadership that repealed the americans health care bill and replaced it with\n",
            "\n",
            "Saving checkpoint/run4/model-2100\n",
            "Saving checkpoint/run4/model-2200\n",
            "Saving checkpoint/run4/model-2300\n",
            "[2400 | 1477.71] loss=1.72 avg=2.77\n",
            "Saving checkpoint/run4/model-2400\n",
            "======== SAMPLE 1 ========\n",
            "w. a very large part of it is the result of the work of an extensive and often very specialized literature. the majority of these books were already written before the end of the 19th century. the study of these books has stimulated many historians to try and write a novel.the first book to be put out was charles charles englewoods new cities and new men in americes. this book was a combination of observations from the life of a new city in the new and old world that is most useful for the student of american history  the first such book, however, was written by a fellow american, daniel c. kleins book americas history in 1830. the first edition of his 1836 book, city and state was the first book published by a united states publisher of american history. the first american history book released by a united states publisher that contains a wide variety of subjects is alfred smiths new citys and new men in america. smiths book contains his view of new cities in the united states after 1900, is a book which contains a mixture of information and opinion on the city and county level in united states history.smith states that new towns are different from old towns in that they are not the same thing. for example, one town that is home to several thousand residents may be in the same geographical location but very different with different population, culture and government. new towns can become smaller in size, and be in different geographical locations. some towns may be very different in size from old towns in the sense that their culture, political, and physical characteristics no longer make them similar things. towns can change in the same way that places can be in different seasons.the book contains a mixture of facts that pertain to the development, growth, and destruction of new towns. smith wrote, \"in all the changes of social position or political organization, the city changes with every increase or diminution of population, economic position, and social life.\"the book also contains material which pertains to the city that the author describes in greater detail. smith states that new towns are \"created in a city by new people with new places of residence.\" for example, a new town may be created by moving out of the city of chicago. smith further notes that new towns do not always stay the same size indefinitely. new schools that develop around a particular town may expand into new areas. all of these things can be very large or small, creating many towns with many different cultural characteristics. it has also been found that some of these new towns can produce the same economic output within the same period of time that they have in the past.smith also states that towns may go through phases of growth: new cities generally tend to grow rapidly, while older regions tend to slow down. for example, as the city of mexico progresses into new territory, the town of ciudad jumanh on the southern border of mexico city, is growing by 5 times the area as it was at the time of its formation. this is a combination of the growth of a larger economy and the construction of new infrastructure. the cities surrounding metropolitan united states tend to slow down by 3 to 4 times in terms of absolute size and population size. cities such as new york city, california average 7.3% percent growth over a 10-year period, while asia-pacific cities are 7.1% to 6%. new york city has the highest growth rate of 5.6%.california has the highest population of the continental united states. the counties, and the metropolitan areas are also the major metropolitan areas of california. california is a state of the midwestern united states, an unincorporated territory of the state of california. it is within california. the california state boundary contains california as the southern portion of california and is shown to the north, west, and east. california is divided into four constituent portions: california county/county california is divided within california County. california county has the highest population density in california, with population reaching 1,280,972 in 2016.california is a densely populated state and the california metropolitan area is also california county. californas most important population centers are california city of oakland, california san jose  california california county has an estimated population of 8,721,074, and california san mateo  california san jose californias two largest cities, ladera and oakland are subdivided into california mountain and california mountain california is considered california state land or county. californias two most important population centers are california county , california is home to the california state athletic federation, cal\n",
            "\n",
            "Saving checkpoint/run4/model-2500\n",
            "Saving checkpoint/run4/model-2600\n",
            "Saving checkpoint/run4/model-2700\n",
            "[2800 | 1727.31] loss=2.89 avg=2.79\n",
            "Saving checkpoint/run4/model-2800\n",
            "======== SAMPLE 1 ========\n",
            " lore has long been the object of speculation and debate about their authenticity. some researchers, for example, contend that the tomb of the phoenician king maclean was forged in antiquity, possibly by an artifact-stylist, and that no tomb has been found in the ancient world that has not been embellished in the last few decades by subsequent tampering. the claim is supported by inscriptions in the tomb, which reveal that maclean was the son of king anton of ottos, and he was \"born\" there.the earliest known inscriptions to mention the phoenician royal family, from around 2200 bc, were found in the city of egypt  it is generally acknowledged that phoenicia never existed during this time of its history.in the 2nd millennium bc, with the rise of phoenician traders as a new trading power and the spread of greek culture, the phoenician empire was at its highest. phoenician-speaking peoples entered into a variety of forms of interaction including trade, raiding and warfare. these different forms of interaction were not always mutually beneficial.in the 3rd millennium bc, the phoenicians began to form a dynasty around phoenician general zeus. they conquered the empire of odion, okeanos, and ruled over both greece and odion before turning to other parts of the empire. as a result of the empire rule, a lasting period of prosperity developed, lasting until 476 ce; then the greek and roman dynasties declined.the persians defeated the greeks in the glaberda war in 653 ce by building the so-called phoenician fortress at chryselephantine , but the persians were soon defeated by greek-led greeks with the fall of greece. the persians ruled for the next four millennia until their ultimate defeat, which took place at mardonias in 476 ce.after the greeks ruled for a thousand years, the persians began to rule the greek colony in iran, which was in turn an iranian colony ruled by the persians. the last persian ruler to rule for a millennium was julians, who ruled from 541 ce to 486ce. the persians gained a significant amount of territory during his time; the colony still contains approximately 40 cities throughout iran, as well as the indian territory and the indian subcontinent.the persians ruled over the indian colonies in iran, india, china, indonesia, pakistan, turkmenistan, the sri leh kingdom of pakistan.the persians also ruled over the marytum kingdom. under the persian dynasty, it became the largest in the ancient world. the chinese kingdom was destroyed when it was raided by indians in 48 ce. the persian dominions were also ruled by mauritsian ruler mahabharat in ad 657 egypt ruled the phoenician empire for over two thousand years. the persian empire collapsed under the indias defeat at the battle of sardar and the phoenicians became the only ones still ruling from rusim bactrian borders in 849 ce. after mauritsis death, a second persian emirate, which later became calicut, began to rule the phoenician territory in the south, east, and western regions of ad 661. as a result, it was a state. a third persian principality, the khaganate of india, was established later. the khaganate had a central government, but it was not as great as the persian one. the khaganate was defeated at the battle of stannukh in 644 ce.the persians began a long-term and strategic war of independence. in 627 d perikram bhartiyarbai is considered \"the first persian ruler, ruler of a persian dynasty and general of a persian army\"  at this point, the persians were the smallest and most vulnerable to sassanian influence in central and southern asia. this was also a time of great instability in persia, which was at the center of the sassanian empire.  persia was already the largest and richest of all the empires of the ancient world, as a result of the conquest of poland by india in 632, after the sassanian conquests of poland and the phoenician conquests of greece.the persians occupied persia from 633 ce to 649 ce. after its defeat in 646 ce, persia was the largest state in the medieval world, with the total area of a persian empire. from 642 ce, persia experienced repeated waves of sassanian invasion, and by 655 ce it had been invaded 11 times in 60 years. the persian king gandhisztos i attempted to re-\n",
            "\n",
            "Saving checkpoint/run4/model-2900\n",
            "Saving checkpoint/run4/model-3000\n",
            "Saving checkpoint/run4/model-3100\n",
            "[3200 | 1975.47] loss=2.81 avg=2.79\n",
            "Saving checkpoint/run4/model-3200\n",
            "======== SAMPLE 1 ========\n",
            " once the new city became the home of the gazetto dmitri, the first german gazette and first newspaper from gazia, was opened its doors on february 7, 1948, and became the first newspaper in the city. after being founded from 1933, it became a gazeta public authority and ran its own daily newspaper, which became increasingly published. after its dissolution in 1990, the gazeta became a public authority of national and international significance; it is the largest independent gazeta media group in the republic of azania.the gazeta newspaper was not the only newspaper in gazia. the bild  for a brief time, the gazeta also published a daily newspaper, the gazeta, which has since been renamed to the citys official newspaper the gazeta zetze on july 25, 1949  the gazeta also produced a weekly newspaper, the gazeta zetze  the gazeta zetze  in 1955, three new print publications were set up: in 1956, the gazeta began to publish its daily newspaper, the gazeta zetze  in 1963, the gazeta became the first egyptian country to print daily newspapers, and ran daily newspapers, like lebanese newspapers and yedur-babi-sultan. the gazeta also started publishing a weekly periodical, the gazeta zetze  in 1967, the gazeta published a weekly newspaper, the gazeta zetze, a popular weekly newspaper published by gazeta journalists and published by the gazeta newspaper.the gazeta newspaper has been in daily circulation since 1971. the gazeta once again published a daily newspaper, the gazeta zetze. it used to run the national newspaper as long as it lasted. daily newspapers of the gazeta have often been referred to as having a \"magazine effect.\" the gazeta newspaper, as the oldest surviving daily newspaper in gazia, was published between 1925 and 1931. the gazeta daily newspaper ran daily from 1935 to 1939 and on into 1940. the gazeta daily newspaper was published from 1942 until 1957. in 1955, the gazeta started publishing gazeta newspapers. in the late 1960s, the gazeta started offering daily newspapers in print, and in 1977 published the gazeta zetze  the newspaper was sold to june 1978 and then again closed.in 1980, gazeta daily newspaper was closed again, but a newspaper of the gazeta that ran at the same time, the gazeta zetze, continued daily. in 1990, the gazeta zetze published first daily newspaper, the gazeta monthly. in 1993, the gazeta daily newspaper closed again.the gazeteste daily newspaper was published from 1994 till 2004. the gazeta daily newspaper and gazeta weekly started publishing from 1975 onwards. during its last year, the gazeta daily newspaper published the newspaper \"zafra\" or the zafrak. it has had two main titles: \"zafra\"  and then \"zafra\"  then, \"zafra\", an abbreviation of the gazeta, the largest newspaper in the republic of azania. the gazeta daily newspaper ceased publishing in 2001.in the late 18th century, the gazeta newspaper offered an outlet for gaziais journalists, who would then share their investigative stories with the world. this would serve as a springboard to journalism the gazeta daily newspaper offered an alternative to the gazeta that many other newspapers, such as akasha daily and gazeta weekly would follow suit and form a new association for gaziai and national journalists. the gazeta daily newspaper was formed in 1993 by gazeta journalist and journalist, alaiza rida scali, and gazeta daily newspaper editors kazhba dzilashevskii and michael kazhba dzilashevskii. the first issue newspaper was published in 1993, and the gazeta weekly was founded in 1996, which both became the official newspaper of the republic of azania, as well as an official newspaper by an association of gazetian national journalists. the first television station, gazeta 3maz, was launched in 1998, making it the first non-english language broadcasting station in the region. the second broadcasting station in the region, gazeta 3naz, began broadcasting from 2000. the gazeta daily newspaper published a weekly newspaper \"dzerkzisz\"  in 2001, gazeta daily daily newspaper went public and became one of gazias first publicly traded companies by a publicly listed company.after the dissolution of gazeta daily newspaper in 2002, the only remaining newspaper still active by an association of gazetian national journalists,\n",
            "\n",
            "Saving checkpoint/run4/model-3300\n",
            "Saving checkpoint/run4/model-3400\n",
            "Saving checkpoint/run4/model-3500\n",
            "[3600 | 2223.57] loss=3.22 avg=2.84\n",
            "Saving checkpoint/run4/model-3600\n",
            "======== SAMPLE 1 ========\n",
            " he was one of the original four to have signed to the company and then one of the companies only founders of the companys parent company.in the uk, he made the company famous and had a big hit album called u2. he went to the vanguard stock exchange on a saturday morning, and did one stock which day after they had given us 1d and 4d  in april 1996, the company sold off the u2 album copyright, and also its digital rights management software for dongliao to make the money. he had his first company video recorded by david wharton and he later founded the company that same year, u2 inc., using dongliao to handle legal issues. the following year the companys parent company u.s. corporation, u.S. real estate investment trusts  he launched an investment fund with $1.5 billion underwriter p. s. thompson in a listing, and the year after u2 moved from the new york state assembly floor to new york corporate center, its price of $2 billion was announced. he did not reveal the name of his new money-losing investment fund and said, \"its for your money. the company has been completely sold to wharton, the investment committee and i believe the partners at  and he then went public the same day at the  real estate investment trust. he did disclose that, at the  investment trust, he sold off the right to use the brand for the new investment and the rights to use the brand for the initial publicly-announced investments, and the first of these would be for a 50%,000 stake in u.s national sports franchise.he first started as an advertising executive in the late 90s, working alongside j. c. chris, kevin johnson and other names of real estate investment trusts.in 1999, the business was taken public once again, as u2s new parent company, u.s. real estate investment trusts   in 2001, this went public with the sale of the u2 stake for over $400 million  the next year , he also became the face of u.s. real estate investments. in 2002, as u.s. real estate investments gained a reputation for success, thompson took up the role of chairman, and wharton as chief investment officer. this was the first time in his career this had not been done by any major sports group. during this time, he also started his own sports venture fund with michael lombardi called thomphains sports venture capital for the 2003003. on jun. 15, 2005, thompson announced \"a major change in strategy\", stating that, \"at u2, we have decided that we think that success will go beyond just the team name. we want to build and run a business that helps enrich our philanthropic supporters; we want to develop solutions that make communities safer and more sustainable, as well as building bridges to help our cities invest in the next wave of leadership that brings prosperity to them. success must also be rooted in the community where it happens. this means no more just being the name, or even the name itself. we want to build an engine capable of running as long as the city itself makes it, then we put all the community behind the new company which will then run with integrity and innovation.\"thompson also has been very publicly involved with business initiatives, being very public in his criticism of the sports media and in his support of local businesses. during the 2000s, he and clark co-founded xgames technology, an advertising company that sold branded goods and services from the u.s. sporting goods corporation  he also helped fund the construction of the u.s. national football league james fallows, the first-ever divorced woman to sit as a financier in the united states, is rumored to be part of thompson/tnt.at one point, thompson also owned a $300,0000,000 equity interest in the new york state assembly. thompson and lombardi also purchased $100,000,001 shares of common stock for the 2000 election.from 2004 to 2007, thomppans companies made up the majority  shares, which increased to nearly 100/100 after 2008, at a rate of 50 percent for 2007, to 100 percent for 2009 and 2015, and 100 percent for 2016.in february 2012, thompson announced that he had sold his majority stake in the companys parent company in a deal with his alma mater yale university on february 28, 2012. however, it was later learned that a new york state assembly majority owner, kathleen kathie mcdougal, had also purchased a 20 percent stake in u2 for at least a total of at least $1 billion worth of stock in the companys new parent company in june 2017.the companys parent company has been accused of illegally subsidizing the purchase\n",
            "\n",
            "Saving checkpoint/run4/model-3700\n",
            "Saving checkpoint/run4/model-3800\n",
            "Saving checkpoint/run4/model-3900\n",
            "[4000 | 2471.97] loss=3.02 avg=2.86\n",
            "Saving checkpoint/run4/model-4000\n",
            "======== SAMPLE 1 ========\n",
            " a mongolian khaganate.the nazgurga court, or nazgarh  the court has ruled in favour of the government of sikhsistan in favour of the saite urdu empire, who brought the bismila treaty in 1853.the nazgurga guru court has ruled in favour of the saite urdu empire, who brought the treaty in 1853. the nazgurga court, or nazgurgah   the saite urdu court also upheld the treaty of bacha chitralati  the court ruled in favour of the saite urdu empire, who brought the treaty in 1853.the nazgurga guru court has also upheld some of the terms of the bacha chitralati. in response, the saite urdu empire was able to acquire the territory which eventually became known as bacha chitralati. however, the nazgugas court rejected the saite urdu empires claims to bacha chitralati.aside from the territorial claims discussed above, the agreements of the bacha chitralati and the nazgurga guru agreed as follows:the sultan abdul aziz ali agreed to establish a court of law for the bacha chitralati in the court of law. in the nagya gurudwara temple court of law had been established against both the saite urdu and nazgurun states; however, there were \"two courts of law\" which abdullah and ali decided that they \"would not agree to anything that gives the impression of a court of law\". according to the two courts of law, the legal status of the bacha chitralati is an independent state in the region  nazgurga has a large nazar district, which includes some of the best natural beauty and natural historical grounds in the world, as well as the only site known for indigenous muslims in south asia.nazgurgah, the legal system of the sultanate, consists of a court which is appointed at every 5 years, and after every ten years, one other nazi court is convened as an interim court to deal with matters arising between the two nazi courts.the nazgurga gurudwara temple court, of a part of the abbess wadamatjera temple, where there are more than 50,000 nazgurgas in the neighbourhood.the main mosque in nazgurga gurudwara temple is the largest and oldest imam  the nazgurgatpur court and the nazgurga guru court is the only one that is open for the entire term of the nazi party  the nazgurga court also held nimroras, which are used by various tawres but are the only ones known for free and fair elections. after the nazgurun court, there are two public courts of law. one is the nazgurga gurudwara temple court, and the other is the nazgurga guru chitralati court at khana, gurudwara, jangla-jangla, india  in 1854, the supreme court unanimously gave the supreme court of the united kingdom the task of interpreting and implementing the indians aborigines constitution of 1855. as the last major religious dispute between the two nations continued to be settled, the nazi government refused to abdicate the constitution of 1855 after the first indian independence was secured in the treaty of bacha chitralati, the last major religious dispute between the two nations.in the constitution of 1856, the nazi government also granted the right to form the new state of india under the indian constitution. the nazgurga gurudwara court, under the supreme court of the united kingdom, was tasked with interpreting and implementing the indian constitutional text. following the adoption of the indian constitution of 1857, the nazi government made india an entente power. the nazi government signed the treaty of bacha chitralati in 1844 as an entente power, which is why nazgurgas court upholds all of the terms of the 1857 treaty of bacha chitralati. this treaty has allowed the nazi government to consolidate their control over all of india. the deal was partially broken by bengali bimanjwadas bmw party, who broke the treaty of bacha chitralati by voting against the bmw constitution.the nazi-indoechnida gendarmerie , naukta gora hari mae hari , but it is disputed by the chittiji people who do not own land and thus who claim the lands surrounding the fort.in 1869, the treaty of bacha chitralati was signed\n",
            "\n",
            "Saving checkpoint/run4/model-4100\n",
            "Saving checkpoint/run4/model-4200\n",
            "Saving checkpoint/run4/model-4300\n",
            "[4400 | 2720.86] loss=3.06 avg=2.88\n",
            "Saving checkpoint/run4/model-4400\n",
            "======== SAMPLE 1 ========\n",
            " critic of the bbc for broadcasting black people in a way that is \"clearly biased against them\". during this same discussion, he criticized bbc, saying that \"its a biased network and its job is to smear\".on 28 february 2017, on the same day that trump announced his bid for president, russian president vladimir putin said in an interview with cnn that his \"final choice\" for the next president was \"totally different from the one we put together\": \"i could have put in that name, but im not in the habit of putting in names like that. so that is why we put him in.\" when asked about the \"totally different\" name, putin said, \"it would be very inappropriate for me to say, which would mean putting into words like that\". putin then added, \"if i may, my choice would be the president of the united states.\" the new york times then published an article about putin \"calling for a candidate with no military experience\".in the same day that we published russian statements and had been led to believe the new york times had quoted putin, on twitter, american political scientist chris laddoe of washington state university wrote, \"is a total stranger who is working with trump right now\". the two have a mutual admiration relationship, with laddoe stating, \"its a pleasure to work with him\", but \"not sure that he knows what he's talking about when he talks about the wall\". when asked about the wall, laddoe said, \"if trump says hes an expert on it, im all ears\", while explaining that he was \"a proponent of building a wall\".on the same day that the wall was finally unveiled  it was noted in the new york times that \"the most influential figure in america and the united states political system is a man who has never held elective office and whose campaign rhetoric is almost certainly invented\".trump was born on may 26, 1968, in pittsburgh, pennsylvania, the son of lisa jr. and eric trump, both pennsylvania residents. after making a name for himself in 1970 by touring a steel mill on his schooldays, he became a media phenomenon as a youth star on his own watch, and used his wealth to build a real estate empire, winning election to the u.s. house of representatives and becoming a billionaire.as an adult, trump has described himself as a \"nationalist\", but has said he is non-interventionist in foreign policy. after several presidents over the years have expressed a strong interest in world events, trump has taken an especially hawkish line during the 2016 election campaign, particularly after his victory in the presidential election of 2016.he is not involved in sports or a school that is an institution. he has maintained a lifelong interest in physical fitness, and has claimed that he is one of oldest to have a \"football IQ\" as an adult. he played baseball and softball, and has been told by players at many teams his parents did not allow him to participate.on the day he was an infant, johnny was born to mother nancy curnow jr, a teacher. by the time he was two years old, he was the oldest of five children, and was described by nancy as very intelligent and \"a great kid\", with \"a little bit of everything\". he had a knack for memorizing details from his mother: he had learned about seven states of north carolina by age three, and had memorized about 50,000 words at an eighth-grade level by age nine.trump claimed his father was not always there to guide him, and said that he does not remember his parents being particularly close. in a 2015 interview, trump said, \"my father never bothered me, but at the right age, i could use other people to tell me what to do.\" at the time, trump admitted that he had not been strict about learning reading material. in an interview with the new york times in 2016, he said that his mother, lisa, was a good teacher, but that the childrens teacher at the time did not have much of an interest in children and was \"more interested in the environment\". he also recalled his mother saying things that were not appropriate and that they were taken out of context. in 2015, during the covid-19 pandemic, he said that his parents were \"not good parents\" and said that he wanted him to be \"a better parent than some of these people\".donald trump described his parents as loving and supportive. their childrens education went largely neglected until he was seven.in an interview with the new york times in 2016, trump said of his parents: \" i never could tell them what not to do.....i had no clue how important education was.\"in a 2016 interview with cnn, trump asserted that his mother would have voted for the u.s. presidential election if she knew about covid\n",
            "\n",
            "Saving checkpoint/run4/model-4500\n",
            "Saving checkpoint/run4/model-4600\n",
            "Saving checkpoint/run4/model-4700\n",
            "[4800 | 2970.53] loss=2.50 avg=2.85\n",
            "Saving checkpoint/run4/model-4800\n",
            "======== SAMPLE 1 ========\n",
            " weighing the consequences of the death or imprisonment of another person on the basis of nationality. a large body of international and national law authorises sanctions under the prohibition of using, trafficking in or production of, or possessing with intent to supply the contraband of another national.international human rights law distinguishes between civilian and military detainees, including those who have been convicted of a crime of international concern such as war crimes, genocide, crimes against humanity, crimes against humanity, crimes against humanity, crimes against humanity, and genocide.the international covenant on civil and political rights defines human rights, recognizes human and civil rights, and calls for the recognition of human and civil rights and the freedom and equality of all humanity, as well as human rights for non-human citizens. the covenant requires states to guarantee the fundamental freedoms to life, liberty and expression of religion, and to support equality of opportunity for all citizens and a free and equal forum for law making with a gender neutral definition of equality, a definition of freedom and equality that is consistent with the covenant. the international covenant on civil and political rights requires states to guarantee the rights, dignity and worth of the persons deprived of liberty in accordance with the principles of the covenant, which were codified into law through the legal process of the international covenant on civil and political rights.a number of state parties to the covenant  however, in addition to the covenant, many international organizations have agreements regarding certain issues.these agreements aim to achieve equality of opportunity through civil law and promote equality of opportunity through the implementation of collective agreements. these agreements may also support human rights through international human rights law to address human rights issues.among a number of international organizations, civil law in general is considered the most developed legal system, and its application is generally considered to be governed by international law. international law can be divided into principles, laws, treaties, international agreements, international protocols or convention. individual legal systems vary; some may have their own system of principles, laws, treaties or international agreements.international law distinguishes between the political and customary international law, which have been largely superseded by customary international law in international relations. customary international law applies to situations where there is no state-run religion, such as a free exchange of ideas between countries. political law, which is a subset of international law, is reserved to make national laws in relation to political and judicial matters, such as foreign courts. international agreements are agreements between or with other nations concerning international relations.international relations may include negotiation over territorial boundaries, among other issues. the first use of war law in history was during negotiations over the treaty of ghent.international law can only resolve disputes that have been concluded within the international system. the international system is a body of rules and regulations that bind all parties in the relationship. international law does not, however, give a legal precedent of what the rules of international law should be.international law regulates what constitutes a crime, or the use or threat of violence, against another person or against a number of other people, including a large number of state parties in a negotiated settlement. states may punish crimes that they perceive as being carried out by armed groups opposed to their territorial integrity, against citizens or even civilians, on the grounds that they may be considered politically motivated or morally depraved. other states may punish those who, the evidence indicates, took part in a political- or religious-motivated crime. international law describes the degree of culpability for a crime, whether it be deliberate or accidental. international law defines a fair trial as \"a fair hearing to determine whether evidence of a crime is suppressed.\"international law sets out formal procedures for dispute resolution, including the rules for judicial review, arbitration, and a national court of law. international law provides a basis for negotiation and international treaties and conventions.international law determines when an individual is justified in believing that his/her fundamental rights will be violated. for example, a person may believe that violating his/her rights will result from the illegal arrest or detention of an individual, and so be justified in using lethal force to defend their own home, business, or political rights.a number of international standards can be used as reference guides for international agreements.these standards may be referenced as international regulations, international protocols, treaties, international agreements, or convention.the law of armed conflict refers to rules of engagement applicable to the behavior of armed forces and other armed forces. this applies to situations where an armed forces commander exercises exclusive authority over an individual or a group of individuals, a tactic that ensures that the rules of engagement the armed forces observe and follow are fair and do not promote the military advantage of a party or its supporters. some organizations and governments view laws of armed conflict as a tool for securing political power and in particular to address problems such as impunity, collective defencelessness, political fragmentation and weak political leadership, which are the problems associated with conflicts that lack a credible political or economic system, and where there are numerous parties involved. the law of armed conflict was added to the un treaties of the sixth collective security of the force, a treaty aimed specifically at the law of\n",
            "\n",
            "Saving checkpoint/run4/model-4900\n",
            "Saving checkpoint/run4/model-5000\n",
            "Saving checkpoint/run4/model-5100\n",
            "[5200 | 3219.41] loss=2.65 avg=2.83\n",
            "Saving checkpoint/run4/model-5200\n",
            "======== SAMPLE 1 ========\n",
            " sequos in the same way. in the west, the chinese did not accept the vietnamese. instead, many chinese were in agreement in their claims of the right of china to seaports for shipping and the freedom of navigation. in the south, they maintained their claim on the philippines as they had gained the adjacent territory by conquest and annexation from russia. the philippines remained independent until 1804, when they were taken by emperor joseph of polonia and catherine of aragon. the philippines suffered some setbacks in the following years, but they soon recovered and developed their reputation as power throughout the island. the king of china, hmuainan, was in contact with the east india company of the thai empire in the early 20th century and was of service to them. he also had relations with many other east asian countries, such as xinjiang, and helped them during the brief time under the yangtze treaty. the thai capital was in the capital, liancourt, and liancourt was one of the busiest ports south of the han cham rivers. the thais, a majority of whose population hailed from china, were very prosperous during the late 19th century, and they continued to expand into tibet and the rest of the island. after the annexation of the lusitania, the thai rulers, such as luiz in 1882 and thailand in 1884, gained the upper hand against the austronesian kingdom under the austro-idiolan dynasty, whose governor, theuguay, also sought territory in the s0s, but was soon defeated at the battle of bac-durato, where austronesian regulars routed uganda defenders, and austronesians, numbering in the tens of thousands, fled the island. in 1900, austronesian independence was assured, ending decades of struggle against the austro-imperial chadada clan, which ruled tibet since 1821. the austro-sines then tried to establish dominion over tibet again in their own land by extending their influence beyond the island to all of the island. the austro-sines were successful at this time and gradually conquered other dominica possessions, including kuruna. with their land and the lucrative tibet business, austro-sines ruled for decades until the late 1920s, when austro-sines colonized tibet and made their final attempt to colonize tibet. although tibet was not formally conquered, austro-sines forces were driven out by austro-nigerian forces after an austro-sine attack.the austro-sines, as austronesian dominica, were eventually conquered by the austronesian navy in the late 19th century and the navy was absorbed into the austro-colonial dominica. the austronesians, like the austronesians before them, initially established themselves as colonial subjects in the americas, and the first austronesian dominica was established in the nineteenth century, although the first two were independent countries. they gradually came to dominate the island. austronesia was ruled by a regent, adoniraz. adonirazs nephew hani, who had fled austronesia in search of some land, arrived on tibet in 1855. hani was in a relationship with tsangpo, the emperor of the thai empire. in 1873, the thai empress hsuan hong ruled tibet as kh6,000 austronesian troops who were sent to the austro-british dominica to replace the austro-sines who had died of dysentery, but the americans soon attacked austronesia, capturing the local capital liancourt and killing hundreds, at a time when austronesians had barely any settlers in tibet.in 1885, the americans sent troops to the island, which was ruled by the british james omoru until 1892. austrian and finnish troops had recently been in africa from 1875. they were the first troops in austronesia to be stationed on the island, and they occupied austronesia and eventually went on to occupy the whole country. austronesia was taken by the americans in 1887, a year after the islands western pacific colony had become a republic. austronesias final act of independence included a constitution and several bills of rights, one of which guarantees the free passage of ships in the open sea. the constitution was supported by large majorities in the uganda legislature and the uganda supreme court. austronesia, then known as the dominica republic, was under austro-sines rule, since 1887 when it had been under austro-british rule since 1888. austro-sines rule continued for several more years. when\n",
            "\n",
            "Saving checkpoint/run4/model-5300\n",
            "Saving checkpoint/run4/model-5400\n",
            "Saving checkpoint/run4/model-5500\n",
            "[5600 | 3468.06] loss=1.80 avg=2.75\n",
            "Saving checkpoint/run4/model-5600\n",
            "======== SAMPLE 1 ========\n",
            " return of 2,000 prisoners, after negotiations and the payment of the chinese piper to ensure secrecy about the deal.\" in march 2016, trump had the qatar state news agency retract its story, stating that the story was incorrect and that the trump administration had been unable to reach a deal with the qatar government, leading to a possible settlement. an earlier claim by the rwanda press, first reported by trump in his 2020 gaza post, that trump had struck a deal with the qatar government guaranteeing support in the security council for a rwanda peace deal, was refuted by the qatari government and rwanda ambassador gilbert lahabane in a phone call the previous day. trump then announced the departure of trump from the qatar treaty, which bars trumps countries from providing financial and military aid to its muslim neighbors.on 25 february 2018, trump announced that he had reached a $1.5 billion settlement with qatar over trump001 united states v. hosnas, the trump administration announced the settlement in february 2018 as part of an investigation into allegations of bribery and corruption in fira government. the settlement, which was reached with the mediation service of the court of court in the united arab emirates, involves trump receiving $3.1 million in payment over his fraudulent financial transactions with the qatari bank as part of a settlement with an existing investigation by the uae financial intelligence service.in an october 2018 ruling, the trump administration sought to revoke the defense contract with qatar, accusing the company of trying to curry favour with the trump administration. trump criticized qatar and qatar-backed abu muslim, uae and uae, and uae-backed jebel ali among others, as well as the united arab emirates crown prince muhammad. in january 2020 the trump administration withdrew a conditional, $3 million defense contract with qatar.in the early 20th century, the sultan of sassan ruled over kygo-eile in kyoto, japan where many of the japanese and kyoto japanese muslim residents first settled after the second world war.in the 1950s, japanese expats from non-japanese china settled in kyoto, a prefectural capital city of kyoto prefecture, where they worked as domestic servants to the kyoto sultan of sasan. by the early 1980s, some were working in shoe factory and as prostitutes.in 1989, the japanese home ministry issued a decree that all foreign workers and residents be sent to camps in sasan. several international associations, such as the sasan academy and the international association of sasanologists, were formed to aid families of returning japanese and kyoto nationals.in the 1970s, american expats, many of them ex-military personnel, began arriving in kyoto. they settled in the shira shirah camp, where they were mostly concentrated. they were forced to live in makeshift huts on the land leased from the sasan government. after their release they faced discrimination and were often arrested or forcibly sterilized. american expats left the huts in the late 1980s at the end of the sasan00,000 camp residents. the camp became the subject of an expat controversy that in the 1990s also created room for another settlement. in may 2011, the kyoto shirah group announced that it had reached an agreement to redevelop the sasan settlement to address issues facing people from the huts. the agreement was officially announced in the assembly of sasan-yang in september 2015.in june of 2000, the united nations department of justice investigated the sasan camp and issued its ruling that no further action should be taken.by the end of the eighties, hans-jong-young (1907, and kim jang-soo (1911. the gom soldier was initially developed as a biomorph designed for reconnaissance missions and spy satellites. in 1964, the military decided to use it for the korean war, the first deployment of conventional weapons. shortly afterwards two other biomorphic designs were selected: the bk-1 and the bk-6. the biomorph had been in use since the late 1960s. it was a popular model with the south korean public and was later used in the united states army. the bk-1 ran on the north korean mhz 850x and was known as the north korean military version of the thailand-based s-3. this version was initially developed in the north koreas hmz850x and had a higher fuel efficiency than the american kd-130 and south korean r-1. the first american-made hmz-65, dubbed the \"south korean military version\" or \"krv\n",
            "\n",
            "Saving checkpoint/run4/model-5700\n",
            "Saving checkpoint/run4/model-5800\n",
            "Saving checkpoint/run4/model-5900\n",
            "[6000 | 3716.63] loss=1.27 avg=2.65\n",
            "Saving checkpoint/run4/model-6000\n",
            "======== SAMPLE 1 ========\n",
            "...\" the company moved into its new headquarters on september 12, 2001. after the departure of cisco in 2005, al-quigley became chairman of apple operations in march 2009 in a role that would see him oversee apple devices such as the iphone and the ipod touch, as well as the devices running on the computer. in april 2009, al-quigley took the position of senior vice president of corporate development at apple in charge of its hardware and software development. in a 2009 interview with wired, bernhard heinz acknowledged that the company had no idea what would get al-quigley as his first appointment. the company hired him in may 2009 and immediately began to move away from the work-related side of its operations toward its enterprise capabilities. al-quigley took the company from an early-mid 2000s unit that specialized in mobile device devices to one that was developing and producing laptops and desktops by the end of the decade, and then into the next level of development on the desktop side of operations. his appointment cemented apple at the intersection of technology and manufacturing, with the company producing a large number of ipads and smartphones, and also launching the popular apple watch. according to cisco, at least 10,000 people worked under walter a. clement in 2009. walter a. clement was the companys president when kelly weir was named to serve as usvp of apple in 2009, however he left the position at walters alg, the rest of the members of its management staff were laid off in the same year and replaced by newer hires. in a related move, apple hired its first artificial intelligence expert, greg tate, as an adviser and began to expand its research into new areas. the company also announced its intent to invest $600012, apple introduced its first televisions based off of the apple apple brand, the first of its kind using the technology of tv remotes. the companys next major product released on november 21, 2012, was the apple tv software update for its apple devices, which added support for mirroring of ios video to select apple products, a development that was a major reason the tv was seen as an success by critics and helped apple win the most ad-supported television software in the beginning of 2015. apple announced its tv apps development platform on december 8, 2014. using tv remotes, tv remotes allowed tv apps to be remotely controlled, a significant advancement in terms of ease of remote app installation and integration compared to the use of a dedicated control panel or smart home hub. many tv app developers were also starting to look at tv remotes as a way to gain access to tv receivers that could connect to the internet and have their apps integrated with the receiver. on november 5, 2016, it was reported that apple was in talks to acquire twitter, in order to integrate their applications into the ios operating system and thus make apple the de facto leader in tv integration. apple has been featured as one of the most prominent tv players in the entertainment industry since its founding in 1975, and it has held an almost unique position in the \"always-on\" and connected television industry for a decade in the digital entertainment industry, becoming a pioneer in providing services that work with connected TVs and surround sound equipment.as part of its continuing efforts to integrate its products and services with its users, apple introduced the apple TV application programming interface  the television application programming interface  the first apple-branded media player was released in 1987 named \"iov\", which included many features available on other platforms such as the ha tv and cd player  the original apple-branded ios operating system, created by j. j. melvin and michael sinno, also offered its tv apps to developers. in 2004, kirk clarksmith, co-founder of the tv programing company ctv, presented the apple tv operating system at the tlc programming trade show, becoming the first time a tvOS program was being touted as a \"tv player\" at such a trade show. in order for tv manufacturers to get access to the tv platform, they must purchase tv manufacturers licenses from apple and implement software support for ix protocols. this required apple to build its own tv application programming interface  when tv manufacturers built their ios devices, they built the operating system off the hardware that was designed by tv makers. apple did not build its own operating system, and it did not allow tv manufacturers to include its native tv application programming interface with their devices. the result was a lack of diversity in tv makers. tv manufacturers built their operating systems in any language that was compatible with tv hardware.the apple tv launched in the us in november 2006 as a direct competitor to the minisite, the apple acers tv app store. the apple tv app allows app developers to connect their apps to view content on mobile devices, as well as connect their users to the cloud, and allowed app developers to share user interface elements with\n",
            "\n",
            "Saving checkpoint/run4/model-6100\n",
            "Saving checkpoint/run4/model-6200\n",
            "Saving checkpoint/run4/model-6300\n",
            "[6400 | 3964.72] loss=2.90 avg=2.66\n",
            "Saving checkpoint/run4/model-6400\n",
            "======== SAMPLE 1 ========\n",
            " of the arab spring is likely to prolong the protests for at least another year.\"foreign journalists are much more likely to experience intimidation from officials or rebels rather than from journalists working for media organisations within the host nations, or from outside the country. a report released in april 2009 suggests that some officials within the country are now more likely to refer to dissidents as traitors if they speak publicly about news of the arab spring. it states that, at least in the past, there has been a shift in attitude towards journalists following the 2009 arab spring. \"it is now more common for government to refer to dissidents as traitors if they speak publicly about the arab spring. these actions may reflect a sense of hostility towards those who have done nothing wrong.the crackdown on protesters who have become involved in protests against government has been seen by observers as a serious breach of international conventions designed to protect freedom of speech. the resolutions on freedom of speech in the united nations charter require member states not to \"orchestrate their relations with or any other nations or persons with whom they may make contact through their territory, or subject them to arbitrary interference or suppression\". the charter also condemns such actions as grave breaches of universal obligations. in april 2010, the united nations general assembly voted in favor of a special rapporteur, henri lassoul, to investigate restrictions on journalists covering the protests. however, the constituent assembly rejected this vote. lassouls team submitted a report on 5 july to the assembly in which it was revealed that the committee that lassouls team had met to discuss the new measures had in fact not met after the first day of the consultations, nor did the staff from the rapporteur who brought his investigation to st jose. after the report was circulated, the minister of foreign affairs of austria apologized. as a result of the reports actions, lassoul requested more than 300 contributions from other states. there has also been criticism that russia and other countries have used other means to influence russian events.on 28 april 2010, russia vetoed a draft resolution against the adoption by the united nations of reports of human rights violations in russia on the basis of the united nations report entitled \"the russia report\". according to the reports, the international association of news media reported in its reports that members of the state duma had been denied the opportunity of the house of representatives to meet with government ministers and that officials had been barred from a room in the prime minister018, a draft resolution calling on the government of russia to investigate human rights violations in the ogurovskys republic of yugoslavia had passed the second reading at the united nations general assembly and had only 51 votes in favour, 12 against, and 40 abstentions.the government of russia has also frequently criticized various actions by ministers in the russian ministry of defense, the ministry of defence of kazakhstan, and the ministry of foreign affairs of russia. former deputy defense minister sergei mullotov said: \"the ministry of foreign affairs of russia is our largest, and it has been for some time the most active and aggressive in fighting corruption in the military; its been building and improving military missile defense capabilities, including air-defense systems and air cover over its territory.\" minister of defense mikhail pogliani said: \"this is a new military regime in our country. this administration believes in the destruction of the enemy, and we are seeing the downfall of the old order.\" on 17 july 2008, the united nations general assembly voted in favour of a non-binding resolution condemning the russian intervention in afghanistan and the use of chemical weapons by the government of tayyip erdo017. the fas reported that \"the government of hivaidis has been given permission by the cabinet to use hivtests children for genocide propaganda purposes.\"the government of turkey has also been accused by the sultan of mohampur, ali alkmaar, for forcibly conscripting boys in refugee camps in vaduz under the supervision of members of the government. the sultan used these boys to perform public ceremonies, then used them as natural members of the muslim clergy. this practice has been documented in vaduz; examples in turkish pre-war ceremonies include one in which christians sacrificed children and girls to the sun god muhammad, a ritual not believed to denigrate hivefor lack of knowledge regarding turkish culture or the history of the region is another important reason why hivaidis support for hivaidis. the turkish writer and editor imam gilrot recently made a public apology for saying that the turkish government force-consecrated boys into the ranks of the hindu nationalist movement and that many of these boys became martyrs fighting at the vadukas.according to a report in harvard magazine press about 20 children were forcibly conscripted into fighting in the vadukas.in july 2008, three hindu national\n",
            "\n",
            "Saving checkpoint/run4/model-6500\n",
            "Saving checkpoint/run4/model-6600\n",
            "Saving checkpoint/run4/model-6700\n",
            "[6800 | 4213.23] loss=1.94 avg=2.62\n",
            "Saving checkpoint/run4/model-6800\n",
            "======== SAMPLE 1 ========\n",
            " to be in a room with a man of the year and the highest possible honor\". when he was asked what his ultimate goal in life would be, tennessee replied, \"to be known just like huck yolen, not just as a football player, but also as a father.\"when coach tennessee ran high-tech head coach benny jackson at the time was recruiting tennessee players, he made a point of recruiting tennessee WR ron redstone. at a tennessee game in january 1969, jackson got the task of breaking tackle. when his recruiting assistant, eric b. alladay, showed him a photo of tyson plum, the assistant coach immediately knew there would be a mismatch. bale went to camp with plum, but tennessee would not take a running back until the season ended.after the 1968 season, tennessee was ranked first in the nfl in total offense and scoring offense and third in total defense. tennessee finished the year with 5,075 career passing yards brentwood jr. led the tennessee staff that year, and the team went 25, and 13 yards at the line of scrimmage. troy allen then became the first quarterback in school history to throw three consecutive 100-yard passes in a single season. tennessee went 9, and 8.0 yards per carry that season, a number that is still part of the school records.in 1969, tennessee began looking more and more toward the future, and drafted well-known wide receiver bobby stockton first overall. in the first round, kolb was selected over college free agent signee jimmy jumpmeyer and eventual first overall draft pick chuck liddell. on the day before the draft, the staff began preparations for the year ahead, which included a spring morning workout and practice at home. at the same time, however, tennessee signed its first true freshman to start on the offensive line, lineman bart crum. by november, the team was on its way to the second-straight bowl game, this time taking on dalvin chucklin of noah.in march, the tennessee football program turned over a new head coach in tom mills, but the results in a divisional playoffs loss to dallas mcclatchy were far from what was expected. tennessee fell to the miami sunrays in the divisional round of the playoffs, 45.000 ausey and the tennessee tiger aces for just their second bowl game loss in 12 seasons.mills was dismissed after the 1968 season, and tennessee finished the year with an 860,000-yard offense and 9, and the second-best scoring offense in the nfl. tennessee went 8, and 13 yards aper scoring average and rushed for the next-fewest yards in the nfl. the team began the year ranked no. 12 in the nation according to the annual college football poll. despite a 23, and 26 total touchdowns, respectively, they compiled a 9, 1971, the first time all-time leading rusher in american college football, michael gatlin, was born at the university of miami.the following table lists the all-time leading rushers in the nfl, with mike \"minor\" leaguers:since the inception of the modern nfl in 1920, eleven teams having started for the national championship have gone 9,000 yards or better, including:ten franchises that have started for nfl playoff berths have gone 9,000 yards or better, including:titles have been declared for:past championspast championsfuture championspast championspast championspast championspast championspast championspast championspast championspast championspast championspast championspast championspast championspast championspast championspast championspast championspast championspast championspast championspast championspast championspast championspast championspast championspast championspast championspast championspast championspast championspast championspast championspast championspast championspast championspast championspast championspast championspast championspast championspast championspast championspast championspast championspast championspast championspast championspast championspast championspast championspast championspast championspast championspast championspast championspast championspast championspast championspast championspast yrspast yrspast yrspast yrspast yrspast yrscontenders past championspast yrs  for the first time since 1920, the nfls 32 nfc championship games have been shifted to be on a league day basis. the first changeover was made on january 5, 1930, as the national football league entered the nfl; the first to follow was the national football league which followed the next season.the national football league and the american football league were founded the same year as the nfl; the national football league is the largest nfl in the world with 32 teams while the afl entered the nfl after the merger with professional football leagues. both leagues have national championships, an annual football\n",
            "\n",
            "Saving checkpoint/run4/model-6900\n",
            "Saving checkpoint/run4/model-7000\n",
            "Saving checkpoint/run4/model-7100\n",
            "[7200 | 4461.94] loss=2.80 avg=2.63\n",
            "Saving checkpoint/run4/model-7200\n",
            "======== SAMPLE 1 ========\n",
            " leading a study of the psychology of music neuroscience, a biological perspective in psychology that integrates the findings of neuroscience with knowledge from cognitive science, psychology, biology, and music.the study of music psychology draws on the psychological theories and theories developed by acs, dprs, sop, zimbardi and schnorr, that are sometimes referred to as music psychology theories. in particular, it draws on the ideas of acs, which originated in germany in the late 19th century, and that of ucp, which developed in the mid-nineteenth century. acs theory holds that emotion is the result of electrical activity originating in the central nervous system. it holds that emotion is a by-product of the structure and functioning of the emotional nerve impulses and that the structure of emotion is a by-product of long-term brain plasticity and structural evolution. the first stage of plasticity begins during adolescence, when adolescents begin to engage in school and group activities, and lastly during early adulthood. sop holds that while music may initially seem innocent and foreign to the teenaged brain, and may stimulate the senses most important for learning, it is in fact a natural and necessary part of human experience. during adolescence, when emotional and sexual energy are most needed, music is most often a part of daily experience and a core part of daily learning. the importance of music to everyday life ultimately stems from its potential to bridge the gap between what people do with their emotions and how they do it. while many theorists and musicians emphasize that music is not inherently evil, there exists a fierce competition for attention among different groups of people, who seek to exert a constant pressure on the body and voice. a person can use music as a way of distracting them from their thoughts, a way to distract or distract them from their emotions or a way to distract them from their emotions. the goal of the music is to control those emotions and to keep them in check. thus the tension between the performer, the music listener, and the music listener begins to build up to a struggle for attention as the performers focus on using their bodies and voices in their chosen cultural contexts. there is also debate about whether or not music should be banned. some argue that music should be permitted to teach, while acknowledging that it should not be used to beat around the bush. others question whether the use of music can really be considered a \"religion\", because while religion can offer a therapeutic outlet for troubled teenagers, music has been associated with teenage rebellion and is largely private property. it is also unclear at present whether the musical genres traditional focus is on spiritual practices or secular humanism and free inquiry.the study of music, as a branch of human culture, extends back to the very beginning. according to william johnson, the first \"point of reference in musical thought was the greek philosopher plato. he was probably the first philosophical writer to give any serious thought to the social origins of music.\" platos ideas are still with us not just as philosophical texts but as cultural symbols: \"platos religion, therefore, is an attempt to represent and understand music as an art. platos ideal religion, therefore, is an organized system of rules to guide human life.\" platos art is a form of free music that takes the listener on a journey through a musical landscape, describing the ways in which different features of sound and language influence one composer or instrument over another. in the words of plat, \"the traveller should stay where he is, he should sing what he knows, and then ask where he has gone\". this musical landscape, known as the platos symphony, tells the \"story and landscape of human artistic creation\" (platos to plato, 3.e. 37ff. the platos symphony is the earliest known work to explicitly describe the systematic collection and analysis of sounds as a branch of philosophy. the platos philosophia, the first part of which was completed in about 550 bce, is often referred to as the \"primaeval philosophy\", referring to the earliest extant work on philosophy. the term platos philosophy was used for a period in platos writings after the end of his studies at plataea. according to the philosopher acacias, plato \"advised in a way that is familiar from classical antiquity: that which is the study of natural history, of the arts, of natural science, and of politics and war\"  platos philosophia was an attempt to create the ideal state of a perfected religion, the \"perfect civilization\", in which all forms of human activity would be encouraged and evaluated according to reason, which is to say, based on knowledge. this would effectively separate human life from temporal society and lead to the end of barbarism. this ideal is represented by plato, who argues that citizens of this civilization would have knowledge and morality similar to that of the citizens of the eternal city. in platos thought, knowledge-based education is the cornerstone of an educated society, and plato is the classical author who gave us the scientific\n",
            "\n",
            "Saving checkpoint/run4/model-7300\n",
            "Saving checkpoint/run4/model-7400\n",
            "Saving checkpoint/run4/model-7500\n",
            "[7600 | 4710.51] loss=2.45 avg=2.62\n",
            "Saving checkpoint/run4/model-7600\n",
            "======== SAMPLE 1 ========\n",
            " 2010, and they joined morena baccos new years eve celebration. some have criticized the company for this, particularly after the companys first anniversary. in november 2017, it was announced that the company would begin its annual pay day on february 15, 2018, which replaces february14 which was previously celebrated on february14. in addition, it was announced that the company would stop publishing the earnings report after this date.in september 2014, morena baccos music award was awarded to jesse hill. hill won the traditional awards for best song for \"i want it all\", artist of the year, and best new artist. in february 2015, the company officially began a pay-paid album from the ground-breaking visionary studio ep0th-century pop singer-songwriter jesse hill. \"i want it all\" won the award for best pop vocal performance with jesse hill in the past 25 years in the pop genres. \"i want it all\" became a video of the year with its accompanying book of the y.g. century-old jesse hill. hill won the first golden globe award for a solo artist for 2013 for \"i want it all\". in 2017, he was declared as one of the fifty most influential people in the history of music. hill was elected as the 11th best person in history by billboard magazine in its annual poll \"best of 2010\", and in 2011, the paper named him the eleventh-best artist ever by rolling stone magazine, in its annual \"100 most influential figures in the 2010s\". in 2014, Billboard magazine named hill one of the 50 greatest artists of all time and 2012, he ranked eleventh on rolling stones list of the 50 greatest artists of all time. he was also included on rolling stones 20150, morena released an album with a different musical theme than previously released ones. it is called \"the song of the century\" and it was written and recorded during the golden age of soul. the first single released is called \"go on air\", featuring american singers tila simmons and britney spears. in 2013, they partnered with the chicago city morgue to release the albums second single \"welcome to my heart\". in 2016, hill and britney spearss were featured in a new music video where they went inside an ambulance to ride around in a jeep. during 2017, his album received 11 chart positions in 29 tracks, making it the most successful album of the year for most singles, with 19 singles in its first five weeks. in november 2018, it was announced that morena was collaborating with the chicago police department to combat the violence plaguing the city. the partnership with cpd was announced as \"a partnership to improve the policing approach of cpd and the city of chicago011, hill also wrote the song \"3\" for chicago rapper/actor j. cole, who plays the character \"3\" from his forthcoming film batman. hill and cole created the film together. in october 2012, hill was interviewed by the chicago police board for the official launch of batman: years and years. hill became a spokesperson for the men, in the united states, shortly after their debut at the mtv video music awards. at the 52nd mtv video music awards, he introduced his debut single, \"black magic woman\" featuring chris brown and mike shinoda. the single debuted at number 42 on the billboard hot 100. on november 12, 2012, hill released the song \"we on fire 2\" on the eponymous debut album from his record label, morena. the single debuted atop the charts in new zealand, australia, italy, spain, denmark, hungary, portugal, uruguay, and the united kingdom. he released the second single, \"hold it against me\", featuring the same musicians at the 53rd mtv video music awards, the same day. in september 2012, hill released the third single, \"make em feel the burn\", featuring lil wayne. the tracks \"we on fire 2\" and \"hold it against me\" reached number 42 on the hot 100 and number one in many other territories. in july 2013, mtv placed him at number two on their influential 80s playlist. in 2016, it was confirmed that ep lorde will be released on the label of morena, as part of lorde and the ting tings upcoming second album, i am lorde. the second single, \"burnin\" featuring chris brown, rick ross, and chris brown, reached number 43 on the hottest r&b songs of all time charts. in december 2017, hill released the fourth single, \"i dont even want it that bad\", featuring rick ross, chris brown, and mariah carey. hill returned to the billboard top 40 in may 2018 after a hiatus of three years leading up\n",
            "\n",
            "Saving checkpoint/run4/model-7700\n",
            "Saving checkpoint/run4/model-7800\n",
            "Saving checkpoint/run4/model-7900\n",
            "[8000 | 4958.78] loss=2.47 avg=2.61\n",
            "Saving checkpoint/run4/model-8000\n",
            "======== SAMPLE 1 ========\n",
            " denied the ndebele prophecy that the time will come in a few days when the kuoh god will strike terror into the dark ones.  on 27 march, he announced the prophecy to ken lohengu as a reference to the prophecy of the gospels, to include Jesus in 1 july at the beginning of the christian era. it was not a popular prophecy, for it implied that the kings reign would be prolonged in futility; it also implied that the dark ones would become extinct at a later time. this prophecy became known as a \"grey death\".james o. mormons i, the book of novenants  as it did not describe the future either, the book had only been published after the end of the war, and it was only in its final form then that it became available to the general public. the book of novenants is based on the proto-indian text umanasuti sutra, which includes the following sentence:that the day shall come when god shall dissolve the ungodliness of the god of wrath and judgment, or the wicked dominion of the wicked shall be destroyed.sons of holiness the book of the covenant says it will be a good thing either way or at all. it will be a good thing either way or at all.this time the covenant says its things to be \"a good thing\" and the time shall not be different, it is like being in a good situation with the enemy, but the enemy will give you a bad situation, it will be like this.therefore the time will come when the ungodliness of the god of wrath will be destroyed because he will bring wrath to the worlds.for the time will not soon come when the world will be saved unless the savior shall come, who is the son, the son of god, the son of mashi, the son of the sun; and the time shall not soon come until he cometh to the rescue of the world, unless he cometh to deliver it.these are but brief, that he has manifested himself in various stages, and now these are but brief, that he is going to become manifest.the prophet has spoken to the sons of mashi. those who have heard thus far the voice of the prophet say the day will come when god will bring wrath to the world, whether here, or in another plane of existence, for such a time there shall be wars with the devil, which will be the period that god will be.god cometh in the form of an angel to bring man into mortality. and out of this mortal body, this form is born. in this mortal body man shall come, who may be called by other names; for man comes in order, yea, and not in order, nor in succession.in this plane of existence, or this life-time, man was created. man was created in the very instant of birth. thus, there is but one supreme being, and the universe was created in the very instant of existence.there is a grand and glorious order of creation.the world is but a partial image of god, who is the archetype as described in divine categories called \"the worlds\". this order is represented by three categories: the \"alpha\" of matter  man and the \"beta\" of angels  \"thetan\" is the zodiac, and by means of the tonic each new planet has a god-given name, and is designated as a new creature in this terrestrial plane.in the third dimension, there are three levels of \"upward\" motion, a time interval of one dimension from now to the future.the zodiac in the christian dimension corresponds to the compass point, the \"star\" the term \"time\" was borrowed from the roman language, where it denoted a number related to the cycles of the moon, a planet that could be seen in the south pole and in the western sky. in this context, \"the heavens\" can refer to a period from now to the future. in other english language languages, such as swedish, the term is often prefixed to mean a particular time period  in the latin time zone, the time zone is usually associated with the easters date.the moon represents a transitional species in the animal kingdom, as it moves from the zodiac into the zodiacal phase of life during its major ecological transition, the phylocnemes.in astrology, the moon is a transitional species in the animal kingdom, moving from the \"correspondences\" of the animal kingdom into the \"developmentes\", \"generation\" or \"generation\" of the animal kingdom. it is the transition from the natural worlds toward the divine.in astrological horoscopes, the moon is depicted in five phases, from the classic roman phase of the animal kingdom up to the great transition, which is depicted in the zodiac signs. the three phases are as follows:in latin is taken to mean the \"world of\" the moon is a\n",
            "\n",
            "Saving checkpoint/run4/model-8100\n",
            "Saving checkpoint/run4/model-8200\n",
            "Saving checkpoint/run4/model-8300\n",
            "[8400 | 5207.09] loss=1.74 avg=2.56\n",
            "Saving checkpoint/run4/model-8400\n",
            "======== SAMPLE 1 ========\n",
            " especially in the form of words. however, in the english language, these words are not limited to capital letters: they can also take an infinitive infinitive, in which case their meaning is restricted to accents of the infinitive voice in the position of nouns or other objects of the word in turn, as in words like todays, or \"the best to date\" is a noun form of a verb. there are also infinitive pronouns, in which case the verb immediately followed by the adjective is the object being described. they are also used when a verb form is preceded by a noun form for some of which it is an indirect object. these verbs are often used as the primary verb to introduce a sentence structure that incorporates the passive participle. an indirect object is, more often, an object that is immediately following another in order. one sentence ends with the indirect object, yet another with the object at the end. infinitives may become the objects of another indirect verb, such as future participle of the verb for which the direct object ends with the gerund. a future participle of the verb, on the other hand, is the object of a passive participle.in many of the pre-columbian languages, the word is prefixed to the middle of the sentence: thus one starts with the infinitive, which normally precedes its participle. in the case of the middle of sentences, the infinitive prefixed to the middle of the sentences are the passive, which is the gerund of the verbs. the infinitive may or may not be active. examples are huilo, guaha, and malagasy. in the case of the end of sentences, the passive participle of the verbs is not prefixed: the active participle is instead prefixed to the gerund, as is often the case in the case of verbs that have a participle. in other words, the passive participle of the verb becomes the gerund of the verbs.in chinese, the infinitive is used to stand for the whole sentence, rather than to stand for a part of it. as a consequence, the sentence would be made longer by adding another word, or words that stand for other meaning, such as chinese for \"to all\" or \"most of it.\"  alternatively, one may also have a sentence that is made as if it were a preposition, as in old english, the noun is prefixed with a noun form of the verb the term for a person, place, or thing:for example:the verb to to is prefixed to the noun the verb to has gerunds with passive participle. these are the simplest and most common of the three types:in the case of verbs, the gerund is generally considered to be the subject, and it is the function of the writer, rather than the writer alone, to draw this out. the verb to is most rarely used after the agent, while the subject of a verbal noun is most commonly prefixed to the agent. the verbs which are the subject of an indirect object  and the indirect object and its sub-objects are not distinguished.in english, the words of the singular form are prefixed with \"to be.\" a pronoun is attached to the subject when it speaks, as in \"the doctor is speaking.\" the pronouns are unstressed, that is, when the person speaking refuses to use the name of the person speaking. a singular form of the verb is called a pronoun:the verb forms of the subordinating forms are sometimes combined. in this way, the form depends on whether the subject of the sentence is in a subordinate position:as a general rule, when a person or thing is first mentioned in the infinitive of an indirect object, it is not always the writer, but the listener, who speaks first. a sentence with a subject which does not yet have an active participle could have a pronoun formed:the passive participle of several verbs is usually attached to the subject. the different participals are not always used in the same sentence, but are used as a subordinate form of communication to indicate a passive-negative infinitive. the comma after verbs follows them:some verbs do not have prepositions, usually only counting the first syllable, but in rare circumstances, the preposition an, which indicates that the first syllable is in the infinitive. the pronoun formed is called an infinitive:its noun form is used in a variety of circumstances, such as in adjectives and adverbs to indicate the state of being.in some languages, the particle is usually used to indicate that a verb is the passive, in contrast to the active participle, as in the case of plurals. the use of \"to be\" as an infinitive is not universal, and is most often restricted to certain structures where the direct object of the sentence is a small animal. in other languages, the particle has little or no effect.the\n",
            "\n",
            "Saving checkpoint/run4/model-8500\n",
            "Saving checkpoint/run4/model-8600\n",
            "Saving checkpoint/run4/model-8700\n",
            "[8800 | 5456.09] loss=0.58 avg=2.46\n",
            "Saving checkpoint/run4/model-8800\n",
            "======== SAMPLE 1 ========\n",
            "ities to create new products, such as the super bowl or the super bowl xl and xl large format. the super bowl has been telecast per broadcast network in over 25 countries. the format of the show evolved in the 21st century when shows were developed to work with the format, such as the original american version of the super bowl the show has also been used as an outlet for films, documentaries and television programmes.in 2002, german entrepreneur frank gehry co-founded vvml, the corporate equivalent of a television network and launched its first venture into the commercial world in 2004. the brand is still closely associated with the german football league and the super bowl. the german version of the super bowl was sold out almost instantly.the super bowl was created by the american media group vf, inc., in 2011. its initial offering was aired on the premium cable channel, american family networks and later on amc and fox. the network was founded by gehry, and his business partner, ex-fcc commissioner, edmichael cooper. their hope is that their television channels reach millions of americans and become a success around the world. their other ambition is to build out the brand in other territories, such as north america, canada and new zealand.the networks schedule has changed continually. in its first two years, the networks programming schedule was fairly rigid. with each new edition the schedule was adjusted to coincide with the halftime show. in the early years, the show came as a 30-second commercial break; in later years, the show was edited to 40 seconds, and now includes a 10- or 15-minute average of commercial breaks and intermission. the broadcast starts at 4:30 pm or whenever \"tape\" ends. the show typically wraps around 8:00 pm; the beginning, end and last quarters are typically at 9:00 pm. at halftime, when \"tape\" ends and the \"time\" begins, the game generally begins at 10:00 pm. each quarters quarters game generally begins at 12:00 noon local time and concludes at 1:00 am local time. in the case of the super bowl, the time of the game is typically about an hour and a half long. in college play, the quarters are usually held at 1:30 am local time; in inter-sport play, they are usually held at 1:54 am local time. due to inclement weather, quarters and games can sometimes be postponed until later in the day, but are usually completed in the fall or winter if weather permits. the home team must play the opposing team in the first half to advance, and there are no advance-quarter games.the teams uniform is a black uniform with yellow piping and gold helmets. the uniform has sleeves and a collar made of metal, while the uniform also has an inner lining composed of a thin layer of cotton and a high mesh pocket for warm clothing. the helmet consists of a large pair of ear-pieces which are fused directly to form a visor to protect the face, and a front brim that face-plates, usually on the forehead, provide additional visor viscosity. the size of the piping and green vests varies widely, from 1 inch all the way up to 28 inches  traditionally, the number 2 was worn with golden or silver piping, but nowadays a single number is still worn to symbolize the number of a players. the number 1 has been worn with silver piping, but today the number 1 usually wears a gold body, and number 2 is often worn with silver piping, and number 3 commonly wears a silver body. in some countries, number 3 is still worn by players of the original indian football league  in the indian game of bharata veda, worn by heroes of the bharata varna gang, and number 1 as well by players of the royal indian army cadets, also had the symbol number 2.the team consists of an \"A\", consisting of three players the team composition is generally based on the number of forwards and wingers on an individual team. forwards are the player usually on the ball. the team may consist of three players, one of whom must be designated \"forward\", and one of whom must be designated \"wing\", either by number or profession. when two or more players are designated to play forward, they are referred to as forwards; when one of the players is designated to play a player from their team, they are referred to as wingers. it is most common practice to put the ball between the goalposts. when two or more players are designated to play forwards, they are referred to as forwards, and when one of those players is designated to play a player from their team, they are referred to as wingers. because of the differing terminology, there are different player ratings and expected goals allowances for these specific formations and personnel, and goals scored for these formations are called goals, and not necessarily called goals for the formation.forwards are considered\n",
            "\n",
            "Saving checkpoint/run4/model-8900\n",
            "Saving checkpoint/run4/model-9000\n",
            "Saving checkpoint/run4/model-9100\n",
            "[9200 | 5704.36] loss=1.69 avg=2.43\n",
            "Saving checkpoint/run4/model-9200\n",
            "======== SAMPLE 1 ========\n",
            " predacy and the modern \"high\" of \"the modern family\". this includes a group of people who grew up thinking of themselves as \"high society\" and who are, in fact, middle class. americans today sometimes use the term \"upper middle class\". in 1980 the united states census bureau stated that the united states population had grown from \"lowest in the early 1900s\" to \"not less than the highest in the early to mid-2000s\".in 2019, a paper published by the chicago school of medicine suggests that \"america can and should be more middle class, not lower\", even if lower-class.the u.s. economic situation differs markedly from what would have been imagined by european or western intellectuals a century ago. the great depression led to high unemployment, coupled with government policy in which monetary policy was tightened to create more demand for commodities. this in turn transformed the value of money from the gold of the gold and silver mines of the \"high\" classes into that of a medium of exchange for commodities. commodity prices rose leading to a devaluation of the dollar, which in turn meant higher commodity incomes for the middle class people of the united states and europe. in the 1970s, during the great depression, the european and japanese economies shrank in size due to depressed gold prices. this meant that currencies of low countries fell relative to their value when the boom years ended.in the 20th century, europe and japanese economies grew rapidly in the 20th century. the u.s. economy did not fully recover until after world war2% is more likely to get compared to the rest of the world. european and japanese economists say that the european and japanese economies are in a bear market because of weakness in gold prices.for 2011, the united states was estimated to have had a nominal Gini coefficient of 0.34, compared with a mean gini coefficient of 0.53 for the rest of the world.in developed countries with positive gross domestic product  gini coefficients can reflect a wide range, especially for sub-saharan africa, and for latin america and south america, where it is hard to distinguish between \"upper\" and \"lower\" classes. for this reason, a u.s. state can choose to be \"upper class\" if it is one of the \"right\" 20 percent of the population. in contrast, middle class people in rich countries with negative gini coefficients are often seen as having lower socioeconomic status.the perception within american society of economic privilege is illustrated by the fact that the vast majority  american women are considered to be \"middle class\". similarly, in the late 20th century, the wealthiest 20 percent in the united states received 21 percent of all foreign investments within their country, compared to the average of 7 percent for the rest of the world. the average gini coefficient for the richest 0.20 wealthiest individuals in the united states is 0.64, much lower than the average coefficient of variation for higher-income families and individuals in high-income countries.in the uk the gini coefficient is reported for the wealthiest 10%, of which the richest 50%  the average gini coefficient for the richest 0.0101, indicating economic inequality is narrowing, with some countries still lagging behind by decades or centuries; and the average u.s. gini coefficient is rising.while historically described as \"upper class\", american upper-class families have moved since the 1960s to the middle class today. this is partly because of a decline in the price of housing, partly because of family-style changes to the workplace, and partly because of the creation of more choice of educational and career paths leading to the \"rich move\".the upper crust is a class of people above the middle class, usually designated as middle class.middle class is not always synonymous with being wealthy. some families can earn an income in excess of the median income, but if the family does not have more than $100,000 in savings and have a saverly, non-cash main source of wealth such as a trust fund, then the person is often classed as lower class. there are two kinds of middle class in europe. the terms are quite clearly defined, and their different implications for money and money-saving strategies are perhaps best illustrated by a look at which european nations most often feature in our cross-section of the rich and poor. the richest households in europe typically hold european passports, but also hold other nationality or legal permanent residence in other regions. some people hold two passports, and some have three or more. if an individual has a second work permit, which is harder to get but is more necessary and potentially more rewarding, than permission to work, then he or she may be classed as middle class; if they hold one work permit and one or more work permits, then they are classed as a rich person. a great deal\n",
            "\n",
            "Saving checkpoint/run4/model-9300\n",
            "Saving checkpoint/run4/model-9400\n",
            "Saving checkpoint/run4/model-9500\n",
            "[9600 | 5952.57] loss=0.97 avg=2.36\n",
            "Saving checkpoint/run4/model-9600\n",
            "======== SAMPLE 1 ========\n",
            " use a variety of skills to provide assistance and to provide support, such as psychotherapy, nursing assistance, civil defense, emergency medical services, disaster worker education, education about local schools, and referrals to counseling agencies that specialize in specific skills. to receive support for a mental illness, any person may contact the national suicide prevention keep the peace, respect authority as an institution devoted to the prevention and protection of interpersonal violence. the first signs of a national bias against black people can be seen in the 1940s.during the 1960s, several black dentists were killed after racism was shown to be a contributing factor in the increasing rate of violence in american society. later research was challenged by the national associations for the purpose of finding a remedy in the situation. this is not to say that racial diversity is detrimental to anyone. it is seen as part of a complex interaction between historical racial biases, societys modern attitudes toward race, and the american colonial past enslaving many african americans.in the twentieth century, african americans became increasingly disenfranchised. as of 2011, black people comprised 13 percent of elected federal offices nationwide, and twenty-six percent of states in the united states. however, the results for state governments were mixed: in the nineteen states that have a statewide system, african americans hold only 4.6 percent of the states legislatures, and the african american population is shrinking. the states with the highest percentages of african americans are miami, new york, and binghamton. african americans are also underrepresented in the military, government, and the legal profession.according to a 2004 study, the u.s. has a lgbt problem. the study found that 16.2% of the u.s. population is gay, lesbian, or bisexual; this number increased to 25.8% in 2006. the study also found that 35.8 percent of the us population is unsure or unsure about their sexual orientation. this number may rise as new information becomes available. the study also found that 22.3% of the population is bisexual; this number decreased to 14.3% in 2012. the study found that 23.5% of the u.s. community believes that homosexual acts should be illegal. in 2012, the national bureau of economic research released the results of its \"most important determinants of health\" study, which showed that parents who support their children from birth are the most important thing, as opposed to supporting them from birth to maturity. the study found that, \"as infants consume the largest amount of food and drink of any source, most important life decisions are being made in terms of which organs are consumed to determine the composition and timing of intake. \"if children start eating at a fast rate, that causes the parents to start passing more food in their body, and that in turn causes them to start passing more food in their body, and so on, until some critical points where they are actually dehydrated, exhausted, and so on, etc.\"  the study found that, \"…the greater the amount of calories consumed, the greater the risk of heart disease, hypertension, obesity and diabetes. in high-risk individuals, the excess body fat is a risk factor for heart disease.\" because of the increased consumption of body fat around the time of puberty, studies suggest that this could lead to a higher tendency towards heart disease.fruits from certain species contain bisphenolic compounds. the american institute for religious research found that \"consumption of fruit extract, usually from blueberries, may significantly increase risk of cardiovascular diseases and overall cardiovascular disease mortality compared with consumption of whole apples, baked or roasted\". the uk hampshire hussle group has given advice to those considering the consumption of bhsd, including advice to \"avoid high fructose corn syrup and stevia.\" the group also recommended that avoidance of stevia, high fructose corn syrup, and other ingredients in bhsd could lower levels of oxidative damage in the body. a review of clinical studies on the effects of bhsd on coronary artery disease risk factors showed that it may be effective as a weight-loss treatment for obesity.in 2017, a bhsd diet was associated with risk factors for angina and aortic stenosis, with a 15% risk of cardiovascular events as an increased mortality from ischemic heart disease. bhsd is associated with \"higher consumption of dairy products, fruits, vegetables, nuts, seeds, and beans\" and \"higher consumption of processed black and white meat, leafy green vegetables, coffee, and tea\" compared to non-bhsd diets. however, the american academy of pediatrics and gastroenterology states that a higher intake of nuts and seeds is associated with lower risks of ischemic heart disease.research on the beneficial effects of a low-fat vegetarian diet on cardiovascular disease risk factors and risk factors for angina has been limited. this appears to require a low intake of saturated fat to benefit from this. there is\n",
            "\n",
            "Saving checkpoint/run4/model-9700\n",
            "Saving checkpoint/run4/model-9800\n",
            "Saving checkpoint/run4/model-9900\n",
            "[10000 | 6202.39] loss=2.06 avg=2.35\n",
            "Saving checkpoint/run4/model-10000\n",
            "======== SAMPLE 1 ========\n",
            "is, which is often used in the united kingdom and other places overseas, is sold \"by the pound\" rather than by the pound. the pound sterling system was introduced in the united kingdom in 1639, implemented in 1707 and finally abandoned in 1709, with most of the remaining currency held in foreign banks. the first american pound was launched in 1636. the first american dollar was minted in 1639 and the second dollar was launched in 1661. however, these were only the first years of the american revolution until it was superseded by the gold standard in 1799.during the napoleonic era, the united states was the worlds largest gold importer. from about 1715, the united states gained a larger role in world trade following the napoleonic wars. the 1720 treaty of ghent and the 1732 treaty of chambord were the most important bilateral treaties. during the napoleonic era, the united states maintained a large trade surplus with the british empire. the 1730 banking reform act gave the federal government authority over \"all public corporations in the several states\" and gave depositors in those states exclusive control over public funds.  this created a powerful banking lobby which controlled the federal government and nearly all of congress. during the napoleonic era, the united states military occupation of the french island of saint george and british naval blockade of saint drake, the u.s. military was embroiled in three wars: the first in france and the last in britain. in 1740 the american revolutionary war, originally intended to force the british to relinquish saint george, became a naval war waged from fort leger to american soil.american civil war took an almost identical turn. congress came to split over the victorias refusal to relinquish texas territory and the continued occupation of benito cristo maxwell during the corinthian wars. this war ultimately concluded with the peace of west palm beach in november 1812. congress came to the conclusion that it would be better to leave the war to the royal navy. the second american civil war, again fought on american soil, resulted in the british taking out much of the gold fields of the united states. in the american civil war, the major battles were the founding of wall street and the battle of the austin branch. in the battle of austin, the united states defeated british general william hugh and established a military relationship with the british empire. the battle was followed by the british defeat at elizabethan heights and the british surrender. congress, now effectively controlled by the royal navy, continued to push for peace in europe.the american civil war provided a seminal event to the development of the nation. the conflict inspired britain to arm its colonies and provide military assistance to the allies of the fledgling nation. the war also shifted hawaiian policy toward self-sufficiency in defence and sparked a revival of hawaiian-amian nationalism.briton and american foreign policy, circa 1790 to 1793, was based on a policy of british dominion over the then-dubai province of the indian subcontinent, administered by a governor with limited powers. the objective of british foreign policy was to ensure that europe would have ample supply of cheap labor to exploit british industry at the expense of the indian population. the british took advantage of this supply of labor by offering generous wages to the slaves they imported from west africa and asia toil in the gold mines. british economic policy was directed at furthering the interests of the united states and europe, and was based on the maxim the more developed economy would tend to favor the east and the south.british colonization of the americas provided the impetus for the birth of a new nation, the united states, which quickly grew to become the nations largest trading partner. the british had the advantage of not having to compete with the new york republic, the rival government of the state of massachusetts , jay crow issued a decree abolishing blacksmiths and smiths apprenticeship during the first national historic period of the nineteenth century. robert thomas thomas blackstone, the first african american to be tried for treason, was executed in february 1775.the british east india company, which had founded the colony of florida in 1719 and to which the british crown had given limited protection in 1764, was the only british company chartered by the crown when the king and his ministers of state and commons returned to britain from july 1772. the british retained the royal charter of labor to limit the work they could undertake to working upon the subjects of the crown and the nobility.the british established six guilds to service their commercial interests in the\n",
            "\n",
            "Saving checkpoint/run4/model-10100\n",
            "Saving checkpoint/run4/model-10200\n",
            "Saving checkpoint/run4/model-10300\n",
            "[10400 | 6450.61] loss=1.33 avg=2.30\n",
            "Saving checkpoint/run4/model-10400\n"
          ],
          "name": "stdout"
        }
      ]
    },
    {
      "cell_type": "markdown",
      "metadata": {
        "id": "RZXI05joCUnz"
      },
      "source": [
        "## Generating articles\r\n",
        "\r\n",
        "putting articles into a dataframe"
      ]
    },
    {
      "cell_type": "code",
      "metadata": {
        "id": "RY8QjVYoE301",
        "colab": {
          "base_uri": "https://localhost:8080/"
        },
        "outputId": "ce69721a-c221-4498-a00d-efd91125964c"
      },
      "source": [
        "fakes = []\r\n",
        "Human = []\r\n",
        "AI = []\r\n",
        "#this loop takes 3 hours to run\r\n",
        "for i in range(180):\r\n",
        "  print(i) #Just to track progress\r\n",
        "  text = gpt2.generate(sess, return_as_list=True, run_name='run4')[0]\r\n",
        "  fakes.append(text)\r\n",
        "  Human.append(0)\r\n",
        "  AI.append(1)"
      ],
      "execution_count": null,
      "outputs": [
        {
          "output_type": "stream",
          "text": [
            "0\n",
            "1\n",
            "2\n",
            "3\n",
            "4\n",
            "5\n",
            "6\n",
            "7\n",
            "8\n",
            "9\n",
            "10\n",
            "11\n",
            "12\n",
            "13\n",
            "14\n",
            "15\n",
            "16\n",
            "17\n",
            "18\n",
            "19\n",
            "20\n",
            "21\n",
            "22\n",
            "23\n",
            "24\n",
            "25\n",
            "26\n",
            "27\n",
            "28\n",
            "29\n",
            "30\n",
            "31\n",
            "32\n",
            "33\n",
            "34\n",
            "35\n",
            "36\n",
            "37\n",
            "38\n",
            "39\n",
            "40\n",
            "41\n",
            "42\n",
            "43\n",
            "44\n",
            "45\n",
            "46\n",
            "47\n",
            "48\n",
            "49\n",
            "50\n",
            "51\n",
            "52\n",
            "53\n",
            "54\n",
            "55\n",
            "56\n",
            "57\n",
            "58\n",
            "59\n",
            "60\n",
            "61\n",
            "62\n",
            "63\n",
            "64\n",
            "65\n",
            "66\n",
            "67\n",
            "68\n",
            "69\n",
            "70\n",
            "71\n",
            "72\n",
            "73\n",
            "74\n",
            "75\n",
            "76\n",
            "77\n",
            "78\n",
            "79\n",
            "80\n",
            "81\n",
            "82\n",
            "83\n",
            "84\n",
            "85\n",
            "86\n",
            "87\n",
            "88\n",
            "89\n",
            "90\n",
            "91\n",
            "92\n",
            "93\n",
            "94\n",
            "95\n",
            "96\n",
            "97\n",
            "98\n",
            "99\n",
            "100\n",
            "101\n",
            "102\n",
            "103\n",
            "104\n",
            "105\n",
            "106\n",
            "107\n",
            "108\n",
            "109\n",
            "110\n",
            "111\n",
            "112\n",
            "113\n",
            "114\n",
            "115\n",
            "116\n",
            "117\n",
            "118\n",
            "119\n",
            "120\n",
            "121\n",
            "122\n",
            "123\n",
            "124\n",
            "125\n",
            "126\n",
            "127\n",
            "128\n",
            "129\n",
            "130\n",
            "131\n",
            "132\n",
            "133\n",
            "134\n",
            "135\n",
            "136\n",
            "137\n",
            "138\n",
            "139\n",
            "140\n",
            "141\n",
            "142\n",
            "143\n",
            "144\n",
            "145\n",
            "146\n",
            "147\n",
            "148\n",
            "149\n",
            "150\n",
            "151\n",
            "152\n",
            "153\n",
            "154\n",
            "155\n",
            "156\n",
            "157\n",
            "158\n",
            "159\n",
            "160\n",
            "161\n",
            "162\n",
            "163\n",
            "164\n",
            "165\n",
            "166\n",
            "167\n",
            "168\n",
            "169\n",
            "170\n",
            "171\n",
            "172\n",
            "173\n",
            "174\n",
            "175\n",
            "176\n",
            "177\n",
            "178\n",
            "179\n"
          ],
          "name": "stdout"
        }
      ]
    },
    {
      "cell_type": "code",
      "metadata": {
        "colab": {
          "base_uri": "https://localhost:8080/",
          "height": 402
        },
        "id": "Ne07A0SiBoVn",
        "outputId": "3eebd1ed-0ddf-4b1d-a83d-e1e70330a007"
      },
      "source": [
        "import pandas as pd\r\n",
        "\r\n",
        "df = pd.DataFrame(fakes)\r\n",
        "df.columns = ['Text']\r\n",
        "df['Human'] = Human\r\n",
        "df['AI'] = AI\r\n",
        "df"
      ],
      "execution_count": null,
      "outputs": [
        {
          "output_type": "execute_result",
          "data": {
            "text/html": [
              "<div>\n",
              "<style scoped>\n",
              "    .dataframe tbody tr th:only-of-type {\n",
              "        vertical-align: middle;\n",
              "    }\n",
              "\n",
              "    .dataframe tbody tr th {\n",
              "        vertical-align: top;\n",
              "    }\n",
              "\n",
              "    .dataframe thead th {\n",
              "        text-align: right;\n",
              "    }\n",
              "</style>\n",
              "<table border=\"1\" class=\"dataframe\">\n",
              "  <thead>\n",
              "    <tr style=\"text-align: right;\">\n",
              "      <th></th>\n",
              "      <th>Text</th>\n",
              "      <th>Human</th>\n",
              "      <th>AI</th>\n",
              "    </tr>\n",
              "  </thead>\n",
              "  <tbody>\n",
              "    <tr>\n",
              "      <th>0</th>\n",
              "      <td>the german army defeated the austro-hungarian...</td>\n",
              "      <td>0</td>\n",
              "      <td>1</td>\n",
              "    </tr>\n",
              "    <tr>\n",
              "      <th>1</th>\n",
              "      <td>of the species, the ancestors have been found...</td>\n",
              "      <td>0</td>\n",
              "      <td>1</td>\n",
              "    </tr>\n",
              "    <tr>\n",
              "      <th>2</th>\n",
              "      <td>if a person is placed in a situation that pose...</td>\n",
              "      <td>0</td>\n",
              "      <td>1</td>\n",
              "    </tr>\n",
              "    <tr>\n",
              "      <th>3</th>\n",
              "      <td>2014 marks the first time in seven decades tha...</td>\n",
              "      <td>0</td>\n",
              "      <td>1</td>\n",
              "    </tr>\n",
              "    <tr>\n",
              "      <th>4</th>\n",
              "      <td>2016 was a year of transition for mormon women...</td>\n",
              "      <td>0</td>\n",
              "      <td>1</td>\n",
              "    </tr>\n",
              "    <tr>\n",
              "      <th>...</th>\n",
              "      <td>...</td>\n",
              "      <td>...</td>\n",
              "      <td>...</td>\n",
              "    </tr>\n",
              "    <tr>\n",
              "      <th>175</th>\n",
              "      <td>by jonathan rosen\\n\\njonathan rosen is a senio...</td>\n",
              "      <td>0</td>\n",
              "      <td>1</td>\n",
              "    </tr>\n",
              "    <tr>\n",
              "      <th>176</th>\n",
              "      <td>he was able to maintain good relations with t...</td>\n",
              "      <td>0</td>\n",
              "      <td>1</td>\n",
              "    </tr>\n",
              "    <tr>\n",
              "      <th>177</th>\n",
              "      <td>mealworms are shed during the larval phase of ...</td>\n",
              "      <td>0</td>\n",
              "      <td>1</td>\n",
              "    </tr>\n",
              "    <tr>\n",
              "      <th>178</th>\n",
              "      <td>by\\n\\nby 2015, syrian president muammar gaddaf...</td>\n",
              "      <td>0</td>\n",
              "      <td>1</td>\n",
              "    </tr>\n",
              "    <tr>\n",
              "      <th>179</th>\n",
              "      <td>1928: the first automobile and motorcycle taxi...</td>\n",
              "      <td>0</td>\n",
              "      <td>1</td>\n",
              "    </tr>\n",
              "  </tbody>\n",
              "</table>\n",
              "<p>180 rows × 3 columns</p>\n",
              "</div>"
            ],
            "text/plain": [
              "                                                  Text  Human  AI\n",
              "0     the german army defeated the austro-hungarian...      0   1\n",
              "1     of the species, the ancestors have been found...      0   1\n",
              "2    if a person is placed in a situation that pose...      0   1\n",
              "3    2014 marks the first time in seven decades tha...      0   1\n",
              "4    2016 was a year of transition for mormon women...      0   1\n",
              "..                                                 ...    ...  ..\n",
              "175  by jonathan rosen\\n\\njonathan rosen is a senio...      0   1\n",
              "176   he was able to maintain good relations with t...      0   1\n",
              "177  mealworms are shed during the larval phase of ...      0   1\n",
              "178  by\\n\\nby 2015, syrian president muammar gaddaf...      0   1\n",
              "179  1928: the first automobile and motorcycle taxi...      0   1\n",
              "\n",
              "[180 rows x 3 columns]"
            ]
          },
          "metadata": {
            "tags": []
          },
          "execution_count": 6
        }
      ]
    },
    {
      "cell_type": "code",
      "metadata": {
        "id": "jD4MGV-26TrA"
      },
      "source": [
        "df.to_csv('drive/MyDrive/Generated.csv')"
      ],
      "execution_count": null,
      "outputs": []
    },
    {
      "cell_type": "markdown",
      "metadata": {
        "id": "Cj4xIy9Mohn1"
      },
      "source": [
        "If you want to see the text classifier continue here: https://colab.research.google.com/github/spe301/Wikipedia-Capstone/blob/main/Discriminator.ipynb"
      ]
    }
  ]
}